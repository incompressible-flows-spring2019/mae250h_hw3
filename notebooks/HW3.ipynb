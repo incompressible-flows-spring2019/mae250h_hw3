{
 "cells": [
  {
   "cell_type": "markdown",
   "metadata": {
    "nbpresent": {
     "id": "0a4b1d46-32e0-4da0-9fb7-c314e8423623"
    }
   },
   "source": [
    "### A starting notebook for homework 3"
   ]
  },
  {
   "cell_type": "markdown",
   "metadata": {
    "nbpresent": {
     "id": "274484ac-d519-4a9d-ab13-4d0b16c6f499"
    }
   },
   "source": [
    "The next line activates the environment in which we are working on HW3. It is assumed that you already generated this environment, per the instructions in the document *UsingJulia.pdf*"
   ]
  },
  {
   "cell_type": "code",
   "execution_count": 1,
   "metadata": {
    "nbpresent": {
     "id": "e16e9d06-0e2d-40ea-a2f3-a19575321336"
    }
   },
   "outputs": [
    {
     "data": {
      "text/plain": [
       "\"/Users/jeff/Dropbox/MAE250H/julia/HW3/Project.toml\""
      ]
     },
     "execution_count": 1,
     "metadata": {},
     "output_type": "execute_result"
    }
   ],
   "source": [
    "using Pkg\n",
    "Pkg.activate(\"/Users/jeff/Dropbox/MAE250H/julia/HW3\")"
   ]
  },
  {
   "cell_type": "markdown",
   "metadata": {
    "nbpresent": {
     "id": "db95657d-5269-439d-906d-1c796882d8de"
    }
   },
   "source": [
    "These load in some packages useful for this notebook"
   ]
  },
  {
   "cell_type": "code",
   "execution_count": 2,
   "metadata": {
    "nbpresent": {
     "id": "bdf51d95-b742-4cb3-bcc6-f6db83309594"
    },
    "scrolled": true
   },
   "outputs": [
    {
     "name": "stderr",
     "output_type": "stream",
     "text": [
      "┌ Info: Recompiling stale cache file /Users/jeff/.julia/compiled/v1.1/Revise/M1Qoh.ji for Revise [295af30f-e4ad-537b-8983-00126c2a3abe]\n",
      "└ @ Base loading.jl:1184\n",
      "[ Info: Generating builtins for this julia version...\n"
     ]
    }
   ],
   "source": [
    "using Revise\n",
    "using Plots\n",
    "using LinearAlgebra\n",
    "using HW3"
   ]
  },
  {
   "cell_type": "markdown",
   "metadata": {
    "nbpresent": {
     "id": "79f2e526-b11b-46ca-a8ce-1de050d57216"
    }
   },
   "source": [
    "### Using 1-D data types"
   ]
  },
  {
   "cell_type": "code",
   "execution_count": 3,
   "metadata": {
    "nbpresent": {
     "id": "be90e198-c676-4541-96de-ff7235a6a424"
    }
   },
   "outputs": [
    {
     "data": {
      "text/plain": [
       "5-element HW3.CellData1D{3}:\n",
       " 1.0\n",
       " 1.0\n",
       " 1.0\n",
       " 1.0\n",
       " 1.0"
      ]
     },
     "execution_count": 3,
     "metadata": {},
     "output_type": "execute_result"
    }
   ],
   "source": [
    "w = ones(5)\n",
    "p = HW3.CellData1D(w)"
   ]
  },
  {
   "cell_type": "code",
   "execution_count": 4,
   "metadata": {
    "nbpresent": {
     "id": "0e726e32-daf6-4d41-bf96-2fefc808b9c4"
    }
   },
   "outputs": [
    {
     "data": {
      "text/plain": [
       "(5,)"
      ]
     },
     "execution_count": 4,
     "metadata": {},
     "output_type": "execute_result"
    }
   ],
   "source": [
    "size(p)"
   ]
  },
  {
   "cell_type": "code",
   "execution_count": 5,
   "metadata": {
    "nbpresent": {
     "id": "0d616f85-e20a-4b4c-8b71-0dd4299680e8"
    }
   },
   "outputs": [
    {
     "data": {
      "text/plain": [
       "7-element HW3.CellData1D{5}:\n",
       " 0.0\n",
       " 0.0\n",
       " 0.0\n",
       " 0.0\n",
       " 0.0\n",
       " 0.0\n",
       " 0.0"
      ]
     },
     "execution_count": 5,
     "metadata": {},
     "output_type": "execute_result"
    }
   ],
   "source": [
    "p = HW3.CellData1D(5)"
   ]
  },
  {
   "cell_type": "markdown",
   "metadata": {
    "nbpresent": {
     "id": "1b8ce0a3-b9dd-4e9f-8b46-8ba49fc749ee"
    }
   },
   "source": [
    "We can index `p` as though it were an array itself:"
   ]
  },
  {
   "cell_type": "code",
   "execution_count": 6,
   "metadata": {
    "nbpresent": {
     "id": "fdd729f2-9808-4769-8c51-88e0988060d1"
    }
   },
   "outputs": [
    {
     "data": {
      "text/plain": [
       "7-element HW3.CellData1D{5}:\n",
       " 0.0\n",
       " 0.0\n",
       " 0.0\n",
       " 0.0\n",
       " 1.0\n",
       " 0.0\n",
       " 0.0"
      ]
     },
     "execution_count": 6,
     "metadata": {},
     "output_type": "execute_result"
    }
   ],
   "source": [
    "p[5] = 1\n",
    "p"
   ]
  },
  {
   "cell_type": "code",
   "execution_count": 7,
   "metadata": {
    "nbpresent": {
     "id": "44fa5798-fad2-4027-8ba7-acf9cd8e1c40"
    }
   },
   "outputs": [
    {
     "data": {
      "text/plain": [
       "4-element Array{Float64,1}:\n",
       " 0.0\n",
       " 0.0\n",
       " 0.0\n",
       " 1.0"
      ]
     },
     "execution_count": 7,
     "metadata": {},
     "output_type": "execute_result"
    }
   ],
   "source": [
    "p[2:5]"
   ]
  },
  {
   "cell_type": "markdown",
   "metadata": {
    "nbpresent": {
     "id": "ed45ac09-dade-4b55-a72c-9239f906b78c"
    }
   },
   "source": [
    "For example, if we want to make a copy of `p`, we might do this:"
   ]
  },
  {
   "cell_type": "code",
   "execution_count": 8,
   "metadata": {
    "nbpresent": {
     "id": "4918e55d-f80c-47d6-8cc6-2f247fb403d3"
    }
   },
   "outputs": [
    {
     "data": {
      "text/plain": [
       "7-element HW3.CellData1D{5}:\n",
       " 0.0\n",
       " 0.0\n",
       " 0.0\n",
       " 0.0\n",
       " 1.0\n",
       " 0.0\n",
       " 0.0"
      ]
     },
     "execution_count": 8,
     "metadata": {},
     "output_type": "execute_result"
    }
   ],
   "source": [
    "p2 = HW3.CellData1D(p)\n",
    "p2 .= p"
   ]
  },
  {
   "cell_type": "markdown",
   "metadata": {
    "nbpresent": {
     "id": "f3d07b42-67f4-47d9-801b-59125ff02a7a"
    }
   },
   "source": [
    "Now set up some edge data on the same grid"
   ]
  },
  {
   "cell_type": "code",
   "execution_count": 9,
   "metadata": {
    "nbpresent": {
     "id": "b16eafdb-bbf5-4080-abf6-1bcef3f474e5"
    }
   },
   "outputs": [
    {
     "data": {
      "text/plain": [
       "6-element HW3.EdgeData1D{5}:\n",
       " 0.0\n",
       " 0.0\n",
       " 0.0\n",
       " 0.0\n",
       " 0.0\n",
       " 0.0"
      ]
     },
     "execution_count": 9,
     "metadata": {},
     "output_type": "execute_result"
    }
   ],
   "source": [
    "q = HW3.EdgeData1D(p)"
   ]
  },
  {
   "cell_type": "code",
   "execution_count": 10,
   "metadata": {
    "nbpresent": {
     "id": "fa15ca18-a68f-4a6a-871b-4de8a3d498b8"
    }
   },
   "outputs": [
    {
     "data": {
      "text/plain": [
       "7-element HW3.CellData1D{5}:\n",
       " 0.0\n",
       " 0.0\n",
       " 0.0\n",
       " 0.0\n",
       " 1.0\n",
       " 0.0\n",
       " 0.0"
      ]
     },
     "execution_count": 10,
     "metadata": {},
     "output_type": "execute_result"
    }
   ],
   "source": [
    "p2 = HW3.CellData1D(p)\n",
    "p2 .= p"
   ]
  },
  {
   "cell_type": "code",
   "execution_count": 11,
   "metadata": {
    "nbpresent": {
     "id": "fd34ff0d-6d83-4a26-a7bc-fd51dc7f557b"
    }
   },
   "outputs": [
    {
     "data": {
      "text/plain": [
       "6-element HW3.EdgeData1D{5}:\n",
       " 0.0\n",
       " 0.0\n",
       " 0.0\n",
       " 0.0\n",
       " 0.0\n",
       " 0.0"
      ]
     },
     "execution_count": 11,
     "metadata": {},
     "output_type": "execute_result"
    }
   ],
   "source": [
    "q = HW3.EdgeData1D(p)"
   ]
  },
  {
   "cell_type": "code",
   "execution_count": 12,
   "metadata": {
    "nbpresent": {
     "id": "bee1e498-c4ba-465a-8c66-81eb8bb648a0"
    }
   },
   "outputs": [
    {
     "data": {
      "text/plain": [
       "5-element HW3.CellData1D{3}:\n",
       " -1.0\n",
       " -1.0\n",
       " -1.0\n",
       " -1.0\n",
       " -1.0"
      ]
     },
     "execution_count": 12,
     "metadata": {},
     "output_type": "execute_result"
    }
   ],
   "source": [
    "p = HW3.CellData1D(ones(5))\n",
    "p2 = -p"
   ]
  },
  {
   "cell_type": "code",
   "execution_count": 13,
   "metadata": {
    "nbpresent": {
     "id": "5cde63db-d597-4668-9433-5157de1af303"
    }
   },
   "outputs": [
    {
     "data": {
      "text/plain": [
       "5-element HW3.CellData1D{3}:\n",
       " 1.0\n",
       " 1.0\n",
       " 1.0\n",
       " 1.0\n",
       " 1.0"
      ]
     },
     "execution_count": 13,
     "metadata": {},
     "output_type": "execute_result"
    }
   ],
   "source": [
    "p = HW3.CellData1D(ones(5))"
   ]
  },
  {
   "cell_type": "code",
   "execution_count": 14,
   "metadata": {
    "nbpresent": {
     "id": "945e9cd3-b1b7-477f-89a3-8c2b04880437"
    }
   },
   "outputs": [],
   "source": [
    "using LinearAlgebra"
   ]
  },
  {
   "cell_type": "code",
   "execution_count": 15,
   "metadata": {
    "nbpresent": {
     "id": "9f4701b8-5839-41ff-8bb1-eec4cb6b9000"
    }
   },
   "outputs": [
    {
     "data": {
      "text/plain": [
       "0.4"
      ]
     },
     "execution_count": 15,
     "metadata": {},
     "output_type": "execute_result"
    }
   ],
   "source": [
    "p = HW3.CellData1D(ones(7))\n",
    "q = HW3.EdgeData1D(p)\n",
    "q.data[4] = 1\n",
    "q2 = 2*q\n",
    "dot(q,q2)"
   ]
  },
  {
   "cell_type": "code",
   "execution_count": 16,
   "metadata": {
    "nbpresent": {
     "id": "1743a074-62c1-451e-9cb0-859bcd2c5259"
    }
   },
   "outputs": [
    {
     "data": {
      "text/plain": [
       "6-element HW3.EdgeData1D{5}:\n",
       " 1.5\n",
       " 2.5\n",
       " 3.5\n",
       " 4.5\n",
       " 5.5\n",
       " 6.5"
      ]
     },
     "execution_count": 16,
     "metadata": {},
     "output_type": "execute_result"
    }
   ],
   "source": [
    "p = HW3.CellData1D(5)\n",
    "p.data .= 1:7\n",
    "q = HW3.EdgeData1D(p)\n",
    "HW3.translate!(q,p)"
   ]
  },
  {
   "cell_type": "code",
   "execution_count": 17,
   "metadata": {
    "nbpresent": {
     "id": "74725565-7213-4c00-b19f-4d28dc27432b"
    }
   },
   "outputs": [
    {
     "data": {
      "text/plain": [
       "6-element HW3.EdgeData1D{5}:\n",
       " 1.0\n",
       " 1.0\n",
       " 1.0\n",
       " 1.0\n",
       " 1.0\n",
       " 1.0"
      ]
     },
     "execution_count": 17,
     "metadata": {},
     "output_type": "execute_result"
    }
   ],
   "source": [
    "HW3.gradient(p)"
   ]
  },
  {
   "cell_type": "markdown",
   "metadata": {
    "nbpresent": {
     "id": "755ab093-96e2-477a-b8b2-c2b951a97e08"
    }
   },
   "source": [
    "### Time marching"
   ]
  },
  {
   "cell_type": "markdown",
   "metadata": {},
   "source": [
    "Here we will demonstrate how to use the RK time marching in HW3. We will integrate the very simple scalar-valued equation\n",
    "\n",
    "$$ \\frac{\\mathrm{d} u}{\\mathrm{d} t} = -t^2 $$\n",
    "\n",
    "subject to initial condition $u(0) = 1$. Obviously the exact solution is $u(t) = 1-t^3/3$."
   ]
  },
  {
   "cell_type": "code",
   "execution_count": 18,
   "metadata": {
    "nbpresent": {
     "id": "49f808c6-2b93-4526-8470-3d8b44fe20c4"
    }
   },
   "outputs": [
    {
     "data": {
      "text/plain": [
       "uex (generic function with 1 method)"
      ]
     },
     "execution_count": 18,
     "metadata": {},
     "output_type": "execute_result"
    }
   ],
   "source": [
    "uex(t) = 1 - t^3/3"
   ]
  },
  {
   "cell_type": "markdown",
   "metadata": {},
   "source": [
    "#### Set the right-hand side function. This should take arguments `u` (the current state vector) and `t` (current time) and return du/dt."
   ]
  },
  {
   "cell_type": "code",
   "execution_count": 19,
   "metadata": {
    "nbpresent": {
     "id": "886b5fad-5708-4571-b8d5-ef22805feb38"
    }
   },
   "outputs": [
    {
     "data": {
      "text/plain": [
       "f1 (generic function with 1 method)"
      ]
     },
     "execution_count": 19,
     "metadata": {},
     "output_type": "execute_result"
    }
   ],
   "source": [
    "function f1(u,t)\n",
    "    du = deepcopy(u)\n",
    "    du[1] = -t^2\n",
    "    return du\n",
    "end"
   ]
  },
  {
   "cell_type": "markdown",
   "metadata": {},
   "source": [
    "Because the RK function only works on vectors of data, we need to set the scalar data as a 1-element vector:"
   ]
  },
  {
   "cell_type": "code",
   "execution_count": 20,
   "metadata": {
    "nbpresent": {
     "id": "522ab71b-8e42-40ba-a3b6-9eff93937652"
    }
   },
   "outputs": [
    {
     "data": {
      "text/plain": [
       "1-element Array{Float64,1}:\n",
       " 1.0"
      ]
     },
     "execution_count": 20,
     "metadata": {},
     "output_type": "execute_result"
    }
   ],
   "source": [
    "u0 = [1.0]"
   ]
  },
  {
   "cell_type": "markdown",
   "metadata": {},
   "source": [
    "Now set up the integrator and time-step size. Note that we supply an example of the state vector, the time step size, and the right-hand side function. We also specify the type of RK method; here, 4th-order Runge-Kutta."
   ]
  },
  {
   "cell_type": "code",
   "execution_count": 21,
   "metadata": {
    "nbpresent": {
     "id": "e46fadfa-c8d0-4f9b-a53d-60656011e14a"
    }
   },
   "outputs": [
    {
     "data": {
      "text/plain": [
       "Order-4 RK integator with\n",
       "   State of type Array{Float64,1}\n",
       "   Time step size 0.01\n"
      ]
     },
     "execution_count": 21,
     "metadata": {},
     "output_type": "execute_result"
    }
   ],
   "source": [
    "Δt = 0.01\n",
    "rk = HW3.RK(u0,Δt,f1;rk=HW3.RK4)"
   ]
  },
  {
   "cell_type": "markdown",
   "metadata": {},
   "source": [
    "Advance the solution to tf = 1. Copy the solution into arrays for later use."
   ]
  },
  {
   "cell_type": "code",
   "execution_count": 22,
   "metadata": {
    "nbpresent": {
     "id": "e9fcc7d5-5d81-4c31-a408-306f87e5e306"
    }
   },
   "outputs": [],
   "source": [
    "tf = 1.0\n",
    "nsteps = ceil(Int,tf/Δt)\n",
    "\n",
    "t = 0.0\n",
    "u = copy(u0)\n",
    "uarray = []\n",
    "tarray = []\n",
    "push!(uarray,u[1])\n",
    "push!(tarray,t)\n",
    "for j = 1:nsteps\n",
    "    t, u = rk(t,u)\n",
    "    push!(uarray,u[1])\n",
    "    push!(tarray,t)\n",
    "end"
   ]
  },
  {
   "cell_type": "markdown",
   "metadata": {},
   "source": [
    "Compare solution with exact solution. We get machine precision on this one because it is a low-order polynomial."
   ]
  },
  {
   "cell_type": "code",
   "execution_count": 23,
   "metadata": {
    "nbpresent": {
     "id": "18f1a35a-7504-4d19-8501-ad68ba34a69f"
    }
   },
   "outputs": [
    {
     "data": {
      "text/plain": [
       "5.700106010750188e-15"
      ]
     },
     "execution_count": 23,
     "metadata": {},
     "output_type": "execute_result"
    }
   ],
   "source": [
    "norm(uarray-uex.(tarray))"
   ]
  },
  {
   "cell_type": "code",
   "execution_count": 24,
   "metadata": {
    "nbpresent": {
     "id": "44698b13-2d11-4a3d-86bd-6c4b818a86d2"
    }
   },
   "outputs": [
    {
     "data": {
      "image/svg+xml": [
       "<?xml version=\"1.0\" encoding=\"utf-8\"?>\n",
       "<svg xmlns=\"http://www.w3.org/2000/svg\" xmlns:xlink=\"http://www.w3.org/1999/xlink\" width=\"600\" height=\"400\" viewBox=\"0 0 2400 1600\">\n",
       "<defs>\n",
       "  <clipPath id=\"clip8400\">\n",
       "    <rect x=\"0\" y=\"0\" width=\"2000\" height=\"2000\"/>\n",
       "  </clipPath>\n",
       "</defs>\n",
       "<defs>\n",
       "  <clipPath id=\"clip8401\">\n",
       "    <rect x=\"0\" y=\"0\" width=\"2400\" height=\"1600\"/>\n",
       "  </clipPath>\n",
       "</defs>\n",
       "<polygon clip-path=\"url(#clip8401)\" points=\"\n",
       "0,1600 2400,1600 2400,0 0,0 \n",
       "  \" fill=\"#ffffff\" fill-rule=\"evenodd\" fill-opacity=\"1\"/>\n",
       "<defs>\n",
       "  <clipPath id=\"clip8402\">\n",
       "    <rect x=\"480\" y=\"0\" width=\"1681\" height=\"1600\"/>\n",
       "  </clipPath>\n",
       "</defs>\n",
       "<polygon clip-path=\"url(#clip8401)\" points=\"\n",
       "161.394,1440.48 2321.26,1440.48 2321.26,47.2441 161.394,47.2441 \n",
       "  \" fill=\"#ffffff\" fill-rule=\"evenodd\" fill-opacity=\"1\"/>\n",
       "<defs>\n",
       "  <clipPath id=\"clip8403\">\n",
       "    <rect x=\"161\" y=\"47\" width=\"2161\" height=\"1394\"/>\n",
       "  </clipPath>\n",
       "</defs>\n",
       "<polyline clip-path=\"url(#clip8403)\" style=\"stroke:#000000; stroke-width:2; stroke-opacity:0.1; fill:none\" points=\"\n",
       "  161.394,1440.48 161.394,47.2441 \n",
       "  \"/>\n",
       "<polyline clip-path=\"url(#clip8403)\" style=\"stroke:#000000; stroke-width:2; stroke-opacity:0.1; fill:none\" points=\"\n",
       "  593.367,1440.48 593.367,47.2441 \n",
       "  \"/>\n",
       "<polyline clip-path=\"url(#clip8403)\" style=\"stroke:#000000; stroke-width:2; stroke-opacity:0.1; fill:none\" points=\"\n",
       "  1025.34,1440.48 1025.34,47.2441 \n",
       "  \"/>\n",
       "<polyline clip-path=\"url(#clip8403)\" style=\"stroke:#000000; stroke-width:2; stroke-opacity:0.1; fill:none\" points=\"\n",
       "  1457.31,1440.48 1457.31,47.2441 \n",
       "  \"/>\n",
       "<polyline clip-path=\"url(#clip8403)\" style=\"stroke:#000000; stroke-width:2; stroke-opacity:0.1; fill:none\" points=\"\n",
       "  1889.29,1440.48 1889.29,47.2441 \n",
       "  \"/>\n",
       "<polyline clip-path=\"url(#clip8403)\" style=\"stroke:#000000; stroke-width:2; stroke-opacity:0.1; fill:none\" points=\"\n",
       "  2321.26,1440.48 2321.26,47.2441 \n",
       "  \"/>\n",
       "<polyline clip-path=\"url(#clip8403)\" style=\"stroke:#000000; stroke-width:2; stroke-opacity:0.1; fill:none\" points=\"\n",
       "  161.394,1269.61 2321.26,1269.61 \n",
       "  \"/>\n",
       "<polyline clip-path=\"url(#clip8403)\" style=\"stroke:#000000; stroke-width:2; stroke-opacity:0.1; fill:none\" points=\"\n",
       "  161.394,875.301 2321.26,875.301 \n",
       "  \"/>\n",
       "<polyline clip-path=\"url(#clip8403)\" style=\"stroke:#000000; stroke-width:2; stroke-opacity:0.1; fill:none\" points=\"\n",
       "  161.394,480.988 2321.26,480.988 \n",
       "  \"/>\n",
       "<polyline clip-path=\"url(#clip8403)\" style=\"stroke:#000000; stroke-width:2; stroke-opacity:0.1; fill:none\" points=\"\n",
       "  161.394,86.6754 2321.26,86.6754 \n",
       "  \"/>\n",
       "<polyline clip-path=\"url(#clip8401)\" style=\"stroke:#000000; stroke-width:4; stroke-opacity:1; fill:none\" points=\"\n",
       "  161.394,1440.48 2321.26,1440.48 \n",
       "  \"/>\n",
       "<polyline clip-path=\"url(#clip8401)\" style=\"stroke:#000000; stroke-width:4; stroke-opacity:1; fill:none\" points=\"\n",
       "  161.394,1440.48 161.394,47.2441 \n",
       "  \"/>\n",
       "<polyline clip-path=\"url(#clip8401)\" style=\"stroke:#000000; stroke-width:4; stroke-opacity:1; fill:none\" points=\"\n",
       "  161.394,1440.48 161.394,1419.58 \n",
       "  \"/>\n",
       "<polyline clip-path=\"url(#clip8401)\" style=\"stroke:#000000; stroke-width:4; stroke-opacity:1; fill:none\" points=\"\n",
       "  593.367,1440.48 593.367,1419.58 \n",
       "  \"/>\n",
       "<polyline clip-path=\"url(#clip8401)\" style=\"stroke:#000000; stroke-width:4; stroke-opacity:1; fill:none\" points=\"\n",
       "  1025.34,1440.48 1025.34,1419.58 \n",
       "  \"/>\n",
       "<polyline clip-path=\"url(#clip8401)\" style=\"stroke:#000000; stroke-width:4; stroke-opacity:1; fill:none\" points=\"\n",
       "  1457.31,1440.48 1457.31,1419.58 \n",
       "  \"/>\n",
       "<polyline clip-path=\"url(#clip8401)\" style=\"stroke:#000000; stroke-width:4; stroke-opacity:1; fill:none\" points=\"\n",
       "  1889.29,1440.48 1889.29,1419.58 \n",
       "  \"/>\n",
       "<polyline clip-path=\"url(#clip8401)\" style=\"stroke:#000000; stroke-width:4; stroke-opacity:1; fill:none\" points=\"\n",
       "  2321.26,1440.48 2321.26,1419.58 \n",
       "  \"/>\n",
       "<polyline clip-path=\"url(#clip8401)\" style=\"stroke:#000000; stroke-width:4; stroke-opacity:1; fill:none\" points=\"\n",
       "  161.394,1269.61 193.792,1269.61 \n",
       "  \"/>\n",
       "<polyline clip-path=\"url(#clip8401)\" style=\"stroke:#000000; stroke-width:4; stroke-opacity:1; fill:none\" points=\"\n",
       "  161.394,875.301 193.792,875.301 \n",
       "  \"/>\n",
       "<polyline clip-path=\"url(#clip8401)\" style=\"stroke:#000000; stroke-width:4; stroke-opacity:1; fill:none\" points=\"\n",
       "  161.394,480.988 193.792,480.988 \n",
       "  \"/>\n",
       "<polyline clip-path=\"url(#clip8401)\" style=\"stroke:#000000; stroke-width:4; stroke-opacity:1; fill:none\" points=\"\n",
       "  161.394,86.6754 193.792,86.6754 \n",
       "  \"/>\n",
       "<g clip-path=\"url(#clip8401)\">\n",
       "<text style=\"fill:#000000; fill-opacity:1; font-family:Arial,Helvetica Neue,Helvetica,sans-serif; font-size:48px; text-anchor:middle;\" transform=\"rotate(0, 161.394, 1494.48)\" x=\"161.394\" y=\"1494.48\">0.0</text>\n",
       "</g>\n",
       "<g clip-path=\"url(#clip8401)\">\n",
       "<text style=\"fill:#000000; fill-opacity:1; font-family:Arial,Helvetica Neue,Helvetica,sans-serif; font-size:48px; text-anchor:middle;\" transform=\"rotate(0, 593.367, 1494.48)\" x=\"593.367\" y=\"1494.48\">0.2</text>\n",
       "</g>\n",
       "<g clip-path=\"url(#clip8401)\">\n",
       "<text style=\"fill:#000000; fill-opacity:1; font-family:Arial,Helvetica Neue,Helvetica,sans-serif; font-size:48px; text-anchor:middle;\" transform=\"rotate(0, 1025.34, 1494.48)\" x=\"1025.34\" y=\"1494.48\">0.4</text>\n",
       "</g>\n",
       "<g clip-path=\"url(#clip8401)\">\n",
       "<text style=\"fill:#000000; fill-opacity:1; font-family:Arial,Helvetica Neue,Helvetica,sans-serif; font-size:48px; text-anchor:middle;\" transform=\"rotate(0, 1457.31, 1494.48)\" x=\"1457.31\" y=\"1494.48\">0.6</text>\n",
       "</g>\n",
       "<g clip-path=\"url(#clip8401)\">\n",
       "<text style=\"fill:#000000; fill-opacity:1; font-family:Arial,Helvetica Neue,Helvetica,sans-serif; font-size:48px; text-anchor:middle;\" transform=\"rotate(0, 1889.29, 1494.48)\" x=\"1889.29\" y=\"1494.48\">0.8</text>\n",
       "</g>\n",
       "<g clip-path=\"url(#clip8401)\">\n",
       "<text style=\"fill:#000000; fill-opacity:1; font-family:Arial,Helvetica Neue,Helvetica,sans-serif; font-size:48px; text-anchor:middle;\" transform=\"rotate(0, 2321.26, 1494.48)\" x=\"2321.26\" y=\"1494.48\">1.0</text>\n",
       "</g>\n",
       "<g clip-path=\"url(#clip8401)\">\n",
       "<text style=\"fill:#000000; fill-opacity:1; font-family:Arial,Helvetica Neue,Helvetica,sans-serif; font-size:48px; text-anchor:end;\" transform=\"rotate(0, 137.394, 1287.11)\" x=\"137.394\" y=\"1287.11\">0.7</text>\n",
       "</g>\n",
       "<g clip-path=\"url(#clip8401)\">\n",
       "<text style=\"fill:#000000; fill-opacity:1; font-family:Arial,Helvetica Neue,Helvetica,sans-serif; font-size:48px; text-anchor:end;\" transform=\"rotate(0, 137.394, 892.801)\" x=\"137.394\" y=\"892.801\">0.8</text>\n",
       "</g>\n",
       "<g clip-path=\"url(#clip8401)\">\n",
       "<text style=\"fill:#000000; fill-opacity:1; font-family:Arial,Helvetica Neue,Helvetica,sans-serif; font-size:48px; text-anchor:end;\" transform=\"rotate(0, 137.394, 498.488)\" x=\"137.394\" y=\"498.488\">0.9</text>\n",
       "</g>\n",
       "<g clip-path=\"url(#clip8401)\">\n",
       "<text style=\"fill:#000000; fill-opacity:1; font-family:Arial,Helvetica Neue,Helvetica,sans-serif; font-size:48px; text-anchor:end;\" transform=\"rotate(0, 137.394, 104.175)\" x=\"137.394\" y=\"104.175\">1.0</text>\n",
       "</g>\n",
       "<g clip-path=\"url(#clip8401)\">\n",
       "<text style=\"fill:#000000; fill-opacity:1; font-family:Arial,Helvetica Neue,Helvetica,sans-serif; font-size:66px; text-anchor:middle;\" transform=\"rotate(0, 1241.33, 1590.4)\" x=\"1241.33\" y=\"1590.4\">t</text>\n",
       "</g>\n",
       "<polyline clip-path=\"url(#clip8403)\" style=\"stroke:#009af9; stroke-width:4; stroke-opacity:1; fill:none\" points=\"\n",
       "  161.394,86.6754 182.993,86.6767 204.591,86.6859 226.19,86.7109 247.789,86.7595 269.387,86.8397 290.986,86.9593 312.585,87.1262 334.183,87.3483 355.782,87.6336 \n",
       "  377.381,87.9897 398.979,88.4248 420.578,88.9466 442.177,89.5631 463.775,90.282 485.374,91.1114 506.973,92.0591 528.571,93.1329 550.17,94.3408 571.769,95.6907 \n",
       "  593.367,97.1904 614.966,98.8478 636.565,100.671 658.163,102.667 679.762,104.845 701.36,107.212 722.959,109.777 744.558,112.546 766.156,115.529 787.755,118.732 \n",
       "  809.354,122.164 830.952,125.832 852.551,129.745 874.15,133.91 895.748,138.336 917.347,143.029 938.946,147.999 960.544,153.252 982.143,158.798 1003.74,164.643 \n",
       "  1025.34,170.795 1046.94,177.263 1068.54,184.055 1090.14,191.177 1111.73,198.639 1133.33,206.448 1154.93,214.611 1176.53,223.138 1198.13,232.035 1219.73,241.31 \n",
       "  1241.33,250.972 1262.93,261.029 1284.52,271.487 1306.12,282.356 1327.72,293.642 1349.32,305.355 1370.92,317.501 1392.52,330.089 1414.12,343.126 1435.71,356.621 \n",
       "  1457.31,370.581 1478.91,385.014 1500.51,399.928 1522.11,415.331 1543.71,431.231 1565.31,447.636 1586.91,464.553 1608.5,481.991 1630.1,499.957 1651.7,518.46 \n",
       "  1673.3,537.506 1694.9,557.105 1716.5,577.264 1738.1,597.99 1759.69,619.292 1781.29,641.178 1802.89,663.655 1824.49,686.731 1846.09,710.415 1867.69,734.714 \n",
       "  1889.29,759.636 1910.89,785.189 1932.48,811.38 1954.08,838.218 1975.68,865.711 1997.28,893.867 2018.88,922.692 2040.48,952.196 2062.08,982.386 2083.67,1013.27 \n",
       "  2105.27,1044.86 2126.87,1077.15 2148.47,1110.16 2170.07,1143.9 2191.67,1178.38 2213.27,1213.59 2234.87,1249.55 2256.46,1286.27 2278.06,1323.76 2299.66,1362.01 \n",
       "  2321.26,1401.05 \n",
       "  \"/>\n",
       "<polyline clip-path=\"url(#clip8403)\" style=\"stroke:#e26f46; stroke-width:4; stroke-opacity:1; fill:none\" points=\"\n",
       "  161.394,86.6754 182.993,86.6767 204.591,86.6859 226.19,86.7109 247.789,86.7595 269.387,86.8397 290.986,86.9593 312.585,87.1262 334.183,87.3483 355.782,87.6336 \n",
       "  377.381,87.9897 398.979,88.4248 420.578,88.9466 442.177,89.5631 463.775,90.282 485.374,91.1114 506.973,92.0591 528.571,93.1329 550.17,94.3408 571.769,95.6907 \n",
       "  593.367,97.1904 614.966,98.8478 636.565,100.671 658.163,102.667 679.762,104.845 701.36,107.212 722.959,109.777 744.558,112.546 766.156,115.529 787.755,118.732 \n",
       "  809.354,122.164 830.952,125.832 852.551,129.745 874.15,133.91 895.748,138.336 917.347,143.029 938.946,147.999 960.544,153.252 982.143,158.798 1003.74,164.643 \n",
       "  1025.34,170.795 1046.94,177.263 1068.54,184.055 1090.14,191.177 1111.73,198.639 1133.33,206.448 1154.93,214.611 1176.53,223.138 1198.13,232.035 1219.73,241.31 \n",
       "  1241.33,250.972 1262.93,261.029 1284.52,271.487 1306.12,282.356 1327.72,293.642 1349.32,305.355 1370.92,317.501 1392.52,330.089 1414.12,343.126 1435.71,356.621 \n",
       "  1457.31,370.581 1478.91,385.014 1500.51,399.928 1522.11,415.331 1543.71,431.231 1565.31,447.636 1586.91,464.553 1608.5,481.991 1630.1,499.957 1651.7,518.46 \n",
       "  1673.3,537.506 1694.9,557.105 1716.5,577.264 1738.1,597.99 1759.69,619.292 1781.29,641.178 1802.89,663.655 1824.49,686.731 1846.09,710.415 1867.69,734.714 \n",
       "  1889.29,759.636 1910.89,785.189 1932.48,811.38 1954.08,838.218 1975.68,865.711 1997.28,893.867 2018.88,922.692 2040.48,952.196 2062.08,982.386 2083.67,1013.27 \n",
       "  2105.27,1044.86 2126.87,1077.15 2148.47,1110.16 2170.07,1143.9 2191.67,1178.38 2213.27,1213.59 2234.87,1249.55 2256.46,1286.27 2278.06,1323.76 2299.66,1362.01 \n",
       "  2321.26,1401.05 \n",
       "  \"/>\n",
       "<polygon clip-path=\"url(#clip8401)\" points=\"\n",
       "1407.44,312.204 2249.26,312.204 2249.26,130.764 1407.44,130.764 \n",
       "  \" fill=\"#ffffff\" fill-rule=\"evenodd\" fill-opacity=\"1\"/>\n",
       "<polyline clip-path=\"url(#clip8401)\" style=\"stroke:#000000; stroke-width:4; stroke-opacity:1; fill:none\" points=\"\n",
       "  1407.44,312.204 2249.26,312.204 2249.26,130.764 1407.44,130.764 1407.44,312.204 \n",
       "  \"/>\n",
       "<polyline clip-path=\"url(#clip8401)\" style=\"stroke:#009af9; stroke-width:4; stroke-opacity:1; fill:none\" points=\"\n",
       "  1431.44,191.244 1575.44,191.244 \n",
       "  \"/>\n",
       "<g clip-path=\"url(#clip8401)\">\n",
       "<text style=\"fill:#000000; fill-opacity:1; font-family:Arial,Helvetica Neue,Helvetica,sans-serif; font-size:48px; text-anchor:start;\" transform=\"rotate(0, 1599.44, 208.744)\" x=\"1599.44\" y=\"208.744\">Numerical solution with RK4</text>\n",
       "</g>\n",
       "<polyline clip-path=\"url(#clip8401)\" style=\"stroke:#e26f46; stroke-width:4; stroke-opacity:1; fill:none\" points=\"\n",
       "  1431.44,251.724 1575.44,251.724 \n",
       "  \"/>\n",
       "<g clip-path=\"url(#clip8401)\">\n",
       "<text style=\"fill:#000000; fill-opacity:1; font-family:Arial,Helvetica Neue,Helvetica,sans-serif; font-size:48px; text-anchor:start;\" transform=\"rotate(0, 1599.44, 269.224)\" x=\"1599.44\" y=\"269.224\">Exact solution</text>\n",
       "</g>\n",
       "</svg>\n"
      ]
     },
     "execution_count": 24,
     "metadata": {},
     "output_type": "execute_result"
    }
   ],
   "source": [
    "plot(tarray,uarray,xlim=(0,tf),label=\"Numerical solution with RK4\")\n",
    "plot!(tarray,uex.(tarray),label=\"Exact solution\",xlabel=\"t\")"
   ]
  },
  {
   "cell_type": "code",
   "execution_count": null,
   "metadata": {
    "nbpresent": {
     "id": "4c4c1e4f-e2a3-4303-9077-6c95966b84ce"
    }
   },
   "outputs": [],
   "source": []
  }
 ],
 "metadata": {
  "kernelspec": {
   "display_name": "Julia 1.1.0",
   "language": "julia",
   "name": "julia-1.1"
  },
  "language_info": {
   "file_extension": ".jl",
   "mimetype": "application/julia",
   "name": "julia",
   "version": "1.1.0"
  }
 },
 "nbformat": 4,
 "nbformat_minor": 2
}
