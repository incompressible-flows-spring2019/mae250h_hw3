{
 "cells": [
  {
   "cell_type": "markdown",
   "metadata": {
    "nbpresent": {
     "id": "0a4b1d46-32e0-4da0-9fb7-c314e8423623"
    }
   },
   "source": [
    "### A starting notebook for 1D advection"
   ]
  },
  {
   "cell_type": "markdown",
   "metadata": {
    "nbpresent": {
     "id": "274484ac-d519-4a9d-ab13-4d0b16c6f499"
    }
   },
   "source": [
    "The next line activates the environment in which we are working on HW3. It is assumed that you already generated this environment, per the instructions in the document *UsingJulia.pdf*"
   ]
  },
  {
   "cell_type": "code",
   "execution_count": 3,
   "metadata": {
    "nbpresent": {
     "id": "e16e9d06-0e2d-40ea-a2f3-a19575321336"
    }
   },
   "outputs": [
    {
     "data": {
      "text/plain": [
       "\"/Users/jeff/Dropbox/MAE250H/julia/HW3/Project.toml\""
      ]
     },
     "execution_count": 3,
     "metadata": {},
     "output_type": "execute_result"
    }
   ],
   "source": [
    "using Pkg\n",
    "Pkg.activate(\"/Users/jeff/Dropbox/MAE250H/julia/HW3\")"
   ]
  },
  {
   "cell_type": "markdown",
   "metadata": {
    "nbpresent": {
     "id": "db95657d-5269-439d-906d-1c796882d8de"
    }
   },
   "source": [
    "Load some useful packages, including our own!"
   ]
  },
  {
   "cell_type": "code",
   "execution_count": 4,
   "metadata": {
    "nbpresent": {
     "id": "bdf51d95-b742-4cb3-bcc6-f6db83309594"
    },
    "scrolled": true
   },
   "outputs": [],
   "source": [
    "using Revise\n",
    "using Plots\n",
    "using FFTW\n",
    "using HW3"
   ]
  },
  {
   "cell_type": "markdown",
   "metadata": {
    "nbpresent": {
     "id": "ca9b6bc9-7cbe-4d9c-bc9a-b52cfa7645c8"
    }
   },
   "source": [
    "### 1-D Advection"
   ]
  },
  {
   "cell_type": "markdown",
   "metadata": {},
   "source": [
    "The goal of this problem is to solve\n",
    "\n",
    "$$ \\dfrac{\\partial u}{\\partial t} + c \\dfrac{\\partial u}{\\partial x} = 0$$\n",
    "\n",
    "on domain $x \\in [0,L]$ subject to periodic boundary conditions (period $L$) and initial condition\n",
    "\n",
    "$$ u(x,0) = \\dfrac{1}{\\sqrt{\\pi\\sigma^2}} \\mathrm{e}^{-(x-x_0)^2/\\sigma^2} \\cos[k_0(x-x_0)]$$\n",
    "\n",
    "where $x_0 = L/2$. We will keep $L = 1$ and $c = 1$, which is equivalent to non-dimensionalizing by these parameters. The objective is to explore dispersion and dissipation that result from the finite difference method. We will use cell-centered data for this problem."
   ]
  },
  {
   "cell_type": "markdown",
   "metadata": {
    "nbpresent": {
     "id": "621310d9-ecb5-4bab-9fae-7bc368a7e974"
    }
   },
   "source": [
    "Set up the physical domain"
   ]
  },
  {
   "cell_type": "code",
   "execution_count": 5,
   "metadata": {
    "nbpresent": {
     "id": "8a08e188-f6a4-4df2-b324-a81ef6a7d824"
    }
   },
   "outputs": [
    {
     "data": {
      "text/plain": [
       "0.0"
      ]
     },
     "execution_count": 5,
     "metadata": {},
     "output_type": "execute_result"
    }
   ],
   "source": [
    "L = 1  # length of domain\n",
    "xL = 0.0  # coordinate of left side of domain"
   ]
  },
  {
   "cell_type": "markdown",
   "metadata": {},
   "source": [
    "Set the physical parameters"
   ]
  },
  {
   "cell_type": "code",
   "execution_count": 6,
   "metadata": {},
   "outputs": [
    {
     "data": {
      "text/plain": [
       "1"
      ]
     },
     "execution_count": 6,
     "metadata": {},
     "output_type": "execute_result"
    }
   ],
   "source": [
    "c = 1  # wave speed"
   ]
  },
  {
   "cell_type": "markdown",
   "metadata": {
    "nbpresent": {
     "id": "6db4dccd-4ee7-4a47-8e85-3917a7eb3fb2"
    }
   },
   "source": [
    "Define the right-hand side functions. These can be supplied to the RK method to set up a time integrator."
   ]
  },
  {
   "cell_type": "code",
   "execution_count": 7,
   "metadata": {
    "nbpresent": {
     "id": "a411aa83-fd8f-4bc4-869d-75ed0e6c9f8a"
    }
   },
   "outputs": [
    {
     "data": {
      "text/plain": [
       "advect1d_periodic_bd1 (generic function with 1 method)"
      ]
     },
     "execution_count": 7,
     "metadata": {},
     "output_type": "execute_result"
    }
   ],
   "source": [
    "# RHS for central difference method\n",
    "function advect1d_periodic_cd2(u::HW3.CellData1D{N},t::Real) where {N}\n",
    "    du = HW3.CellData1D(u)\n",
    "    \n",
    "    # copy interior data at the ends of domain into opposite ghosts... this enforces the periodic boundary conditions\n",
    "    u[1]   = u[N+1]\n",
    "    u[N+2] = u[2]\n",
    "    \n",
    "    \n",
    "    # translate the cell data to edge data (a simple averaging of neighboring cell centers)\n",
    "    # then compute divergence of this edge data to get central difference at cell centers\n",
    "    q = HW3.EdgeData1D(u)\n",
    "    HW3.translate!(q,u)\n",
    "    du = HW3.divergence(q)\n",
    "    \n",
    "    return -c/Δx*du\n",
    "end\n",
    "\n",
    "# RHS for backward difference method\n",
    "function advect1d_periodic_bd1(u::HW3.CellData1D{N},t::Real) where {N}\n",
    "    du = HW3.CellData1D(u)\n",
    "    \n",
    "    # copy interior data at the ends of domain into opposite ghosts... this enforces the periodic boundary conditions\n",
    "    u[1]   = u[N+1]\n",
    "    u[N+2] = u[2]\n",
    "    \n",
    "    # Compute the gradient at edges, then copy edge data into cell centers immediately to the right\n",
    "    # to obtain backward differencing. edge i to cell i+1\n",
    "    q = HW3.gradient(u)\n",
    "    du[2:N+1] .= q[1:N]     \n",
    "    \n",
    "    return -c/Δx*du\n",
    "end"
   ]
  },
  {
   "cell_type": "markdown",
   "metadata": {
    "nbpresent": {
     "id": "5fd7cdf4-34ef-441c-81bf-d23427613cbc"
    }
   },
   "source": [
    "Choose the discretization and set up the mapping to physical space"
   ]
  },
  {
   "cell_type": "code",
   "execution_count": 8,
   "metadata": {},
   "outputs": [
    {
     "data": {
      "text/plain": [
       "100"
      ]
     },
     "execution_count": 8,
     "metadata": {},
     "output_type": "execute_result"
    }
   ],
   "source": [
    "N = 100 # number of interior cells. This should be varied and explored."
   ]
  },
  {
   "cell_type": "code",
   "execution_count": 9,
   "metadata": {
    "nbpresent": {
     "id": "d45c43ba-3f4d-4984-bbe3-a973da84e467"
    }
   },
   "outputs": [
    {
     "data": {
      "text/plain": [
       "1:101"
      ]
     },
     "execution_count": 9,
     "metadata": {},
     "output_type": "execute_result"
    }
   ],
   "source": [
    "Δx = L/N\n",
    "# Note that these are functions, not arrays.\n",
    "xedge(i_e::Real) = xL + (i_e - 1)*Δx\n",
    "xcell(i_c::Real) = xL + (i_c - 1.5)*Δx\n",
    "i_c_int = 2:N+1 # interior cells\n",
    "i_e = 1:N+1 # edges"
   ]
  },
  {
   "cell_type": "markdown",
   "metadata": {
    "nbpresent": {
     "id": "62637020-7c72-40ae-8368-01c1bf501f5e"
    }
   },
   "source": [
    "Choose values for k0 between 0 and π/Δx"
   ]
  },
  {
   "cell_type": "code",
   "execution_count": 10,
   "metadata": {
    "nbpresent": {
     "id": "c655eeb8-5203-49ac-9cf3-bc0113dc4490"
    }
   },
   "outputs": [
    {
     "data": {
      "text/plain": [
       "0.5"
      ]
     },
     "execution_count": 10,
     "metadata": {},
     "output_type": "execute_result"
    }
   ],
   "source": [
    "k0 = 0.05*π/Δx  # Center wavenumber of wave packet\n",
    "σ = 0.25*L  # Width of wave packet. Keep this at 0.25L to ensure a tight group.\n",
    "x0 = 0.5*L  # Initial location of center of wave packet. Keep this at 0.5L"
   ]
  },
  {
   "cell_type": "markdown",
   "metadata": {
    "nbpresent": {
     "id": "9c3c15b7-d064-4da4-85e1-c80799cc6260"
    }
   },
   "source": [
    "Define the waveform of wave packet"
   ]
  },
  {
   "cell_type": "code",
   "execution_count": 11,
   "metadata": {
    "nbpresent": {
     "id": "6842aef3-7a09-45c7-8c27-026577f34c28"
    }
   },
   "outputs": [
    {
     "data": {
      "text/plain": [
       "uwave (generic function with 1 method)"
      ]
     },
     "execution_count": 11,
     "metadata": {},
     "output_type": "execute_result"
    }
   ],
   "source": [
    "uwave(x) = 1/sqrt(π*σ^2)*exp(-(x-x0)^2/σ^2)*cos(k0*(x-x0))"
   ]
  },
  {
   "cell_type": "markdown",
   "metadata": {
    "nbpresent": {
     "id": "2fd4a5fc-dae2-4e34-bd88-a2901ef6fff6"
    }
   },
   "source": [
    "Set the initial condition of state vector"
   ]
  },
  {
   "cell_type": "code",
   "execution_count": 12,
   "metadata": {
    "nbpresent": {
     "id": "faabd351-afd3-439c-9bb2-f702971729d2"
    }
   },
   "outputs": [],
   "source": [
    "u0 = HW3.CellData1D(N)\n",
    "u0[i_c_int] .= uwave.(xcell.(i_c_int));"
   ]
  },
  {
   "cell_type": "markdown",
   "metadata": {
    "nbpresent": {
     "id": "31c3e5af-e198-4b0a-90ba-e558801a013b"
    }
   },
   "source": [
    "Plot the initial wave packet"
   ]
  },
  {
   "cell_type": "code",
   "execution_count": 13,
   "metadata": {
    "nbpresent": {
     "id": "c7bbefab-e45d-4ccd-b11a-71f44ed131d4"
    }
   },
   "outputs": [
    {
     "data": {
      "image/svg+xml": [
       "<?xml version=\"1.0\" encoding=\"utf-8\"?>\n",
       "<svg xmlns=\"http://www.w3.org/2000/svg\" xmlns:xlink=\"http://www.w3.org/1999/xlink\" width=\"600\" height=\"400\" viewBox=\"0 0 2400 1600\">\n",
       "<defs>\n",
       "  <clipPath id=\"clip8800\">\n",
       "    <rect x=\"0\" y=\"0\" width=\"2000\" height=\"2000\"/>\n",
       "  </clipPath>\n",
       "</defs>\n",
       "<defs>\n",
       "  <clipPath id=\"clip8801\">\n",
       "    <rect x=\"0\" y=\"0\" width=\"2400\" height=\"1600\"/>\n",
       "  </clipPath>\n",
       "</defs>\n",
       "<polygon clip-path=\"url(#clip8801)\" points=\"\n",
       "0,1600 2400,1600 2400,0 0,0 \n",
       "  \" fill=\"#ffffff\" fill-rule=\"evenodd\" fill-opacity=\"1\"/>\n",
       "<defs>\n",
       "  <clipPath id=\"clip8802\">\n",
       "    <rect x=\"480\" y=\"0\" width=\"1681\" height=\"1600\"/>\n",
       "  </clipPath>\n",
       "</defs>\n",
       "<polygon clip-path=\"url(#clip8801)\" points=\"\n",
       "212.353,1440.48 2321.26,1440.48 2321.26,47.2441 212.353,47.2441 \n",
       "  \" fill=\"#ffffff\" fill-rule=\"evenodd\" fill-opacity=\"1\"/>\n",
       "<defs>\n",
       "  <clipPath id=\"clip8803\">\n",
       "    <rect x=\"212\" y=\"47\" width=\"2110\" height=\"1394\"/>\n",
       "  </clipPath>\n",
       "</defs>\n",
       "<polyline clip-path=\"url(#clip8803)\" style=\"stroke:#000000; stroke-width:2; stroke-opacity:0.1; fill:none\" points=\"\n",
       "  212.353,1440.48 212.353,47.2441 \n",
       "  \"/>\n",
       "<polyline clip-path=\"url(#clip8803)\" style=\"stroke:#000000; stroke-width:2; stroke-opacity:0.1; fill:none\" points=\"\n",
       "  634.134,1440.48 634.134,47.2441 \n",
       "  \"/>\n",
       "<polyline clip-path=\"url(#clip8803)\" style=\"stroke:#000000; stroke-width:2; stroke-opacity:0.1; fill:none\" points=\"\n",
       "  1055.92,1440.48 1055.92,47.2441 \n",
       "  \"/>\n",
       "<polyline clip-path=\"url(#clip8803)\" style=\"stroke:#000000; stroke-width:2; stroke-opacity:0.1; fill:none\" points=\"\n",
       "  1477.7,1440.48 1477.7,47.2441 \n",
       "  \"/>\n",
       "<polyline clip-path=\"url(#clip8803)\" style=\"stroke:#000000; stroke-width:2; stroke-opacity:0.1; fill:none\" points=\"\n",
       "  1899.48,1440.48 1899.48,47.2441 \n",
       "  \"/>\n",
       "<polyline clip-path=\"url(#clip8803)\" style=\"stroke:#000000; stroke-width:2; stroke-opacity:0.1; fill:none\" points=\"\n",
       "  2321.26,1440.48 2321.26,47.2441 \n",
       "  \"/>\n",
       "<polyline clip-path=\"url(#clip8803)\" style=\"stroke:#000000; stroke-width:2; stroke-opacity:0.1; fill:none\" points=\"\n",
       "  212.353,1297.69 2321.26,1297.69 \n",
       "  \"/>\n",
       "<polyline clip-path=\"url(#clip8803)\" style=\"stroke:#000000; stroke-width:2; stroke-opacity:0.1; fill:none\" points=\"\n",
       "  212.353,924.941 2321.26,924.941 \n",
       "  \"/>\n",
       "<polyline clip-path=\"url(#clip8803)\" style=\"stroke:#000000; stroke-width:2; stroke-opacity:0.1; fill:none\" points=\"\n",
       "  212.353,552.197 2321.26,552.197 \n",
       "  \"/>\n",
       "<polyline clip-path=\"url(#clip8803)\" style=\"stroke:#000000; stroke-width:2; stroke-opacity:0.1; fill:none\" points=\"\n",
       "  212.353,179.452 2321.26,179.452 \n",
       "  \"/>\n",
       "<polyline clip-path=\"url(#clip8801)\" style=\"stroke:#000000; stroke-width:4; stroke-opacity:1; fill:none\" points=\"\n",
       "  212.353,1440.48 2321.26,1440.48 \n",
       "  \"/>\n",
       "<polyline clip-path=\"url(#clip8801)\" style=\"stroke:#000000; stroke-width:4; stroke-opacity:1; fill:none\" points=\"\n",
       "  212.353,1440.48 212.353,47.2441 \n",
       "  \"/>\n",
       "<polyline clip-path=\"url(#clip8801)\" style=\"stroke:#000000; stroke-width:4; stroke-opacity:1; fill:none\" points=\"\n",
       "  212.353,1440.48 212.353,1419.58 \n",
       "  \"/>\n",
       "<polyline clip-path=\"url(#clip8801)\" style=\"stroke:#000000; stroke-width:4; stroke-opacity:1; fill:none\" points=\"\n",
       "  634.134,1440.48 634.134,1419.58 \n",
       "  \"/>\n",
       "<polyline clip-path=\"url(#clip8801)\" style=\"stroke:#000000; stroke-width:4; stroke-opacity:1; fill:none\" points=\"\n",
       "  1055.92,1440.48 1055.92,1419.58 \n",
       "  \"/>\n",
       "<polyline clip-path=\"url(#clip8801)\" style=\"stroke:#000000; stroke-width:4; stroke-opacity:1; fill:none\" points=\"\n",
       "  1477.7,1440.48 1477.7,1419.58 \n",
       "  \"/>\n",
       "<polyline clip-path=\"url(#clip8801)\" style=\"stroke:#000000; stroke-width:4; stroke-opacity:1; fill:none\" points=\"\n",
       "  1899.48,1440.48 1899.48,1419.58 \n",
       "  \"/>\n",
       "<polyline clip-path=\"url(#clip8801)\" style=\"stroke:#000000; stroke-width:4; stroke-opacity:1; fill:none\" points=\"\n",
       "  2321.26,1440.48 2321.26,1419.58 \n",
       "  \"/>\n",
       "<polyline clip-path=\"url(#clip8801)\" style=\"stroke:#000000; stroke-width:4; stroke-opacity:1; fill:none\" points=\"\n",
       "  212.353,1297.69 243.986,1297.69 \n",
       "  \"/>\n",
       "<polyline clip-path=\"url(#clip8801)\" style=\"stroke:#000000; stroke-width:4; stroke-opacity:1; fill:none\" points=\"\n",
       "  212.353,924.941 243.986,924.941 \n",
       "  \"/>\n",
       "<polyline clip-path=\"url(#clip8801)\" style=\"stroke:#000000; stroke-width:4; stroke-opacity:1; fill:none\" points=\"\n",
       "  212.353,552.197 243.986,552.197 \n",
       "  \"/>\n",
       "<polyline clip-path=\"url(#clip8801)\" style=\"stroke:#000000; stroke-width:4; stroke-opacity:1; fill:none\" points=\"\n",
       "  212.353,179.452 243.986,179.452 \n",
       "  \"/>\n",
       "<g clip-path=\"url(#clip8801)\">\n",
       "<text style=\"fill:#000000; fill-opacity:1; font-family:Arial,Helvetica Neue,Helvetica,sans-serif; font-size:48px; text-anchor:middle;\" transform=\"rotate(0, 212.353, 1494.48)\" x=\"212.353\" y=\"1494.48\">0.0</text>\n",
       "</g>\n",
       "<g clip-path=\"url(#clip8801)\">\n",
       "<text style=\"fill:#000000; fill-opacity:1; font-family:Arial,Helvetica Neue,Helvetica,sans-serif; font-size:48px; text-anchor:middle;\" transform=\"rotate(0, 634.134, 1494.48)\" x=\"634.134\" y=\"1494.48\">0.2</text>\n",
       "</g>\n",
       "<g clip-path=\"url(#clip8801)\">\n",
       "<text style=\"fill:#000000; fill-opacity:1; font-family:Arial,Helvetica Neue,Helvetica,sans-serif; font-size:48px; text-anchor:middle;\" transform=\"rotate(0, 1055.92, 1494.48)\" x=\"1055.92\" y=\"1494.48\">0.4</text>\n",
       "</g>\n",
       "<g clip-path=\"url(#clip8801)\">\n",
       "<text style=\"fill:#000000; fill-opacity:1; font-family:Arial,Helvetica Neue,Helvetica,sans-serif; font-size:48px; text-anchor:middle;\" transform=\"rotate(0, 1477.7, 1494.48)\" x=\"1477.7\" y=\"1494.48\">0.6</text>\n",
       "</g>\n",
       "<g clip-path=\"url(#clip8801)\">\n",
       "<text style=\"fill:#000000; fill-opacity:1; font-family:Arial,Helvetica Neue,Helvetica,sans-serif; font-size:48px; text-anchor:middle;\" transform=\"rotate(0, 1899.48, 1494.48)\" x=\"1899.48\" y=\"1494.48\">0.8</text>\n",
       "</g>\n",
       "<g clip-path=\"url(#clip8801)\">\n",
       "<text style=\"fill:#000000; fill-opacity:1; font-family:Arial,Helvetica Neue,Helvetica,sans-serif; font-size:48px; text-anchor:middle;\" transform=\"rotate(0, 2321.26, 1494.48)\" x=\"2321.26\" y=\"1494.48\">1.0</text>\n",
       "</g>\n",
       "<g clip-path=\"url(#clip8801)\">\n",
       "<text style=\"fill:#000000; fill-opacity:1; font-family:Arial,Helvetica Neue,Helvetica,sans-serif; font-size:48px; text-anchor:end;\" transform=\"rotate(0, 188.353, 1315.19)\" x=\"188.353\" y=\"1315.19\">-1</text>\n",
       "</g>\n",
       "<g clip-path=\"url(#clip8801)\">\n",
       "<text style=\"fill:#000000; fill-opacity:1; font-family:Arial,Helvetica Neue,Helvetica,sans-serif; font-size:48px; text-anchor:end;\" transform=\"rotate(0, 188.353, 942.441)\" x=\"188.353\" y=\"942.441\">0</text>\n",
       "</g>\n",
       "<g clip-path=\"url(#clip8801)\">\n",
       "<text style=\"fill:#000000; fill-opacity:1; font-family:Arial,Helvetica Neue,Helvetica,sans-serif; font-size:48px; text-anchor:end;\" transform=\"rotate(0, 188.353, 569.697)\" x=\"188.353\" y=\"569.697\">1</text>\n",
       "</g>\n",
       "<g clip-path=\"url(#clip8801)\">\n",
       "<text style=\"fill:#000000; fill-opacity:1; font-family:Arial,Helvetica Neue,Helvetica,sans-serif; font-size:48px; text-anchor:end;\" transform=\"rotate(0, 188.353, 196.952)\" x=\"188.353\" y=\"196.952\">2</text>\n",
       "</g>\n",
       "<g clip-path=\"url(#clip8801)\">\n",
       "<text style=\"fill:#000000; fill-opacity:1; font-family:Arial,Helvetica Neue,Helvetica,sans-serif; font-size:66px; text-anchor:middle;\" transform=\"rotate(0, 1266.81, 1590.4)\" x=\"1266.81\" y=\"1590.4\">x</text>\n",
       "</g>\n",
       "<g clip-path=\"url(#clip8801)\">\n",
       "<text style=\"fill:#000000; fill-opacity:1; font-family:Arial,Helvetica Neue,Helvetica,sans-serif; font-size:66px; text-anchor:middle;\" transform=\"rotate(-90, 57.6, 743.863)\" x=\"57.6\" y=\"743.863\">u0(x)</text>\n",
       "</g>\n",
       "<polyline clip-path=\"url(#clip8803)\" style=\"stroke:#009af9; stroke-width:4; stroke-opacity:1; fill:none\" points=\"\n",
       "  222.897,923.632 243.986,920.385 265.075,916.233 286.164,911.122 307.254,905.04 328.343,898.031 349.432,890.204 370.521,881.749 391.61,872.943 412.699,864.157 \n",
       "  433.788,855.856 454.877,848.601 475.966,843.029 497.055,839.843 518.144,839.782 539.233,843.589 560.322,851.968 581.411,865.542 602.501,884.8 623.59,910.043 \n",
       "  644.679,941.341 665.768,978.48 686.857,1020.93 707.946,1067.83 729.035,1117.96 750.124,1169.76 771.213,1221.37 792.302,1270.67 813.391,1315.35 834.48,1353.03 \n",
       "  855.569,1381.33 876.658,1397.99 897.748,1401.05 918.837,1388.9 939.926,1360.45 961.015,1315.19 982.104,1253.29 1003.19,1175.65 1024.28,1083.86 1045.37,980.267 \n",
       "  1066.46,867.816 1087.55,750.006 1108.64,630.737 1129.73,514.148 1150.82,404.441 1171.91,305.685 1192.99,221.626 1214.08,155.512 1235.17,109.928 1256.26,86.6754 \n",
       "  1277.35,86.6754 1298.44,109.928 1319.53,155.512 1340.62,221.626 1361.71,305.685 1382.8,404.441 1403.89,514.148 1424.97,630.737 1446.06,750.006 1467.15,867.816 \n",
       "  1488.24,980.267 1509.33,1083.86 1530.42,1175.65 1551.51,1253.29 1572.6,1315.19 1593.69,1360.45 1614.78,1388.9 1635.87,1401.05 1656.95,1397.99 1678.04,1381.33 \n",
       "  1699.13,1353.03 1720.22,1315.35 1741.31,1270.67 1762.4,1221.37 1783.49,1169.76 1804.58,1117.96 1825.67,1067.83 1846.76,1020.93 1867.84,978.48 1888.93,941.341 \n",
       "  1910.02,910.043 1931.11,884.8 1952.2,865.542 1973.29,851.968 1994.38,843.589 2015.47,839.782 2036.56,839.843 2057.65,843.029 2078.74,848.601 2099.82,855.856 \n",
       "  2120.91,864.157 2142,872.943 2163.09,881.749 2184.18,890.204 2205.27,898.031 2226.36,905.04 2247.45,911.122 2268.54,916.233 2289.63,920.385 2310.72,923.632 \n",
       "  \n",
       "  \"/>\n",
       "</svg>\n"
      ]
     },
     "execution_count": 13,
     "metadata": {},
     "output_type": "execute_result"
    }
   ],
   "source": [
    "plot(xcell.(i_c_int),u0[i_c_int],xlim=(0,L),xlabel=\"x\",ylabel=\"u0(x)\",legend=false)"
   ]
  },
  {
   "cell_type": "markdown",
   "metadata": {
    "nbpresent": {
     "id": "c31c16bf-b552-4406-8b0d-ad68847381fd"
    }
   },
   "source": [
    "Let's plot the power spectrum of the wave packet. Here we are just looking at the placement of the peak relative to $\\pi/\\Delta x$, the maximum grid wavenumber."
   ]
  },
  {
   "cell_type": "code",
   "execution_count": 14,
   "metadata": {
    "nbpresent": {
     "id": "c4ada093-35f9-4c42-b236-62cca4cf1b6f"
    }
   },
   "outputs": [],
   "source": [
    "using FFTW"
   ]
  },
  {
   "cell_type": "code",
   "execution_count": 15,
   "metadata": {
    "nbpresent": {
     "id": "e3a73d00-5f82-4623-b6c4-b91eb94acd68"
    }
   },
   "outputs": [
    {
     "data": {
      "image/svg+xml": [
       "<?xml version=\"1.0\" encoding=\"utf-8\"?>\n",
       "<svg xmlns=\"http://www.w3.org/2000/svg\" xmlns:xlink=\"http://www.w3.org/1999/xlink\" width=\"600\" height=\"400\" viewBox=\"0 0 2400 1600\">\n",
       "<defs>\n",
       "  <clipPath id=\"clip9000\">\n",
       "    <rect x=\"0\" y=\"0\" width=\"2000\" height=\"2000\"/>\n",
       "  </clipPath>\n",
       "</defs>\n",
       "<defs>\n",
       "  <clipPath id=\"clip9001\">\n",
       "    <rect x=\"0\" y=\"0\" width=\"2400\" height=\"1600\"/>\n",
       "  </clipPath>\n",
       "</defs>\n",
       "<polygon clip-path=\"url(#clip9001)\" points=\"\n",
       "0,1600 2400,1600 2400,0 0,0 \n",
       "  \" fill=\"#ffffff\" fill-rule=\"evenodd\" fill-opacity=\"1\"/>\n",
       "<defs>\n",
       "  <clipPath id=\"clip9002\">\n",
       "    <rect x=\"480\" y=\"0\" width=\"1681\" height=\"1600\"/>\n",
       "  </clipPath>\n",
       "</defs>\n",
       "<polygon clip-path=\"url(#clip9001)\" points=\"\n",
       "184.243,1440.48 2321.26,1440.48 2321.26,47.2441 184.243,47.2441 \n",
       "  \" fill=\"#ffffff\" fill-rule=\"evenodd\" fill-opacity=\"1\"/>\n",
       "<defs>\n",
       "  <clipPath id=\"clip9003\">\n",
       "    <rect x=\"184\" y=\"47\" width=\"2138\" height=\"1394\"/>\n",
       "  </clipPath>\n",
       "</defs>\n",
       "<polyline clip-path=\"url(#clip9003)\" style=\"stroke:#000000; stroke-width:2; stroke-opacity:0.1; fill:none\" points=\"\n",
       "  184.243,1440.48 184.243,47.2441 \n",
       "  \"/>\n",
       "<polyline clip-path=\"url(#clip9003)\" style=\"stroke:#000000; stroke-width:2; stroke-opacity:0.1; fill:none\" points=\"\n",
       "  864.476,1440.48 864.476,47.2441 \n",
       "  \"/>\n",
       "<polyline clip-path=\"url(#clip9003)\" style=\"stroke:#000000; stroke-width:2; stroke-opacity:0.1; fill:none\" points=\"\n",
       "  1544.71,1440.48 1544.71,47.2441 \n",
       "  \"/>\n",
       "<polyline clip-path=\"url(#clip9003)\" style=\"stroke:#000000; stroke-width:2; stroke-opacity:0.1; fill:none\" points=\"\n",
       "  2224.94,1440.48 2224.94,47.2441 \n",
       "  \"/>\n",
       "<polyline clip-path=\"url(#clip9003)\" style=\"stroke:#000000; stroke-width:2; stroke-opacity:0.1; fill:none\" points=\"\n",
       "  184.243,1440.48 2321.26,1440.48 \n",
       "  \"/>\n",
       "<polyline clip-path=\"url(#clip9003)\" style=\"stroke:#000000; stroke-width:2; stroke-opacity:0.1; fill:none\" points=\"\n",
       "  184.243,997.001 2321.26,997.001 \n",
       "  \"/>\n",
       "<polyline clip-path=\"url(#clip9003)\" style=\"stroke:#000000; stroke-width:2; stroke-opacity:0.1; fill:none\" points=\"\n",
       "  184.243,553.519 2321.26,553.519 \n",
       "  \"/>\n",
       "<polyline clip-path=\"url(#clip9003)\" style=\"stroke:#000000; stroke-width:2; stroke-opacity:0.1; fill:none\" points=\"\n",
       "  184.243,110.038 2321.26,110.038 \n",
       "  \"/>\n",
       "<polyline clip-path=\"url(#clip9001)\" style=\"stroke:#000000; stroke-width:4; stroke-opacity:1; fill:none\" points=\"\n",
       "  184.243,1440.48 2321.26,1440.48 \n",
       "  \"/>\n",
       "<polyline clip-path=\"url(#clip9001)\" style=\"stroke:#000000; stroke-width:4; stroke-opacity:1; fill:none\" points=\"\n",
       "  184.243,1440.48 184.243,47.2441 \n",
       "  \"/>\n",
       "<polyline clip-path=\"url(#clip9001)\" style=\"stroke:#000000; stroke-width:4; stroke-opacity:1; fill:none\" points=\"\n",
       "  184.243,1440.48 184.243,1419.58 \n",
       "  \"/>\n",
       "<polyline clip-path=\"url(#clip9001)\" style=\"stroke:#000000; stroke-width:4; stroke-opacity:1; fill:none\" points=\"\n",
       "  864.476,1440.48 864.476,1419.58 \n",
       "  \"/>\n",
       "<polyline clip-path=\"url(#clip9001)\" style=\"stroke:#000000; stroke-width:4; stroke-opacity:1; fill:none\" points=\"\n",
       "  1544.71,1440.48 1544.71,1419.58 \n",
       "  \"/>\n",
       "<polyline clip-path=\"url(#clip9001)\" style=\"stroke:#000000; stroke-width:4; stroke-opacity:1; fill:none\" points=\"\n",
       "  2224.94,1440.48 2224.94,1419.58 \n",
       "  \"/>\n",
       "<polyline clip-path=\"url(#clip9001)\" style=\"stroke:#000000; stroke-width:4; stroke-opacity:1; fill:none\" points=\"\n",
       "  184.243,1440.48 216.298,1440.48 \n",
       "  \"/>\n",
       "<polyline clip-path=\"url(#clip9001)\" style=\"stroke:#000000; stroke-width:4; stroke-opacity:1; fill:none\" points=\"\n",
       "  184.243,997.001 216.298,997.001 \n",
       "  \"/>\n",
       "<polyline clip-path=\"url(#clip9001)\" style=\"stroke:#000000; stroke-width:4; stroke-opacity:1; fill:none\" points=\"\n",
       "  184.243,553.519 216.298,553.519 \n",
       "  \"/>\n",
       "<polyline clip-path=\"url(#clip9001)\" style=\"stroke:#000000; stroke-width:4; stroke-opacity:1; fill:none\" points=\"\n",
       "  184.243,110.038 216.298,110.038 \n",
       "  \"/>\n",
       "<g clip-path=\"url(#clip9001)\">\n",
       "<text style=\"fill:#000000; fill-opacity:1; font-family:Arial,Helvetica Neue,Helvetica,sans-serif; font-size:48px; text-anchor:middle;\" transform=\"rotate(0, 184.243, 1494.48)\" x=\"184.243\" y=\"1494.48\">0</text>\n",
       "</g>\n",
       "<g clip-path=\"url(#clip9001)\">\n",
       "<text style=\"fill:#000000; fill-opacity:1; font-family:Arial,Helvetica Neue,Helvetica,sans-serif; font-size:48px; text-anchor:middle;\" transform=\"rotate(0, 864.476, 1494.48)\" x=\"864.476\" y=\"1494.48\">1</text>\n",
       "</g>\n",
       "<g clip-path=\"url(#clip9001)\">\n",
       "<text style=\"fill:#000000; fill-opacity:1; font-family:Arial,Helvetica Neue,Helvetica,sans-serif; font-size:48px; text-anchor:middle;\" transform=\"rotate(0, 1544.71, 1494.48)\" x=\"1544.71\" y=\"1494.48\">2</text>\n",
       "</g>\n",
       "<g clip-path=\"url(#clip9001)\">\n",
       "<text style=\"fill:#000000; fill-opacity:1; font-family:Arial,Helvetica Neue,Helvetica,sans-serif; font-size:48px; text-anchor:middle;\" transform=\"rotate(0, 2224.94, 1494.48)\" x=\"2224.94\" y=\"1494.48\">3</text>\n",
       "</g>\n",
       "<g clip-path=\"url(#clip9001)\">\n",
       "<text style=\"fill:#000000; fill-opacity:1; font-family:Arial,Helvetica Neue,Helvetica,sans-serif; font-size:48px; text-anchor:end;\" transform=\"rotate(0, 160.243, 1457.98)\" x=\"160.243\" y=\"1457.98\">0</text>\n",
       "</g>\n",
       "<g clip-path=\"url(#clip9001)\">\n",
       "<text style=\"fill:#000000; fill-opacity:1; font-family:Arial,Helvetica Neue,Helvetica,sans-serif; font-size:48px; text-anchor:end;\" transform=\"rotate(0, 160.243, 1014.5)\" x=\"160.243\" y=\"1014.5\">1</text>\n",
       "</g>\n",
       "<g clip-path=\"url(#clip9001)\">\n",
       "<text style=\"fill:#000000; fill-opacity:1; font-family:Arial,Helvetica Neue,Helvetica,sans-serif; font-size:48px; text-anchor:end;\" transform=\"rotate(0, 160.243, 571.019)\" x=\"160.243\" y=\"571.019\">2</text>\n",
       "</g>\n",
       "<g clip-path=\"url(#clip9001)\">\n",
       "<text style=\"fill:#000000; fill-opacity:1; font-family:Arial,Helvetica Neue,Helvetica,sans-serif; font-size:48px; text-anchor:end;\" transform=\"rotate(0, 160.243, 127.538)\" x=\"160.243\" y=\"127.538\">3</text>\n",
       "</g>\n",
       "<g clip-path=\"url(#clip9001)\">\n",
       "<text style=\"fill:#000000; fill-opacity:1; font-family:Arial,Helvetica Neue,Helvetica,sans-serif; font-size:66px; text-anchor:middle;\" transform=\"rotate(0, 1252.75, 1590.4)\" x=\"1252.75\" y=\"1590.4\">k*dx</text>\n",
       "</g>\n",
       "<g clip-path=\"url(#clip9001)\">\n",
       "<text style=\"fill:#000000; fill-opacity:1; font-family:Arial,Helvetica Neue,Helvetica,sans-serif; font-size:66px; text-anchor:middle;\" transform=\"rotate(-90, 57.6, 743.863)\" x=\"57.6\" y=\"743.863\">|FFT(u0)|</text>\n",
       "</g>\n",
       "<polyline clip-path=\"url(#clip9003)\" style=\"stroke:#009af9; stroke-width:4; stroke-opacity:1; fill:none\" points=\"\n",
       "  184.243,1430.03 226.983,1387.98 269.723,1254.39 312.464,1244.27 355.204,1376.58 397.944,1434.16 440.685,1440.37 483.425,1440.39 526.165,1440.4 568.906,1440.41 \n",
       "  611.646,1440.42 654.386,1440.44 697.127,1440.45 739.867,1440.45 782.607,1440.46 825.348,1440.46 868.088,1440.47 910.828,1440.47 953.569,1440.48 996.309,1440.48 \n",
       "  1039.05,1440.48 1081.79,1440.48 1124.53,1440.48 1167.27,1440.48 1210.01,1440.48 1252.75,1440.48 1295.49,1440.48 1338.23,1440.48 1380.97,1440.48 1423.71,1440.48 \n",
       "  1466.45,1440.48 1509.19,1440.48 1551.93,1440.48 1594.67,1440.48 1637.41,1440.48 1680.15,1440.48 1722.9,1440.48 1765.64,1440.48 1808.38,1440.48 1851.12,1440.48 \n",
       "  1893.86,1440.48 1936.6,1440.48 1979.34,1440.48 2022.08,1440.48 2064.82,1440.48 2107.56,1440.48 2150.3,1440.48 2193.04,1440.48 2235.78,1440.48 2278.52,1440.48 \n",
       "  \n",
       "  \"/>\n",
       "<polyline clip-path=\"url(#clip9003)\" style=\"stroke:#e26f46; stroke-width:4; stroke-opacity:1; fill:none\" points=\"\n",
       "  184.243,1440.48 226.983,1412.64 269.723,1384.9 312.464,1357.38 355.204,1330.19 397.944,1303.44 440.685,1277.23 483.425,1251.66 526.165,1226.83 568.906,1202.85 \n",
       "  611.646,1179.81 654.386,1157.8 697.127,1136.9 739.867,1117.2 782.607,1098.77 825.348,1081.7 868.088,1066.04 910.828,1051.86 953.569,1039.21 996.309,1028.14 \n",
       "  1039.05,1018.71 1081.79,1010.93 1124.53,1004.86 1167.27,1000.5 1210.01,997.876 1252.75,997.001 1295.49,997.876 1338.23,1000.5 1380.97,1004.86 1423.71,1010.93 \n",
       "  1466.45,1018.71 1509.19,1028.14 1551.93,1039.21 1594.67,1051.86 1637.41,1066.04 1680.15,1081.7 1722.9,1098.77 1765.64,1117.2 1808.38,1136.9 1851.12,1157.8 \n",
       "  1893.86,1179.81 1936.6,1202.85 1979.34,1226.83 2022.08,1251.66 2064.82,1277.23 2107.56,1303.44 2150.3,1330.19 2193.04,1357.38 2235.78,1384.9 2278.52,1412.64 \n",
       "  \n",
       "  \"/>\n",
       "<polyline clip-path=\"url(#clip9003)\" style=\"stroke:#3da44d; stroke-width:4; stroke-opacity:1; fill:none\" points=\"\n",
       "  184.243,1440.48 226.983,1412.62 269.723,1384.75 312.464,1356.89 355.204,1329.02 397.944,1301.16 440.685,1273.29 483.425,1245.43 526.165,1217.56 568.906,1189.7 \n",
       "  611.646,1161.83 654.386,1133.97 697.127,1106.11 739.867,1078.24 782.607,1050.38 825.348,1022.51 868.088,994.646 910.828,966.782 953.569,938.917 996.309,911.052 \n",
       "  1039.05,883.187 1081.79,855.322 1124.53,827.458 1167.27,799.593 1210.01,771.728 1252.75,743.863 1295.49,715.999 1338.23,688.134 1380.97,660.269 1423.71,632.404 \n",
       "  1466.45,604.539 1509.19,576.675 1551.93,548.81 1594.67,520.945 1637.41,493.08 1680.15,465.216 1722.9,437.351 1765.64,409.486 1808.38,381.621 1851.12,353.757 \n",
       "  1893.86,325.892 1936.6,298.027 1979.34,270.162 2022.08,242.297 2064.82,214.433 2107.56,186.568 2150.3,158.703 2193.04,130.838 2235.78,102.974 2278.52,75.1089 \n",
       "  \n",
       "  \"/>\n",
       "<polygon clip-path=\"url(#clip9001)\" points=\"\n",
       "1359.26,372.684 2249.26,372.684 2249.26,130.764 1359.26,130.764 \n",
       "  \" fill=\"#ffffff\" fill-rule=\"evenodd\" fill-opacity=\"1\"/>\n",
       "<polyline clip-path=\"url(#clip9001)\" style=\"stroke:#000000; stroke-width:4; stroke-opacity:1; fill:none\" points=\"\n",
       "  1359.26,372.684 2249.26,372.684 2249.26,130.764 1359.26,130.764 1359.26,372.684 \n",
       "  \"/>\n",
       "<polyline clip-path=\"url(#clip9001)\" style=\"stroke:#009af9; stroke-width:4; stroke-opacity:1; fill:none\" points=\"\n",
       "  1383.26,191.244 1527.26,191.244 \n",
       "  \"/>\n",
       "<g clip-path=\"url(#clip9001)\">\n",
       "<text style=\"fill:#000000; fill-opacity:1; font-family:Arial,Helvetica Neue,Helvetica,sans-serif; font-size:48px; text-anchor:start;\" transform=\"rotate(0, 1551.26, 208.744)\" x=\"1551.26\" y=\"208.744\">Spectrum of wavepacket</text>\n",
       "</g>\n",
       "<polyline clip-path=\"url(#clip9001)\" style=\"stroke:#e26f46; stroke-width:4; stroke-opacity:1; fill:none\" points=\"\n",
       "  1383.26,251.724 1527.26,251.724 \n",
       "  \"/>\n",
       "<g clip-path=\"url(#clip9001)\">\n",
       "<text style=\"fill:#000000; fill-opacity:1; font-family:Arial,Helvetica Neue,Helvetica,sans-serif; font-size:48px; text-anchor:start;\" transform=\"rotate(0, 1551.26, 269.224)\" x=\"1551.26\" y=\"269.224\">Modified wavenumber for CD2</text>\n",
       "</g>\n",
       "<polyline clip-path=\"url(#clip9001)\" style=\"stroke:#3da44d; stroke-width:4; stroke-opacity:1; fill:none\" points=\"\n",
       "  1383.26,312.204 1527.26,312.204 \n",
       "  \"/>\n",
       "<g clip-path=\"url(#clip9001)\">\n",
       "<text style=\"fill:#000000; fill-opacity:1; font-family:Arial,Helvetica Neue,Helvetica,sans-serif; font-size:48px; text-anchor:start;\" transform=\"rotate(0, 1551.26, 329.704)\" x=\"1551.26\" y=\"329.704\">Exact wavenumber</text>\n",
       "</g>\n",
       "</svg>\n"
      ]
     },
     "execution_count": 15,
     "metadata": {},
     "output_type": "execute_result"
    }
   ],
   "source": [
    "û₀ = fft(u0)/N\n",
    "k = 1:Int(N/2)\n",
    "kdx = (k.-1)*2π/N\n",
    "plot(kdx,abs.(û₀[k]),xlim=(0,π),ylim=(0,π),xlabel=\"k*dx\",ylabel=\"|FFT(u0)|\",label=\"Spectrum of wavepacket\")\n",
    "plot!(kdx,sin.(kdx),label = \"Modified wavenumber for CD2\")\n",
    "plot!(kdx,kdx,label=\"Exact wavenumber\")"
   ]
  },
  {
   "cell_type": "markdown",
   "metadata": {
    "nbpresent": {
     "id": "018da1f9-dfc6-4ebb-b46b-0fd8ea3a711c"
    }
   },
   "source": [
    "Set up the time step and the integrator.\n",
    "* To use 4th-order Runge-Kutta, set `rk = HW3.RK4`\n",
    "* To use forward Euler, set `rk = HW3.Euler`."
   ]
  },
  {
   "cell_type": "code",
   "execution_count": 25,
   "metadata": {
    "nbpresent": {
     "id": "3ecbb202-5b5c-48d9-b620-f56b461e8e05"
    }
   },
   "outputs": [
    {
     "data": {
      "text/plain": [
       "Order-4 RK integator with\n",
       "   State of type HW3.CellData1D{100}\n",
       "   Time step size 0.01\n"
      ]
     },
     "execution_count": 25,
     "metadata": {},
     "output_type": "execute_result"
    }
   ],
   "source": [
    "Co = 0.01 # Courant number. Keep this small to ensure that there is negligible time marching error\n",
    "Δt = Δx/c \n",
    "rk = HW3.RK(u0,Δt,advect1d_periodic_cd2;rk=HW3.RK4)"
   ]
  },
  {
   "cell_type": "markdown",
   "metadata": {
    "nbpresent": {
     "id": "5ba5644b-8672-44dc-bddc-3a0914d2f327"
    }
   },
   "source": [
    "Integrate this to final time of 0.25. Store the data in arrays."
   ]
  },
  {
   "cell_type": "code",
   "execution_count": 26,
   "metadata": {
    "nbpresent": {
     "id": "78a22428-80dd-4ff6-a9e5-5e88d37a4879"
    }
   },
   "outputs": [],
   "source": [
    "tf = 0.5\n",
    "nsteps = ceil(Int,tf/Δt)\n",
    "t = 0.0\n",
    "u = deepcopy(u0)\n",
    "uarray = [deepcopy(u)]\n",
    "tarray = [t]\n",
    "for j = 1:nsteps\n",
    "    t, u = rk(t,u)\n",
    "    push!(uarray,deepcopy(u))\n",
    "    push!(tarray,t)\n",
    "end"
   ]
  },
  {
   "cell_type": "markdown",
   "metadata": {
    "nbpresent": {
     "id": "44f03a05-7dc2-4b7a-ade9-69d58ba02343"
    }
   },
   "source": [
    "Evaluate exact solution at the end of the integration interval. "
   ]
  },
  {
   "cell_type": "code",
   "execution_count": 27,
   "metadata": {
    "nbpresent": {
     "id": "df8d634e-71a3-4cfb-a91a-f8fccf748c0c"
    }
   },
   "outputs": [],
   "source": [
    "texact = tarray[end]\n",
    "uexact = HW3.CellData1D(u)\n",
    "for i in i_c_int\n",
    "    x̃ = xcell(i)-c*texact\n",
    "    x̃ = mod(x̃,L) # this ensures periodicity\n",
    "    uexact[i] = uwave(x̃)\n",
    "end"
   ]
  },
  {
   "cell_type": "markdown",
   "metadata": {
    "nbpresent": {
     "id": "9407eda8-8ce5-4df1-8e3a-e0a3ef1db542"
    }
   },
   "source": [
    "Compare the numerical solution with the exact solution"
   ]
  },
  {
   "cell_type": "code",
   "execution_count": 28,
   "metadata": {
    "nbpresent": {
     "id": "ce277503-0127-4aba-8a63-791a789a3c6f"
    }
   },
   "outputs": [
    {
     "data": {
      "image/svg+xml": [
       "<?xml version=\"1.0\" encoding=\"utf-8\"?>\n",
       "<svg xmlns=\"http://www.w3.org/2000/svg\" xmlns:xlink=\"http://www.w3.org/1999/xlink\" width=\"600\" height=\"400\" viewBox=\"0 0 2400 1600\">\n",
       "<defs>\n",
       "  <clipPath id=\"clip9600\">\n",
       "    <rect x=\"0\" y=\"0\" width=\"2000\" height=\"2000\"/>\n",
       "  </clipPath>\n",
       "</defs>\n",
       "<defs>\n",
       "  <clipPath id=\"clip9601\">\n",
       "    <rect x=\"0\" y=\"0\" width=\"2400\" height=\"1600\"/>\n",
       "  </clipPath>\n",
       "</defs>\n",
       "<polygon clip-path=\"url(#clip9601)\" points=\"\n",
       "0,1600 2400,1600 2400,0 0,0 \n",
       "  \" fill=\"#ffffff\" fill-rule=\"evenodd\" fill-opacity=\"1\"/>\n",
       "<defs>\n",
       "  <clipPath id=\"clip9602\">\n",
       "    <rect x=\"480\" y=\"0\" width=\"1681\" height=\"1600\"/>\n",
       "  </clipPath>\n",
       "</defs>\n",
       "<polygon clip-path=\"url(#clip9601)\" points=\"\n",
       "149.361,1503.47 2321.26,1503.47 2321.26,125.984 149.361,125.984 \n",
       "  \" fill=\"#ffffff\" fill-rule=\"evenodd\" fill-opacity=\"1\"/>\n",
       "<defs>\n",
       "  <clipPath id=\"clip9603\">\n",
       "    <rect x=\"149\" y=\"125\" width=\"2173\" height=\"1378\"/>\n",
       "  </clipPath>\n",
       "</defs>\n",
       "<polyline clip-path=\"url(#clip9603)\" style=\"stroke:#000000; stroke-width:2; stroke-opacity:0.1; fill:none\" points=\"\n",
       "  149.361,1503.47 149.361,125.984 \n",
       "  \"/>\n",
       "<polyline clip-path=\"url(#clip9603)\" style=\"stroke:#000000; stroke-width:2; stroke-opacity:0.1; fill:none\" points=\"\n",
       "  583.74,1503.47 583.74,125.984 \n",
       "  \"/>\n",
       "<polyline clip-path=\"url(#clip9603)\" style=\"stroke:#000000; stroke-width:2; stroke-opacity:0.1; fill:none\" points=\"\n",
       "  1018.12,1503.47 1018.12,125.984 \n",
       "  \"/>\n",
       "<polyline clip-path=\"url(#clip9603)\" style=\"stroke:#000000; stroke-width:2; stroke-opacity:0.1; fill:none\" points=\"\n",
       "  1452.5,1503.47 1452.5,125.984 \n",
       "  \"/>\n",
       "<polyline clip-path=\"url(#clip9603)\" style=\"stroke:#000000; stroke-width:2; stroke-opacity:0.1; fill:none\" points=\"\n",
       "  1886.88,1503.47 1886.88,125.984 \n",
       "  \"/>\n",
       "<polyline clip-path=\"url(#clip9603)\" style=\"stroke:#000000; stroke-width:2; stroke-opacity:0.1; fill:none\" points=\"\n",
       "  2321.26,1503.47 2321.26,125.984 \n",
       "  \"/>\n",
       "<polyline clip-path=\"url(#clip9603)\" style=\"stroke:#000000; stroke-width:2; stroke-opacity:0.1; fill:none\" points=\"\n",
       "  149.361,1351.78 2321.26,1351.78 \n",
       "  \"/>\n",
       "<polyline clip-path=\"url(#clip9603)\" style=\"stroke:#000000; stroke-width:2; stroke-opacity:0.1; fill:none\" points=\"\n",
       "  149.361,987.127 2321.26,987.127 \n",
       "  \"/>\n",
       "<polyline clip-path=\"url(#clip9603)\" style=\"stroke:#000000; stroke-width:2; stroke-opacity:0.1; fill:none\" points=\"\n",
       "  149.361,622.472 2321.26,622.472 \n",
       "  \"/>\n",
       "<polyline clip-path=\"url(#clip9603)\" style=\"stroke:#000000; stroke-width:2; stroke-opacity:0.1; fill:none\" points=\"\n",
       "  149.361,257.817 2321.26,257.817 \n",
       "  \"/>\n",
       "<polyline clip-path=\"url(#clip9601)\" style=\"stroke:#000000; stroke-width:4; stroke-opacity:1; fill:none\" points=\"\n",
       "  149.361,1503.47 2321.26,1503.47 \n",
       "  \"/>\n",
       "<polyline clip-path=\"url(#clip9601)\" style=\"stroke:#000000; stroke-width:4; stroke-opacity:1; fill:none\" points=\"\n",
       "  149.361,1503.47 149.361,125.984 \n",
       "  \"/>\n",
       "<polyline clip-path=\"url(#clip9601)\" style=\"stroke:#000000; stroke-width:4; stroke-opacity:1; fill:none\" points=\"\n",
       "  149.361,1503.47 149.361,1482.81 \n",
       "  \"/>\n",
       "<polyline clip-path=\"url(#clip9601)\" style=\"stroke:#000000; stroke-width:4; stroke-opacity:1; fill:none\" points=\"\n",
       "  583.74,1503.47 583.74,1482.81 \n",
       "  \"/>\n",
       "<polyline clip-path=\"url(#clip9601)\" style=\"stroke:#000000; stroke-width:4; stroke-opacity:1; fill:none\" points=\"\n",
       "  1018.12,1503.47 1018.12,1482.81 \n",
       "  \"/>\n",
       "<polyline clip-path=\"url(#clip9601)\" style=\"stroke:#000000; stroke-width:4; stroke-opacity:1; fill:none\" points=\"\n",
       "  1452.5,1503.47 1452.5,1482.81 \n",
       "  \"/>\n",
       "<polyline clip-path=\"url(#clip9601)\" style=\"stroke:#000000; stroke-width:4; stroke-opacity:1; fill:none\" points=\"\n",
       "  1886.88,1503.47 1886.88,1482.81 \n",
       "  \"/>\n",
       "<polyline clip-path=\"url(#clip9601)\" style=\"stroke:#000000; stroke-width:4; stroke-opacity:1; fill:none\" points=\"\n",
       "  2321.26,1503.47 2321.26,1482.81 \n",
       "  \"/>\n",
       "<polyline clip-path=\"url(#clip9601)\" style=\"stroke:#000000; stroke-width:4; stroke-opacity:1; fill:none\" points=\"\n",
       "  149.361,1351.78 181.939,1351.78 \n",
       "  \"/>\n",
       "<polyline clip-path=\"url(#clip9601)\" style=\"stroke:#000000; stroke-width:4; stroke-opacity:1; fill:none\" points=\"\n",
       "  149.361,987.127 181.939,987.127 \n",
       "  \"/>\n",
       "<polyline clip-path=\"url(#clip9601)\" style=\"stroke:#000000; stroke-width:4; stroke-opacity:1; fill:none\" points=\"\n",
       "  149.361,622.472 181.939,622.472 \n",
       "  \"/>\n",
       "<polyline clip-path=\"url(#clip9601)\" style=\"stroke:#000000; stroke-width:4; stroke-opacity:1; fill:none\" points=\"\n",
       "  149.361,257.817 181.939,257.817 \n",
       "  \"/>\n",
       "<g clip-path=\"url(#clip9601)\">\n",
       "<text style=\"fill:#000000; fill-opacity:1; font-family:Arial,Helvetica Neue,Helvetica,sans-serif; font-size:48px; text-anchor:middle;\" transform=\"rotate(0, 149.361, 1557.47)\" x=\"149.361\" y=\"1557.47\">0.0</text>\n",
       "</g>\n",
       "<g clip-path=\"url(#clip9601)\">\n",
       "<text style=\"fill:#000000; fill-opacity:1; font-family:Arial,Helvetica Neue,Helvetica,sans-serif; font-size:48px; text-anchor:middle;\" transform=\"rotate(0, 583.74, 1557.47)\" x=\"583.74\" y=\"1557.47\">0.2</text>\n",
       "</g>\n",
       "<g clip-path=\"url(#clip9601)\">\n",
       "<text style=\"fill:#000000; fill-opacity:1; font-family:Arial,Helvetica Neue,Helvetica,sans-serif; font-size:48px; text-anchor:middle;\" transform=\"rotate(0, 1018.12, 1557.47)\" x=\"1018.12\" y=\"1557.47\">0.4</text>\n",
       "</g>\n",
       "<g clip-path=\"url(#clip9601)\">\n",
       "<text style=\"fill:#000000; fill-opacity:1; font-family:Arial,Helvetica Neue,Helvetica,sans-serif; font-size:48px; text-anchor:middle;\" transform=\"rotate(0, 1452.5, 1557.47)\" x=\"1452.5\" y=\"1557.47\">0.6</text>\n",
       "</g>\n",
       "<g clip-path=\"url(#clip9601)\">\n",
       "<text style=\"fill:#000000; fill-opacity:1; font-family:Arial,Helvetica Neue,Helvetica,sans-serif; font-size:48px; text-anchor:middle;\" transform=\"rotate(0, 1886.88, 1557.47)\" x=\"1886.88\" y=\"1557.47\">0.8</text>\n",
       "</g>\n",
       "<g clip-path=\"url(#clip9601)\">\n",
       "<text style=\"fill:#000000; fill-opacity:1; font-family:Arial,Helvetica Neue,Helvetica,sans-serif; font-size:48px; text-anchor:middle;\" transform=\"rotate(0, 2321.26, 1557.47)\" x=\"2321.26\" y=\"1557.47\">1.0</text>\n",
       "</g>\n",
       "<g clip-path=\"url(#clip9601)\">\n",
       "<text style=\"fill:#000000; fill-opacity:1; font-family:Arial,Helvetica Neue,Helvetica,sans-serif; font-size:48px; text-anchor:end;\" transform=\"rotate(0, 125.361, 1369.28)\" x=\"125.361\" y=\"1369.28\">-1</text>\n",
       "</g>\n",
       "<g clip-path=\"url(#clip9601)\">\n",
       "<text style=\"fill:#000000; fill-opacity:1; font-family:Arial,Helvetica Neue,Helvetica,sans-serif; font-size:48px; text-anchor:end;\" transform=\"rotate(0, 125.361, 1004.63)\" x=\"125.361\" y=\"1004.63\">0</text>\n",
       "</g>\n",
       "<g clip-path=\"url(#clip9601)\">\n",
       "<text style=\"fill:#000000; fill-opacity:1; font-family:Arial,Helvetica Neue,Helvetica,sans-serif; font-size:48px; text-anchor:end;\" transform=\"rotate(0, 125.361, 639.972)\" x=\"125.361\" y=\"639.972\">1</text>\n",
       "</g>\n",
       "<g clip-path=\"url(#clip9601)\">\n",
       "<text style=\"fill:#000000; fill-opacity:1; font-family:Arial,Helvetica Neue,Helvetica,sans-serif; font-size:48px; text-anchor:end;\" transform=\"rotate(0, 125.361, 275.317)\" x=\"125.361\" y=\"275.317\">2</text>\n",
       "</g>\n",
       "<g clip-path=\"url(#clip9601)\">\n",
       "<text style=\"fill:#000000; fill-opacity:1; font-family:Arial,Helvetica Neue,Helvetica,sans-serif; font-size:84px; text-anchor:middle;\" transform=\"rotate(0, 1235.31, 73.2)\" x=\"1235.31\" y=\"73.2\">k0*dx/pi =0.05</text>\n",
       "</g>\n",
       "<polyline clip-path=\"url(#clip9603)\" style=\"stroke:#009af9; stroke-width:4; stroke-opacity:1; fill:none\" points=\"\n",
       "  160.22,172.377 181.939,202.395 203.658,253.85 225.377,324.284 247.096,410.777 268.815,510.32 290.534,619.323 312.253,733.458 333.972,848.411 355.691,960.522 \n",
       "  377.41,1066.53 399.129,1163.15 420.848,1247.39 442.567,1317.23 464.286,1371.76 486.005,1410.66 507.724,1433.78 529.443,1441.42 551.162,1434.76 572.881,1415.83 \n",
       "  594.6,1386.89 616.319,1349.98 638.038,1306.93 659.757,1259.75 681.476,1210.74 703.195,1162.23 724.914,1116.07 746.633,1073.42 768.352,1034.89 790.071,1000.95 \n",
       "  811.79,972.156 833.509,949.017 855.228,931.764 876.947,920.125 898.666,913.357 920.385,910.477 942.104,910.559 963.823,912.925 985.542,917.165 1007.26,923.023 \n",
       "  1028.98,930.244 1050.7,938.469 1072.42,947.203 1094.14,955.896 1115.86,963.98 1137.57,971.026 1159.29,976.67 1181.01,980.795 1202.73,983.251 1224.45,984.162 \n",
       "  1246.17,983.45 1267.89,981.321 1289.61,977.721 1311.33,972.799 1333.05,966.649 1354.76,959.269 1376.48,951.075 1398.2,941.966 1419.92,932.635 1441.64,923.212 \n",
       "  1463.36,914.321 1485.08,906.707 1506.8,900.725 1528.52,897.536 1550.24,897.647 1571.95,901.837 1593.67,911.132 1615.39,925.733 1637.11,946.403 1658.83,973.453 \n",
       "  1680.55,1006.52 1702.27,1045.72 1723.99,1090.28 1745.71,1138.92 1767.43,1190.74 1789.14,1243.8 1810.86,1295.91 1832.58,1345.24 1854.3,1389.2 1876.02,1425.1 \n",
       "  1897.74,1450.97 1919.46,1464.49 1941.18,1463.46 1962.9,1446.81 1984.62,1413.69 2006.33,1363.43 2028.05,1296.71 2049.77,1214.96 2071.49,1119.71 2093.21,1013.47 \n",
       "  2114.93,899.844 2136.65,782.353 2158.37,664.643 2180.09,551.117 2201.81,446.167 2223.52,353.377 2245.24,276.071 2266.96,217.551 2288.68,180.172 2310.4,164.97 \n",
       "  \n",
       "  \"/>\n",
       "<polyline clip-path=\"url(#clip9603)\" style=\"stroke:#e26f46; stroke-width:4; stroke-opacity:1; fill:none\" points=\"\n",
       "  160.22,167.054 181.939,189.802 203.658,234.396 225.377,299.076 247.096,381.31 268.815,477.923 290.534,585.249 312.253,699.308 333.972,815.988 355.691,931.242 \n",
       "  377.41,1041.25 399.129,1142.6 420.848,1232.39 442.567,1308.35 464.286,1368.91 486.005,1413.19 507.724,1441.02 529.443,1452.9 551.162,1449.91 572.881,1433.61 \n",
       "  594.6,1405.93 616.319,1369.07 638.038,1325.35 659.757,1277.12 681.476,1226.63 703.195,1175.96 724.914,1126.92 746.633,1081.04 768.352,1039.5 790.071,1003.17 \n",
       "  811.79,972.552 833.509,947.857 855.228,929.017 876.947,915.738 898.666,907.54 920.385,903.816 942.104,903.876 963.823,906.993 985.542,912.443 1007.26,919.542 \n",
       "  1028.98,927.662 1050.7,936.258 1072.42,944.873 1094.14,953.144 1115.86,960.801 1137.57,967.658 1159.29,973.607 1181.01,978.608 1202.73,982.67 1224.45,985.847 \n",
       "  1246.17,985.847 1267.89,982.67 1289.61,978.608 1311.33,973.607 1333.05,967.658 1354.76,960.801 1376.48,953.144 1398.2,944.873 1419.92,936.258 1441.64,927.662 \n",
       "  1463.36,919.542 1485.08,912.443 1506.8,906.993 1528.52,903.876 1550.24,903.816 1571.95,907.54 1593.67,915.738 1615.39,929.017 1637.11,947.857 1658.83,972.552 \n",
       "  1680.55,1003.17 1702.27,1039.5 1723.99,1081.04 1745.71,1126.92 1767.43,1175.96 1789.14,1226.63 1810.86,1277.12 1832.58,1325.35 1854.3,1369.07 1876.02,1405.93 \n",
       "  1897.74,1433.61 1919.46,1449.91 1941.18,1452.9 1962.9,1441.02 1984.62,1413.19 2006.33,1368.91 2028.05,1308.35 2049.77,1232.39 2071.49,1142.6 2093.21,1041.25 \n",
       "  2114.93,931.242 2136.65,815.988 2158.37,699.308 2180.09,585.249 2201.81,477.923 2223.52,381.31 2245.24,299.076 2266.96,234.396 2288.68,189.802 2310.4,167.054 \n",
       "  \n",
       "  \"/>\n",
       "<polygon clip-path=\"url(#clip9601)\" points=\"\n",
       "1613.31,390.944 2249.26,390.944 2249.26,209.504 1613.31,209.504 \n",
       "  \" fill=\"#ffffff\" fill-rule=\"evenodd\" fill-opacity=\"1\"/>\n",
       "<polyline clip-path=\"url(#clip9601)\" style=\"stroke:#000000; stroke-width:4; stroke-opacity:1; fill:none\" points=\"\n",
       "  1613.31,390.944 2249.26,390.944 2249.26,209.504 1613.31,209.504 1613.31,390.944 \n",
       "  \"/>\n",
       "<polyline clip-path=\"url(#clip9601)\" style=\"stroke:#009af9; stroke-width:4; stroke-opacity:1; fill:none\" points=\"\n",
       "  1637.31,269.984 1781.31,269.984 \n",
       "  \"/>\n",
       "<g clip-path=\"url(#clip9601)\">\n",
       "<text style=\"fill:#000000; fill-opacity:1; font-family:Arial,Helvetica Neue,Helvetica,sans-serif; font-size:48px; text-anchor:start;\" transform=\"rotate(0, 1805.31, 287.484)\" x=\"1805.31\" y=\"287.484\">wave packet</text>\n",
       "</g>\n",
       "<polyline clip-path=\"url(#clip9601)\" style=\"stroke:#e26f46; stroke-width:4; stroke-opacity:1; fill:none\" points=\"\n",
       "  1637.31,330.464 1781.31,330.464 \n",
       "  \"/>\n",
       "<g clip-path=\"url(#clip9601)\">\n",
       "<text style=\"fill:#000000; fill-opacity:1; font-family:Arial,Helvetica Neue,Helvetica,sans-serif; font-size:48px; text-anchor:start;\" transform=\"rotate(0, 1805.31, 347.964)\" x=\"1805.31\" y=\"347.964\">exact wave packet</text>\n",
       "</g>\n",
       "</svg>\n"
      ]
     },
     "execution_count": 28,
     "metadata": {},
     "output_type": "execute_result"
    }
   ],
   "source": [
    "plot(xcell.(i_c_int),uarray[end][i_c_int],label=\"wave packet\",xlim=(0,1))\n",
    "plot!(xcell.(i_c_int),uexact[i_c_int],label=\"exact wave packet\",title=string(\"k0*dx/pi =\",k0*Δx/π))"
   ]
  },
  {
   "cell_type": "code",
   "execution_count": null,
   "metadata": {
    "nbpresent": {
     "id": "4c4c1e4f-e2a3-4303-9077-6c95966b84ce"
    }
   },
   "outputs": [],
   "source": []
  }
 ],
 "metadata": {
  "kernelspec": {
   "display_name": "Julia 1.1.0",
   "language": "julia",
   "name": "julia-1.1"
  },
  "language_info": {
   "file_extension": ".jl",
   "mimetype": "application/julia",
   "name": "julia",
   "version": "1.1.0"
  }
 },
 "nbformat": 4,
 "nbformat_minor": 2
}
