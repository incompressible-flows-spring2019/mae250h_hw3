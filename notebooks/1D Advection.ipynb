{
 "cells": [
  {
   "cell_type": "markdown",
   "metadata": {
    "nbpresent": {
     "id": "0a4b1d46-32e0-4da0-9fb7-c314e8423623"
    }
   },
   "source": [
    "### A starting notebook for 1D advection"
   ]
  },
  {
   "cell_type": "markdown",
   "metadata": {
    "nbpresent": {
     "id": "274484ac-d519-4a9d-ab13-4d0b16c6f499"
    }
   },
   "source": [
    "The next line activates the environment in which we are working on HW3. It is assumed that you already generated this environment, per the instructions in the document *UsingJulia.pdf*"
   ]
  },
  {
   "cell_type": "code",
   "execution_count": null,
   "metadata": {
    "nbpresent": {
     "id": "e16e9d06-0e2d-40ea-a2f3-a19575321336"
    }
   },
   "outputs": [],
   "source": [
    "using Pkg\n",
    "Pkg.activate(\"/Users/jeff/Dropbox/MAE250H/julia/HW3\")"
   ]
  },
  {
   "cell_type": "markdown",
   "metadata": {
    "nbpresent": {
     "id": "db95657d-5269-439d-906d-1c796882d8de"
    }
   },
   "source": [
    "Load some useful packages, including our own!"
   ]
  },
  {
   "cell_type": "code",
   "execution_count": null,
   "metadata": {
    "nbpresent": {
     "id": "bdf51d95-b742-4cb3-bcc6-f6db83309594"
    },
    "scrolled": true
   },
   "outputs": [],
   "source": [
    "using Revise\n",
    "using Plots\n",
    "using FFTW\n",
    "using HW3"
   ]
  },
  {
   "cell_type": "markdown",
   "metadata": {
    "nbpresent": {
     "id": "ca9b6bc9-7cbe-4d9c-bc9a-b52cfa7645c8"
    }
   },
   "source": [
    "### 1-D Advection"
   ]
  },
  {
   "cell_type": "markdown",
   "metadata": {},
   "source": [
    "The goal of this problem is to solve\n",
    "\n",
    "$$ \\dfrac{\\partial u}{\\partial t} + c \\dfrac{\\partial u}{\\partial x} = 0$$\n",
    "\n",
    "on domain $x \\in [0,L]$ subject to periodic boundary conditions (period $L$) and initial condition\n",
    "\n",
    "$$ u(x,0) = \\dfrac{1}{\\sqrt{\\pi\\sigma^2}} \\mathrm{e}^{-(x-x_0)^2/\\sigma^2} \\cos[k_0(x-x_0)]$$\n",
    "\n",
    "where $x_0 = L/2$. We will keep $L = 1$ and $c = 1$, which is equivalent to non-dimensionalizing by these parameters. The objective is to explore dispersion and dissipation that result from the finite difference method. We will use cell-centered data for this problem."
   ]
  },
  {
   "cell_type": "markdown",
   "metadata": {
    "nbpresent": {
     "id": "621310d9-ecb5-4bab-9fae-7bc368a7e974"
    }
   },
   "source": [
    "Set up the physical domain"
   ]
  },
  {
   "cell_type": "code",
   "execution_count": null,
   "metadata": {
    "nbpresent": {
     "id": "8a08e188-f6a4-4df2-b324-a81ef6a7d824"
    }
   },
   "outputs": [],
   "source": [
    "L = 1  # length of domain\n",
    "xL = 0.0  # coordinate of left side of domain"
   ]
  },
  {
   "cell_type": "markdown",
   "metadata": {},
   "source": [
    "Set the physical parameters"
   ]
  },
  {
   "cell_type": "code",
   "execution_count": null,
   "metadata": {},
   "outputs": [],
   "source": [
    "c = 1  # wave speed"
   ]
  },
  {
   "cell_type": "markdown",
   "metadata": {
    "nbpresent": {
     "id": "6db4dccd-4ee7-4a47-8e85-3917a7eb3fb2"
    }
   },
   "source": [
    "Define the right-hand side functions. These can be supplied to the RK method to set up a time integrator."
   ]
  },
  {
   "cell_type": "code",
   "execution_count": null,
   "metadata": {
    "nbpresent": {
     "id": "a411aa83-fd8f-4bc4-869d-75ed0e6c9f8a"
    }
   },
   "outputs": [],
   "source": [
    "# RHS for central difference method\n",
    "function advect1d_periodic_cd2(u::HW3.CellData1D{N},t::Real) where {N}\n",
    "    du = HW3.CellData1D(u)\n",
    "    \n",
    "    # copy interior data at the ends of domain into opposite ghosts... this enforces the periodic boundary conditions\n",
    "    u[1]   = u[N+1]\n",
    "    u[N+2] = u[2]\n",
    "    \n",
    "    \n",
    "    # translate the cell data to edge data (a simple averaging of neighboring cell centers)\n",
    "    # then compute divergence of this edge data to get central difference at cell centers\n",
    "    q = HW3.EdgeData1D(u)\n",
    "    HW3.translate!(q,u)\n",
    "    du = HW3.divergence(q)\n",
    "    \n",
    "    return -c/Δx*du\n",
    "end\n",
    "\n",
    "# RHS for backward difference method\n",
    "function advect1d_periodic_bd1(u::HW3.CellData1D{N},t::Real) where {N}\n",
    "    du = HW3.CellData1D(u)\n",
    "    \n",
    "    # copy interior data at the ends of domain into opposite ghosts... this enforces the periodic boundary conditions\n",
    "    u[1]   = u[N+1]\n",
    "    u[N+2] = u[2]\n",
    "    \n",
    "    # Compute the gradient at edges, then copy edge data into cell centers immediately to the right\n",
    "    # to obtain backward differencing. edge i to cell i+1\n",
    "    q = HW3.gradient(u)\n",
    "    du[2:N+1] .= q[1:N]     \n",
    "    \n",
    "    return -c/Δx*du\n",
    "end"
   ]
  },
  {
   "cell_type": "markdown",
   "metadata": {
    "nbpresent": {
     "id": "5fd7cdf4-34ef-441c-81bf-d23427613cbc"
    }
   },
   "source": [
    "Choose the discretization and set up the mapping to physical space"
   ]
  },
  {
   "cell_type": "code",
   "execution_count": null,
   "metadata": {},
   "outputs": [],
   "source": [
    "N = 100 # number of interior cells. This should be varied and explored."
   ]
  },
  {
   "cell_type": "code",
   "execution_count": null,
   "metadata": {
    "nbpresent": {
     "id": "d45c43ba-3f4d-4984-bbe3-a973da84e467"
    }
   },
   "outputs": [],
   "source": [
    "Δx = L/N\n",
    "# Note that these are functions, not arrays.\n",
    "xedge(i_e::Real) = xL + (i_e - 1)*Δx\n",
    "xcell(i_c::Real) = xL + (i_c - 1.5)*Δx\n",
    "i_c_int = 2:N+1 # interior cells\n",
    "i_e = 1:N+1 # edges"
   ]
  },
  {
   "cell_type": "markdown",
   "metadata": {
    "nbpresent": {
     "id": "62637020-7c72-40ae-8368-01c1bf501f5e"
    }
   },
   "source": [
    "Choose values for k0 between 0 and π/Δx"
   ]
  },
  {
   "cell_type": "code",
   "execution_count": null,
   "metadata": {
    "nbpresent": {
     "id": "c655eeb8-5203-49ac-9cf3-bc0113dc4490"
    }
   },
   "outputs": [],
   "source": [
    "k0 = 0.75*π/Δx  # Center wavenumber of wave packet. You should explore different values.\n",
    "σ = 0.25*L  # Width of wave packet. Keep this at 0.25L to ensure a tight group.\n",
    "x0 = 0.5*L  # Initial location of center of wave packet. Keep this at 0.5L"
   ]
  },
  {
   "cell_type": "markdown",
   "metadata": {
    "nbpresent": {
     "id": "9c3c15b7-d064-4da4-85e1-c80799cc6260"
    }
   },
   "source": [
    "Define the waveform of wave packet"
   ]
  },
  {
   "cell_type": "code",
   "execution_count": null,
   "metadata": {
    "nbpresent": {
     "id": "6842aef3-7a09-45c7-8c27-026577f34c28"
    }
   },
   "outputs": [],
   "source": [
    "uwave(x) = 1/sqrt(π*σ^2)*exp(-(x-x0)^2/σ^2)*cos(k0*(x-x0))"
   ]
  },
  {
   "cell_type": "markdown",
   "metadata": {
    "nbpresent": {
     "id": "2fd4a5fc-dae2-4e34-bd88-a2901ef6fff6"
    }
   },
   "source": [
    "Set the initial condition of state vector"
   ]
  },
  {
   "cell_type": "code",
   "execution_count": null,
   "metadata": {
    "nbpresent": {
     "id": "faabd351-afd3-439c-9bb2-f702971729d2"
    }
   },
   "outputs": [],
   "source": [
    "u0 = HW3.CellData1D(N)\n",
    "u0[i_c_int] .= uwave.(xcell.(i_c_int));"
   ]
  },
  {
   "cell_type": "markdown",
   "metadata": {
    "nbpresent": {
     "id": "31c3e5af-e198-4b0a-90ba-e558801a013b"
    }
   },
   "source": [
    "Plot the initial wave packet"
   ]
  },
  {
   "cell_type": "code",
   "execution_count": null,
   "metadata": {
    "nbpresent": {
     "id": "c7bbefab-e45d-4ccd-b11a-71f44ed131d4"
    }
   },
   "outputs": [],
   "source": [
    "plot(xcell.(i_c_int),u0[i_c_int],xlim=(0,L),xlabel=\"x\",ylabel=\"u0(x)\",legend=false)"
   ]
  },
  {
   "cell_type": "markdown",
   "metadata": {
    "nbpresent": {
     "id": "c31c16bf-b552-4406-8b0d-ad68847381fd"
    }
   },
   "source": [
    "Let's plot the power spectrum of the wave packet. Here we are just looking at the placement of the peak relative to $\\pi/\\Delta x$, the maximum grid wavenumber."
   ]
  },
  {
   "cell_type": "code",
   "execution_count": null,
   "metadata": {
    "nbpresent": {
     "id": "c4ada093-35f9-4c42-b236-62cca4cf1b6f"
    }
   },
   "outputs": [],
   "source": [
    "using FFTW"
   ]
  },
  {
   "cell_type": "code",
   "execution_count": null,
   "metadata": {
    "nbpresent": {
     "id": "e3a73d00-5f82-4623-b6c4-b91eb94acd68"
    }
   },
   "outputs": [],
   "source": [
    "û₀ = fft(u0)/N\n",
    "k = 1:Int(N/2)\n",
    "kdx = (k.-1)*2π/N\n",
    "plot(kdx,abs.(û₀[k]),xlim=(0,π),ylim=(0,π),xlabel=\"k*dx\",ylabel=\"|FFT(u0)|\",label=\"Spectrum of wavepacket\")\n",
    "plot!(kdx,sin.(kdx),label = \"Modified wavenumber for CD2\")\n",
    "plot!(kdx,kdx,label=\"Exact wavenumber\")"
   ]
  },
  {
   "cell_type": "markdown",
   "metadata": {
    "nbpresent": {
     "id": "018da1f9-dfc6-4ebb-b46b-0fd8ea3a711c"
    }
   },
   "source": [
    "Set up the time step and the integrator.\n",
    "* To use 4th-order Runge-Kutta, set `rk = HW3.RK4`\n",
    "* To use forward Euler, set `rk = HW3.Euler`.\n",
    "\n",
    "To change the spatial scheme,\n",
    "* use `advect1d_periodic_cd2` for 2nd-order central differencing\n",
    "* use `advect1d_periodic_bd1` for 1st-order backward differencing"
   ]
  },
  {
   "cell_type": "code",
   "execution_count": null,
   "metadata": {
    "nbpresent": {
     "id": "3ecbb202-5b5c-48d9-b620-f56b461e8e05"
    }
   },
   "outputs": [],
   "source": [
    "Co = 0.01 # Courant number. Keep this small to ensure that there is negligible time marching error\n",
    "Δt = Co*Δx/c \n",
    "rk = HW3.RK(u0,Δt,advect1d_periodic_cd2;rk=HW3.RK4)"
   ]
  },
  {
   "cell_type": "markdown",
   "metadata": {
    "nbpresent": {
     "id": "5ba5644b-8672-44dc-bddc-3a0914d2f327"
    }
   },
   "source": [
    "Integrate this to final time of 0.25. Store the data in arrays."
   ]
  },
  {
   "cell_type": "code",
   "execution_count": null,
   "metadata": {
    "nbpresent": {
     "id": "78a22428-80dd-4ff6-a9e5-5e88d37a4879"
    }
   },
   "outputs": [],
   "source": [
    "tf = 0.25\n",
    "nsteps = ceil(Int,tf/Δt)\n",
    "t = 0.0\n",
    "u = deepcopy(u0)\n",
    "uarray = [deepcopy(u)]\n",
    "tarray = [t]\n",
    "for j = 1:nsteps\n",
    "    t, u = rk(t,u)\n",
    "    push!(uarray,deepcopy(u))\n",
    "    push!(tarray,t)\n",
    "end"
   ]
  },
  {
   "cell_type": "markdown",
   "metadata": {
    "nbpresent": {
     "id": "44f03a05-7dc2-4b7a-ade9-69d58ba02343"
    }
   },
   "source": [
    "Evaluate exact solution at the end of the integration interval. "
   ]
  },
  {
   "cell_type": "code",
   "execution_count": null,
   "metadata": {
    "nbpresent": {
     "id": "df8d634e-71a3-4cfb-a91a-f8fccf748c0c"
    }
   },
   "outputs": [],
   "source": [
    "texact = tarray[end]\n",
    "uexact = HW3.CellData1D(u)\n",
    "for i in i_c_int\n",
    "    x̃ = xcell(i)-c*texact\n",
    "    x̃ = mod(x̃,L) # this ensures periodicity\n",
    "    uexact[i] = uwave(x̃)\n",
    "end"
   ]
  },
  {
   "cell_type": "markdown",
   "metadata": {
    "nbpresent": {
     "id": "9407eda8-8ce5-4df1-8e3a-e0a3ef1db542"
    }
   },
   "source": [
    "Compare the numerical solution with the exact solution"
   ]
  },
  {
   "cell_type": "code",
   "execution_count": null,
   "metadata": {
    "nbpresent": {
     "id": "ce277503-0127-4aba-8a63-791a789a3c6f"
    }
   },
   "outputs": [],
   "source": [
    "plot(xcell.(i_c_int),uarray[end][i_c_int],label=\"wave packet\",xlim=(0,1))\n",
    "plot!(xcell.(i_c_int),uexact[i_c_int],label=\"exact wave packet\",title=string(\"k0*dx/pi =\",k0*Δx/π))"
   ]
  },
  {
   "cell_type": "code",
   "execution_count": null,
   "metadata": {
    "nbpresent": {
     "id": "4c4c1e4f-e2a3-4303-9077-6c95966b84ce"
    }
   },
   "outputs": [],
   "source": []
  }
 ],
 "metadata": {
  "kernelspec": {
   "display_name": "Julia 1.1.0",
   "language": "julia",
   "name": "julia-1.1"
  },
  "language_info": {
   "file_extension": ".jl",
   "mimetype": "application/julia",
   "name": "julia",
   "version": "1.1.0"
  }
 },
 "nbformat": 4,
 "nbformat_minor": 2
}
