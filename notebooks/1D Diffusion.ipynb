{
 "cells": [
  {
   "cell_type": "markdown",
   "metadata": {
    "nbpresent": {
     "id": "0a4b1d46-32e0-4da0-9fb7-c314e8423623"
    }
   },
   "source": [
    "### A starting notebook for 1D diffusion"
   ]
  },
  {
   "cell_type": "markdown",
   "metadata": {
    "nbpresent": {
     "id": "274484ac-d519-4a9d-ab13-4d0b16c6f499"
    }
   },
   "source": [
    "The next line activates the environment in which we are working on HW3. It is assumed that you already generated this environment, per the instructions in the document *UsingJulia.pdf*"
   ]
  },
  {
   "cell_type": "code",
   "execution_count": null,
   "metadata": {
    "nbpresent": {
     "id": "e16e9d06-0e2d-40ea-a2f3-a19575321336"
    }
   },
   "outputs": [],
   "source": [
    "using Pkg\n",
    "Pkg.activate(\"/Users/jeff/Dropbox/MAE250H/julia/HW3\")"
   ]
  },
  {
   "cell_type": "markdown",
   "metadata": {
    "nbpresent": {
     "id": "db95657d-5269-439d-906d-1c796882d8de"
    }
   },
   "source": [
    "Load some useful packages, including our own!"
   ]
  },
  {
   "cell_type": "code",
   "execution_count": null,
   "metadata": {
    "nbpresent": {
     "id": "bdf51d95-b742-4cb3-bcc6-f6db83309594"
    },
    "scrolled": true
   },
   "outputs": [],
   "source": [
    "using Revise\n",
    "using Plots\n",
    "using HW3"
   ]
  },
  {
   "cell_type": "markdown",
   "metadata": {},
   "source": [
    "### Problem statement"
   ]
  },
  {
   "cell_type": "markdown",
   "metadata": {},
   "source": [
    "The goal of this problem is to solve\n",
    "\n",
    "$$ \\dfrac{\\partial u}{\\partial t} = \\nu \\dfrac{\\partial^2 u}{\\partial x^2}$$\n",
    "\n",
    "on domain $x \\in [0,L]$ subject to boundary conditions $u(0,t) = u_L$ and $u(L,t) = u_R$ and initial condition $u(x,0) = 0$."
   ]
  },
  {
   "cell_type": "markdown",
   "metadata": {
    "nbpresent": {
     "id": "7ab98435-a636-414a-9e85-6f040f4d4c07"
    }
   },
   "source": [
    "### Set up the problem"
   ]
  },
  {
   "cell_type": "code",
   "execution_count": null,
   "metadata": {
    "nbpresent": {
     "id": "c17e1bfd-40af-48e3-a944-f73fe91953b6"
    }
   },
   "outputs": [],
   "source": [
    "L = 1  # length of domain\n",
    "xL = 0.0  # coordinate of left side of domain"
   ]
  },
  {
   "cell_type": "markdown",
   "metadata": {},
   "source": [
    "Set physical parameters of the problem"
   ]
  },
  {
   "cell_type": "code",
   "execution_count": null,
   "metadata": {},
   "outputs": [],
   "source": [
    "ν = 1\n",
    "uL = 1\n",
    "uR = 2"
   ]
  },
  {
   "cell_type": "markdown",
   "metadata": {},
   "source": [
    "Set the spatial discretization and the mapping to physical space"
   ]
  },
  {
   "cell_type": "code",
   "execution_count": null,
   "metadata": {
    "nbpresent": {
     "id": "7509a419-45c7-4cd9-8c37-b4657ff95914"
    }
   },
   "outputs": [],
   "source": [
    "N = 100"
   ]
  },
  {
   "cell_type": "code",
   "execution_count": null,
   "metadata": {
    "nbpresent": {
     "id": "3e21e725-ea4c-4a7a-9037-88cf0142d78c"
    }
   },
   "outputs": [],
   "source": [
    "Δx = L/N\n",
    "# Note that these are functions, not arrays.\n",
    "xedge(i_e::Real) = xL + (i_e - 1)*Δx\n",
    "xcell(i_c::Real) = xL + (i_c - 1.5)*Δx\n",
    "i_c_int = 2:N+1 # interior cells\n",
    "i_e = 1:N+1 # edges"
   ]
  },
  {
   "cell_type": "markdown",
   "metadata": {},
   "source": [
    "Here we will define functions for use in integrating the problem"
   ]
  },
  {
   "cell_type": "code",
   "execution_count": null,
   "metadata": {
    "nbpresent": {
     "id": "af3c6548-5ecd-4c1b-b6f3-d3f011692d7e"
    }
   },
   "outputs": [],
   "source": [
    "# RHS function of diffusion problem for edge data\n",
    "\"\"\"\n",
    "        diffuse1d_dirichlet(t,u::EdgeData1D) -> EdgeData1D\n",
    "\n",
    "Computes the right-hand side of the 1-d diffusion problem at the current time `t` and state (1-d edge data `u`).\n",
    "\"\"\"\n",
    "function diffuse1d_dirichlet(u::HW3.EdgeData1D{N},t::Real) where {N}\n",
    "    du = HW3.EdgeData1D(u)\n",
    "    \n",
    "    # set boundary values to Dirichlet values before applying Laplacian\n",
    "    u[1] = uL\n",
    "    u[N+1] = uR\n",
    "    \n",
    "    du = HW3.laplacian(u)\n",
    "    \n",
    "    return ν/Δx^2*du\n",
    "end\n",
    "\n",
    "#====== you write the following =====#\n",
    "\n",
    "# RHS function of diffusion problem for cell-centered data\n",
    "\"\"\"\n",
    "        diffuse1d_dirichlet(t,u::CellData1D) -> CellData1D\n",
    "\n",
    "Computes the right-hand side of the 1-d diffusion problem at the current time `t` and state (1-d cell data `u`).\n",
    "\"\"\"\n",
    "function diffuse1d_dirichlet(u::HW3.CellData1D{N},t::Real) where {N}\n",
    "    du = HW3.CellData1D(u)\n",
    "    \n",
    "    # write this\n",
    "    \n",
    "    return ν/Δx^2*du\n",
    "end\n",
    "\n",
    "\n",
    "\n",
    "# Crank-Nicolson for edge-based data\n",
    "\"\"\"\n",
    "        diffuse1d_dirichlet_cn(t,u::EdgeData1D) -> Real, EdgeData1D\n",
    "\n",
    "Advances the state vector (1-d edge data `u`) by one time step and returns the new time\n",
    "and the value of `u` at that time.\n",
    "\"\"\"\n",
    "function diffuse1d_dirichlet_cn(t::Real,u::HW3.EdgeData1D{N}) where {N}\n",
    "    unp1 = deepcopy(u)\n",
    "    \n",
    "    # write this\n",
    "    \n",
    "    return t+Δt, unp1\n",
    "    \n",
    "end\n",
    "\n",
    "# Crank-Nicolson for cell-centered data\n",
    "\"\"\"\n",
    "        diffuse1d_dirichlet_cn(t,u::CellData1D) -> Real, CellData1D\n",
    "\n",
    "Advances the state vector (1-d cell data `u`) by one time step and returns the new time\n",
    "and the value of `u` at that time.\n",
    "\"\"\"\n",
    "function diffuse1d_dirichlet_cn(t::Real,u::HW3.CellData1D{N}) where {N}\n",
    "    unp1 = deepcopy(u) # currently hold uⁿ    \n",
    "    \n",
    "    # write this\n",
    "    \n",
    "    return t+Δt, unp1\n",
    "    \n",
    "end"
   ]
  },
  {
   "cell_type": "markdown",
   "metadata": {
    "nbpresent": {
     "id": "1ad6e85b-0b17-41ad-9847-f56f7a064106"
    }
   },
   "source": [
    "#### Edge-based solution, using RK4"
   ]
  },
  {
   "cell_type": "markdown",
   "metadata": {
    "nbpresent": {
     "id": "79ada658-93e1-4900-a8c9-3e6d15d39a92"
    }
   },
   "source": [
    "Initial condition"
   ]
  },
  {
   "cell_type": "code",
   "execution_count": null,
   "metadata": {
    "nbpresent": {
     "id": "bd8f8929-26b9-4f83-9f43-0828c7ad6f36"
    }
   },
   "outputs": [],
   "source": [
    "u0 = HW3.EdgeData1D(N);"
   ]
  },
  {
   "cell_type": "markdown",
   "metadata": {
    "nbpresent": {
     "id": "9c6674ee-210f-4f6b-a918-6ccec32569c6"
    }
   },
   "source": [
    "Steady-state exact solution"
   ]
  },
  {
   "cell_type": "code",
   "execution_count": null,
   "metadata": {
    "nbpresent": {
     "id": "0619dd81-81f0-4053-906f-a71329961b0e"
    }
   },
   "outputs": [],
   "source": [
    "uss_edge = HW3.EdgeData1D(u0)\n",
    "uss_edge[i_e] .= (uR-uL)/L*xedge.(i_e) .+ uL;"
   ]
  },
  {
   "cell_type": "markdown",
   "metadata": {
    "nbpresent": {
     "id": "c957b547-8dc8-461e-af46-ed4768ccb6aa"
    }
   },
   "source": [
    "Set up time step and integrator"
   ]
  },
  {
   "cell_type": "code",
   "execution_count": null,
   "metadata": {
    "nbpresent": {
     "id": "3f6b10d1-9e80-4c9a-89e4-c78ae38f0c60"
    }
   },
   "outputs": [],
   "source": [
    "Fo = 0.5 # Fourier number: this choice should be explored!\n",
    "Δt = Fo*Δx^2/ν \n",
    "rk = HW3.RK(u0,Δt,diffuse1d_dirichlet;rk=HW3.RK4)"
   ]
  },
  {
   "cell_type": "markdown",
   "metadata": {},
   "source": [
    "### Solve the problem"
   ]
  },
  {
   "cell_type": "markdown",
   "metadata": {
    "nbpresent": {
     "id": "d53dda1e-ec1c-4a1b-bf21-91f85ddf6b69"
    }
   },
   "source": [
    "Integrate this to final time of tf. Try different final times to explore the evolution of the problem."
   ]
  },
  {
   "cell_type": "code",
   "execution_count": null,
   "metadata": {
    "nbpresent": {
     "id": "f05e20de-4111-42d8-b4a3-c486af93514b"
    }
   },
   "outputs": [],
   "source": [
    "tf = 0.1\n",
    "nsteps = ceil(Int,tf/Δt)\n",
    "\n",
    "# Initial conditions\n",
    "t = 0.0\n",
    "u = deepcopy(u0)\n",
    "\n",
    "# Set up some arrays to store data\n",
    "uarray = [deepcopy(u)]\n",
    "tarray = [t]\n",
    "\n",
    "# March!\n",
    "for j = 1:nsteps\n",
    "    t, u = rk(t,u)\n",
    "    \n",
    "    # enforce boundary conditions on result\n",
    "    u[1] = uL\n",
    "    u[N+1] = uR\n",
    "    \n",
    "    push!(uarray,deepcopy(u))\n",
    "    push!(tarray,t)\n",
    "end"
   ]
  },
  {
   "cell_type": "markdown",
   "metadata": {
    "nbpresent": {
     "id": "ba52cc71-047f-49ca-89b2-af4544bddbac"
    }
   },
   "source": [
    "Plot the result and compare with steady-state exact solution"
   ]
  },
  {
   "cell_type": "code",
   "execution_count": null,
   "metadata": {
    "nbpresent": {
     "id": "ff36b5ed-52a7-491a-88de-b4e4ba91b2cd"
    }
   },
   "outputs": [],
   "source": [
    "plot(xedge.(i_e),uarray[end][i_e],xlim=(0,1),ylim=(0,2),label=string(\"numerical at t=\",tarray[end]),xlabel=\"x\")\n",
    "plot!(xedge.(i_e),uss_edge,label=\"steady-state exact\")"
   ]
  },
  {
   "cell_type": "markdown",
   "metadata": {
    "nbpresent": {
     "id": "7048de41-179e-47a0-8212-1e0adab8b382"
    }
   },
   "source": [
    "#### Try it with cell-centered data and Dirichlet conditions"
   ]
  },
  {
   "cell_type": "code",
   "execution_count": null,
   "metadata": {},
   "outputs": [],
   "source": []
  },
  {
   "cell_type": "markdown",
   "metadata": {},
   "source": [
    "#### Use Crank-Nicolson time marching method to solve on edges or cells"
   ]
  },
  {
   "cell_type": "code",
   "execution_count": null,
   "metadata": {
    "nbpresent": {
     "id": "4c4c1e4f-e2a3-4303-9077-6c95966b84ce"
    }
   },
   "outputs": [],
   "source": []
  }
 ],
 "metadata": {
  "kernelspec": {
   "display_name": "Julia 1.1.0",
   "language": "julia",
   "name": "julia-1.1"
  },
  "language_info": {
   "file_extension": ".jl",
   "mimetype": "application/julia",
   "name": "julia",
   "version": "1.1.0"
  }
 },
 "nbformat": 4,
 "nbformat_minor": 2
}
