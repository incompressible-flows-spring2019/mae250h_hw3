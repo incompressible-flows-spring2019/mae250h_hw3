{
 "cells": [
  {
   "cell_type": "markdown",
   "metadata": {
    "nbpresent": {
     "id": "0a4b1d46-32e0-4da0-9fb7-c314e8423623"
    }
   },
   "source": [
    "### A starting notebook for 1D diffusion"
   ]
  },
  {
   "cell_type": "markdown",
   "metadata": {
    "nbpresent": {
     "id": "274484ac-d519-4a9d-ab13-4d0b16c6f499"
    }
   },
   "source": [
    "The next line activates the environment in which we are working on HW3. It is assumed that you already generated this environment, per the instructions in the document *UsingJulia.pdf*"
   ]
  },
  {
   "cell_type": "code",
   "execution_count": 1,
   "metadata": {
    "nbpresent": {
     "id": "e16e9d06-0e2d-40ea-a2f3-a19575321336"
    }
   },
   "outputs": [
    {
     "data": {
      "text/plain": [
       "\"/Users/jeff/Dropbox/MAE250H/julia/development/HW3/Project.toml\""
      ]
     },
     "execution_count": 1,
     "metadata": {},
     "output_type": "execute_result"
    }
   ],
   "source": [
    "using Pkg\n",
    "Pkg.activate(\"/Users/jeff/Dropbox/MAE250H/julia/HW3\")"
   ]
  },
  {
   "cell_type": "markdown",
   "metadata": {
    "nbpresent": {
     "id": "db95657d-5269-439d-906d-1c796882d8de"
    }
   },
   "source": [
    "Load some useful packages, including our own!"
   ]
  },
  {
   "cell_type": "code",
   "execution_count": 2,
   "metadata": {
    "nbpresent": {
     "id": "bdf51d95-b742-4cb3-bcc6-f6db83309594"
    },
    "scrolled": true
   },
   "outputs": [
    {
     "name": "stderr",
     "output_type": "stream",
     "text": [
      "┌ Info: Recompiling stale cache file /Users/jeff/.julia/compiled/v1.1/HW3/tjUnr.ji for HW3 [4966e922-5f3d-11e9-0e36-27d9e5a14995]\n",
      "└ @ Base loading.jl:1184\n"
     ]
    }
   ],
   "source": [
    "using Revise\n",
    "using Plots\n",
    "using HW3"
   ]
  },
  {
   "cell_type": "markdown",
   "metadata": {},
   "source": [
    "### Problem statement"
   ]
  },
  {
   "cell_type": "markdown",
   "metadata": {},
   "source": [
    "The goal of this problem is to solve\n",
    "\n",
    "$$ \\dfrac{\\partial u}{\\partial t} = \\nu \\dfrac{\\partial^2 u}{\\partial x^2}$$\n",
    "\n",
    "on domain $x \\in [0,L]$ subject to boundary conditions $u(0,t) = u_L$ and $u(L,t) = u_R$ and initial condition $u(x,0) = 0$."
   ]
  },
  {
   "cell_type": "markdown",
   "metadata": {
    "nbpresent": {
     "id": "7ab98435-a636-414a-9e85-6f040f4d4c07"
    }
   },
   "source": [
    "### Set up the problem"
   ]
  },
  {
   "cell_type": "code",
   "execution_count": 3,
   "metadata": {
    "nbpresent": {
     "id": "c17e1bfd-40af-48e3-a944-f73fe91953b6"
    }
   },
   "outputs": [
    {
     "data": {
      "text/plain": [
       "0.0"
      ]
     },
     "execution_count": 3,
     "metadata": {},
     "output_type": "execute_result"
    }
   ],
   "source": [
    "L = 1  # length of domain\n",
    "xL = 0.0  # coordinate of left side of domain"
   ]
  },
  {
   "cell_type": "markdown",
   "metadata": {},
   "source": [
    "Set physical parameters of the problem"
   ]
  },
  {
   "cell_type": "code",
   "execution_count": 4,
   "metadata": {},
   "outputs": [
    {
     "data": {
      "text/plain": [
       "2"
      ]
     },
     "execution_count": 4,
     "metadata": {},
     "output_type": "execute_result"
    }
   ],
   "source": [
    "ν = 1\n",
    "uL = 1\n",
    "uR = 2"
   ]
  },
  {
   "cell_type": "markdown",
   "metadata": {},
   "source": [
    "Set the spatial discretization and the mapping to physical space"
   ]
  },
  {
   "cell_type": "code",
   "execution_count": 5,
   "metadata": {
    "nbpresent": {
     "id": "7509a419-45c7-4cd9-8c37-b4657ff95914"
    }
   },
   "outputs": [
    {
     "data": {
      "text/plain": [
       "100"
      ]
     },
     "execution_count": 5,
     "metadata": {},
     "output_type": "execute_result"
    }
   ],
   "source": [
    "N = 100"
   ]
  },
  {
   "cell_type": "code",
   "execution_count": 6,
   "metadata": {
    "nbpresent": {
     "id": "3e21e725-ea4c-4a7a-9037-88cf0142d78c"
    }
   },
   "outputs": [
    {
     "data": {
      "text/plain": [
       "1:101"
      ]
     },
     "execution_count": 6,
     "metadata": {},
     "output_type": "execute_result"
    }
   ],
   "source": [
    "Δx = L/N\n",
    "# Note that these are functions, not arrays.\n",
    "xedge(i_e::Real) = xL + (i_e - 1)*Δx\n",
    "xcell(i_c::Real) = xL + (i_c - 1.5)*Δx\n",
    "i_c_int = 2:N+1 # interior cells\n",
    "i_e = 1:N+1 # edges"
   ]
  },
  {
   "cell_type": "markdown",
   "metadata": {},
   "source": [
    "Here we will define functions for use in integrating the problem"
   ]
  },
  {
   "cell_type": "code",
   "execution_count": 7,
   "metadata": {
    "nbpresent": {
     "id": "af3c6548-5ecd-4c1b-b6f3-d3f011692d7e"
    }
   },
   "outputs": [
    {
     "data": {
      "text/plain": [
       "diffuse1d_dirichlet_cn (generic function with 2 methods)"
      ]
     },
     "execution_count": 7,
     "metadata": {},
     "output_type": "execute_result"
    }
   ],
   "source": [
    "# RHS function of diffusion problem for edge data\n",
    "function diffuse1d_dirichlet(u::HW3.EdgeData1D{N},t::Real) where {N}\n",
    "    du = HW3.EdgeData1D(u)\n",
    "    \n",
    "    # set boundary values to Dirichlet values before applying Laplacian\n",
    "    u[1] = uL\n",
    "    u[N+1] = uR\n",
    "    \n",
    "    du = HW3.laplacian(u)\n",
    "    \n",
    "    return ν/Δx^2*du\n",
    "end\n",
    "\n",
    "# RHS function of diffusion problem for cell-centered data\n",
    "function diffuse1d_dirichlet(u::HW3.CellData1D{N},t::Real) where {N}\n",
    "    du = HW3.CellData1D(u)\n",
    "    \n",
    "    # set ghost cell values to account for Dirichlet values by simple average\n",
    "    u[1] = -u[2] + 2uL\n",
    "    u[N+2] = -u[N+1] + 2uR\n",
    "    \n",
    "    du = HW3.laplacian(u)\n",
    "    \n",
    "    return ν/Δx^2*du\n",
    "end\n",
    "\n",
    "# Crank-Nicolson for edge-based data\n",
    "function diffuse1d_dirichlet_cn(t::Real,u::HW3.EdgeData1D{N}) where {N}\n",
    "    unp1 = deepcopy(u) # currently hold uⁿ    \n",
    "\n",
    "    # set the boundary values to zero. We will account for the actual boundary values separately\n",
    "    u[1] = u[N+1] = 0\n",
    "    \n",
    "    Fo = ν*Δt/Δx^2 # grid Fourier number\n",
    "    \n",
    "    # unp1 will hold the right-hand side for now\n",
    "    unp1 .+= 0.5*Fo*HW3.laplacian(u)\n",
    "    \n",
    "    # Now account for boundary values\n",
    "    # It is assumed for now that uL and uR are static\n",
    "    unp1[2] += 0.5*Fo*(uL + uL) \n",
    "    unp1[N] += 0.5*Fo*(uR + uR)\n",
    "    \n",
    "    # Set up tridiagonal solve for the N-1 interior edges\n",
    "    alap = 1\n",
    "    blap = -2\n",
    "    clap = 1\n",
    "    \n",
    "    a =   -0.5*Fo*alap\n",
    "    b = 1 -0.5*Fo*blap\n",
    "    c =   -0.5*Fo*clap\n",
    "    \n",
    "    # notice that we are only solving this for the interior edges, and placing\n",
    "    # the solution in the same vector (replacing the right-hand side there)\n",
    "    unp1[2:N] .= HW3.trisolve(a,b,c,unp1[2:N],\"regular\")\n",
    "    \n",
    "    # Now place the boundary values in the appropriate places\n",
    "    unp1[1] = uL\n",
    "    unp1[N+1] = uR\n",
    "    \n",
    "    return t+Δt, unp1\n",
    "    \n",
    "end\n",
    "\n",
    "# Crank-Nicolson for cell-centered data\n",
    "function diffuse1d_dirichlet_cn(t::Real,u::HW3.CellData1D{N}) where {N}\n",
    "    unp1 = deepcopy(u) # currently hold uⁿ    \n",
    "\n",
    "    # set the boundary values to zero. We will account for the actual boundary values separately\n",
    "    u[1] = u[N+2] = 0\n",
    "    \n",
    "    Fo = ν*Δt/Δx^2 # grid Fourier number\n",
    "    \n",
    "    # unp1 will hold the right-hand side for now\n",
    "    unp1 .+= 0.5*Fo*HW3.laplacian(u)\n",
    "    \n",
    "    \n",
    "    # Now account for boundary values, adjusting the Laplacian at the end interior cells\n",
    "    # due to the averaging, e.g., u[1] = -u[2] + 2uL\n",
    "    # Also, it is assumed for now that uL and uR are static\n",
    "    unp1[2]   += Fo*(uL + uL) - 0.5*Fo*u[2]\n",
    "    unp1[N+1] += Fo*(uR + uR) - 0.5*Fo*u[N+1]\n",
    "    \n",
    "    # Set up tridiagonal solve for the N interior cells, using vectors since end values of b are different\n",
    "    alap = 1*ones(N-1)\n",
    "    blap = -2*ones(N)\n",
    "    clap = 1*ones(N-1)\n",
    "   \n",
    "    # Adjustment for the Laplacian combined with the averaging (note that 1 and N correspond to cells 2 and N+1)\n",
    "    blap[1] -= 1\n",
    "    blap[N] -= 1\n",
    "    \n",
    "    a =     -0.5*Fo*alap\n",
    "    b = 1 .- 0.5*Fo*blap\n",
    "    c =     -0.5*Fo*clap\n",
    "    \n",
    "    # notice that we are only solving this for the interior edges, and placing\n",
    "    # the solution in the same vector (replacing the right-hand side there)\n",
    "    unp1[2:N+1] .= HW3.trisolve(a,b,c,unp1[2:N+1],\"regular\")\n",
    "    \n",
    "    # Now place the boundary values in the appropriate places\n",
    "    unp1[1]   = -unp1[2]   + 2*uL\n",
    "    unp1[N+2] = -unp1[N+1] + 2*uR\n",
    "    \n",
    "    return t+Δt, unp1\n",
    "    \n",
    "end"
   ]
  },
  {
   "cell_type": "markdown",
   "metadata": {
    "nbpresent": {
     "id": "1ad6e85b-0b17-41ad-9847-f56f7a064106"
    }
   },
   "source": [
    "#### Edge-based solution, using RK4"
   ]
  },
  {
   "cell_type": "markdown",
   "metadata": {
    "nbpresent": {
     "id": "79ada658-93e1-4900-a8c9-3e6d15d39a92"
    }
   },
   "source": [
    "Initial condition"
   ]
  },
  {
   "cell_type": "code",
   "execution_count": 8,
   "metadata": {
    "nbpresent": {
     "id": "bd8f8929-26b9-4f83-9f43-0828c7ad6f36"
    }
   },
   "outputs": [],
   "source": [
    "u0 = HW3.EdgeData1D(N);"
   ]
  },
  {
   "cell_type": "markdown",
   "metadata": {
    "nbpresent": {
     "id": "9c6674ee-210f-4f6b-a918-6ccec32569c6"
    }
   },
   "source": [
    "Steady-state exact solution"
   ]
  },
  {
   "cell_type": "code",
   "execution_count": 9,
   "metadata": {
    "nbpresent": {
     "id": "0619dd81-81f0-4053-906f-a71329961b0e"
    }
   },
   "outputs": [],
   "source": [
    "uss_edge = HW3.EdgeData1D(u0)\n",
    "uss_edge[i_e] .= (uR-uL)/L*xedge.(i_e) .+ uL;"
   ]
  },
  {
   "cell_type": "markdown",
   "metadata": {
    "nbpresent": {
     "id": "c957b547-8dc8-461e-af46-ed4768ccb6aa"
    }
   },
   "source": [
    "Set up time step and integrator"
   ]
  },
  {
   "cell_type": "code",
   "execution_count": 10,
   "metadata": {
    "nbpresent": {
     "id": "3f6b10d1-9e80-4c9a-89e4-c78ae38f0c60"
    }
   },
   "outputs": [
    {
     "data": {
      "text/plain": [
       "Order-4 RK integator with\n",
       "   State of type HW3.EdgeData1D{100}\n",
       "   Time step size 5.0e-5\n"
      ]
     },
     "execution_count": 10,
     "metadata": {},
     "output_type": "execute_result"
    }
   ],
   "source": [
    "Fo = 0.5 # Fourier number: this choice should be explored!\n",
    "Δt = Fo*Δx^2/ν \n",
    "rk = HW3.RK(u0,Δt,diffuse1d_dirichlet;rk=HW3.RK4)"
   ]
  },
  {
   "cell_type": "markdown",
   "metadata": {},
   "source": [
    "### Solve the problem"
   ]
  },
  {
   "cell_type": "markdown",
   "metadata": {
    "nbpresent": {
     "id": "d53dda1e-ec1c-4a1b-bf21-91f85ddf6b69"
    }
   },
   "source": [
    "Integrate this to final time of tf. Try different final times to explore the evolution of the problem."
   ]
  },
  {
   "cell_type": "code",
   "execution_count": 11,
   "metadata": {
    "nbpresent": {
     "id": "f05e20de-4111-42d8-b4a3-c486af93514b"
    }
   },
   "outputs": [],
   "source": [
    "tf = 0.5\n",
    "nsteps = ceil(Int,tf/Δt)\n",
    "\n",
    "# Initial conditions\n",
    "t = 0.0\n",
    "u = deepcopy(u0)\n",
    "\n",
    "# Set up some arrays to store data\n",
    "uarray = [deepcopy(u)]\n",
    "tarray = [t]\n",
    "\n",
    "# March!\n",
    "for j = 1:nsteps\n",
    "    t, u = rk(t,u)\n",
    "    \n",
    "    # enforce boundary conditions on result\n",
    "    u[1] = uL\n",
    "    u[N+1] = uR\n",
    "    \n",
    "    push!(uarray,deepcopy(u))\n",
    "    push!(tarray,t)\n",
    "end"
   ]
  },
  {
   "cell_type": "markdown",
   "metadata": {
    "nbpresent": {
     "id": "ba52cc71-047f-49ca-89b2-af4544bddbac"
    }
   },
   "source": [
    "Plot the result and compare with steady-state exact solution"
   ]
  },
  {
   "cell_type": "code",
   "execution_count": 12,
   "metadata": {
    "nbpresent": {
     "id": "ff36b5ed-52a7-491a-88de-b4e4ba91b2cd"
    }
   },
   "outputs": [
    {
     "data": {
      "image/svg+xml": [
       "<?xml version=\"1.0\" encoding=\"utf-8\"?>\n",
       "<svg xmlns=\"http://www.w3.org/2000/svg\" xmlns:xlink=\"http://www.w3.org/1999/xlink\" width=\"600\" height=\"400\" viewBox=\"0 0 2400 1600\">\n",
       "<defs>\n",
       "  <clipPath id=\"clip3900\">\n",
       "    <rect x=\"0\" y=\"0\" width=\"2000\" height=\"2000\"/>\n",
       "  </clipPath>\n",
       "</defs>\n",
       "<defs>\n",
       "  <clipPath id=\"clip3901\">\n",
       "    <rect x=\"0\" y=\"0\" width=\"2400\" height=\"1600\"/>\n",
       "  </clipPath>\n",
       "</defs>\n",
       "<polygon clip-path=\"url(#clip3901)\" points=\"\n",
       "0,1600 2400,1600 2400,0 0,0 \n",
       "  \" fill=\"#ffffff\" fill-rule=\"evenodd\" fill-opacity=\"1\"/>\n",
       "<defs>\n",
       "  <clipPath id=\"clip3902\">\n",
       "    <rect x=\"480\" y=\"0\" width=\"1681\" height=\"1600\"/>\n",
       "  </clipPath>\n",
       "</defs>\n",
       "<polygon clip-path=\"url(#clip3901)\" points=\"\n",
       "161.394,1440.48 2321.26,1440.48 2321.26,47.2441 161.394,47.2441 \n",
       "  \" fill=\"#ffffff\" fill-rule=\"evenodd\" fill-opacity=\"1\"/>\n",
       "<defs>\n",
       "  <clipPath id=\"clip3903\">\n",
       "    <rect x=\"161\" y=\"47\" width=\"2161\" height=\"1394\"/>\n",
       "  </clipPath>\n",
       "</defs>\n",
       "<polyline clip-path=\"url(#clip3903)\" style=\"stroke:#000000; stroke-width:2; stroke-opacity:0.1; fill:none\" points=\"\n",
       "  161.394,1440.48 161.394,47.2441 \n",
       "  \"/>\n",
       "<polyline clip-path=\"url(#clip3903)\" style=\"stroke:#000000; stroke-width:2; stroke-opacity:0.1; fill:none\" points=\"\n",
       "  593.367,1440.48 593.367,47.2441 \n",
       "  \"/>\n",
       "<polyline clip-path=\"url(#clip3903)\" style=\"stroke:#000000; stroke-width:2; stroke-opacity:0.1; fill:none\" points=\"\n",
       "  1025.34,1440.48 1025.34,47.2441 \n",
       "  \"/>\n",
       "<polyline clip-path=\"url(#clip3903)\" style=\"stroke:#000000; stroke-width:2; stroke-opacity:0.1; fill:none\" points=\"\n",
       "  1457.31,1440.48 1457.31,47.2441 \n",
       "  \"/>\n",
       "<polyline clip-path=\"url(#clip3903)\" style=\"stroke:#000000; stroke-width:2; stroke-opacity:0.1; fill:none\" points=\"\n",
       "  1889.29,1440.48 1889.29,47.2441 \n",
       "  \"/>\n",
       "<polyline clip-path=\"url(#clip3903)\" style=\"stroke:#000000; stroke-width:2; stroke-opacity:0.1; fill:none\" points=\"\n",
       "  2321.26,1440.48 2321.26,47.2441 \n",
       "  \"/>\n",
       "<polyline clip-path=\"url(#clip3903)\" style=\"stroke:#000000; stroke-width:2; stroke-opacity:0.1; fill:none\" points=\"\n",
       "  161.394,1440.48 2321.26,1440.48 \n",
       "  \"/>\n",
       "<polyline clip-path=\"url(#clip3903)\" style=\"stroke:#000000; stroke-width:2; stroke-opacity:0.1; fill:none\" points=\"\n",
       "  161.394,1092.17 2321.26,1092.17 \n",
       "  \"/>\n",
       "<polyline clip-path=\"url(#clip3903)\" style=\"stroke:#000000; stroke-width:2; stroke-opacity:0.1; fill:none\" points=\"\n",
       "  161.394,743.863 2321.26,743.863 \n",
       "  \"/>\n",
       "<polyline clip-path=\"url(#clip3903)\" style=\"stroke:#000000; stroke-width:2; stroke-opacity:0.1; fill:none\" points=\"\n",
       "  161.394,395.554 2321.26,395.554 \n",
       "  \"/>\n",
       "<polyline clip-path=\"url(#clip3903)\" style=\"stroke:#000000; stroke-width:2; stroke-opacity:0.1; fill:none\" points=\"\n",
       "  161.394,47.2441 2321.26,47.2441 \n",
       "  \"/>\n",
       "<polyline clip-path=\"url(#clip3901)\" style=\"stroke:#000000; stroke-width:4; stroke-opacity:1; fill:none\" points=\"\n",
       "  161.394,1440.48 2321.26,1440.48 \n",
       "  \"/>\n",
       "<polyline clip-path=\"url(#clip3901)\" style=\"stroke:#000000; stroke-width:4; stroke-opacity:1; fill:none\" points=\"\n",
       "  161.394,1440.48 161.394,47.2441 \n",
       "  \"/>\n",
       "<polyline clip-path=\"url(#clip3901)\" style=\"stroke:#000000; stroke-width:4; stroke-opacity:1; fill:none\" points=\"\n",
       "  161.394,1440.48 161.394,1419.58 \n",
       "  \"/>\n",
       "<polyline clip-path=\"url(#clip3901)\" style=\"stroke:#000000; stroke-width:4; stroke-opacity:1; fill:none\" points=\"\n",
       "  593.367,1440.48 593.367,1419.58 \n",
       "  \"/>\n",
       "<polyline clip-path=\"url(#clip3901)\" style=\"stroke:#000000; stroke-width:4; stroke-opacity:1; fill:none\" points=\"\n",
       "  1025.34,1440.48 1025.34,1419.58 \n",
       "  \"/>\n",
       "<polyline clip-path=\"url(#clip3901)\" style=\"stroke:#000000; stroke-width:4; stroke-opacity:1; fill:none\" points=\"\n",
       "  1457.31,1440.48 1457.31,1419.58 \n",
       "  \"/>\n",
       "<polyline clip-path=\"url(#clip3901)\" style=\"stroke:#000000; stroke-width:4; stroke-opacity:1; fill:none\" points=\"\n",
       "  1889.29,1440.48 1889.29,1419.58 \n",
       "  \"/>\n",
       "<polyline clip-path=\"url(#clip3901)\" style=\"stroke:#000000; stroke-width:4; stroke-opacity:1; fill:none\" points=\"\n",
       "  2321.26,1440.48 2321.26,1419.58 \n",
       "  \"/>\n",
       "<polyline clip-path=\"url(#clip3901)\" style=\"stroke:#000000; stroke-width:4; stroke-opacity:1; fill:none\" points=\"\n",
       "  161.394,1440.48 193.792,1440.48 \n",
       "  \"/>\n",
       "<polyline clip-path=\"url(#clip3901)\" style=\"stroke:#000000; stroke-width:4; stroke-opacity:1; fill:none\" points=\"\n",
       "  161.394,1092.17 193.792,1092.17 \n",
       "  \"/>\n",
       "<polyline clip-path=\"url(#clip3901)\" style=\"stroke:#000000; stroke-width:4; stroke-opacity:1; fill:none\" points=\"\n",
       "  161.394,743.863 193.792,743.863 \n",
       "  \"/>\n",
       "<polyline clip-path=\"url(#clip3901)\" style=\"stroke:#000000; stroke-width:4; stroke-opacity:1; fill:none\" points=\"\n",
       "  161.394,395.554 193.792,395.554 \n",
       "  \"/>\n",
       "<polyline clip-path=\"url(#clip3901)\" style=\"stroke:#000000; stroke-width:4; stroke-opacity:1; fill:none\" points=\"\n",
       "  161.394,47.2441 193.792,47.2441 \n",
       "  \"/>\n",
       "<g clip-path=\"url(#clip3901)\">\n",
       "<text style=\"fill:#000000; fill-opacity:1; font-family:Arial,Helvetica Neue,Helvetica,sans-serif; font-size:48px; text-anchor:middle;\" transform=\"rotate(0, 161.394, 1494.48)\" x=\"161.394\" y=\"1494.48\">0.0</text>\n",
       "</g>\n",
       "<g clip-path=\"url(#clip3901)\">\n",
       "<text style=\"fill:#000000; fill-opacity:1; font-family:Arial,Helvetica Neue,Helvetica,sans-serif; font-size:48px; text-anchor:middle;\" transform=\"rotate(0, 593.367, 1494.48)\" x=\"593.367\" y=\"1494.48\">0.2</text>\n",
       "</g>\n",
       "<g clip-path=\"url(#clip3901)\">\n",
       "<text style=\"fill:#000000; fill-opacity:1; font-family:Arial,Helvetica Neue,Helvetica,sans-serif; font-size:48px; text-anchor:middle;\" transform=\"rotate(0, 1025.34, 1494.48)\" x=\"1025.34\" y=\"1494.48\">0.4</text>\n",
       "</g>\n",
       "<g clip-path=\"url(#clip3901)\">\n",
       "<text style=\"fill:#000000; fill-opacity:1; font-family:Arial,Helvetica Neue,Helvetica,sans-serif; font-size:48px; text-anchor:middle;\" transform=\"rotate(0, 1457.31, 1494.48)\" x=\"1457.31\" y=\"1494.48\">0.6</text>\n",
       "</g>\n",
       "<g clip-path=\"url(#clip3901)\">\n",
       "<text style=\"fill:#000000; fill-opacity:1; font-family:Arial,Helvetica Neue,Helvetica,sans-serif; font-size:48px; text-anchor:middle;\" transform=\"rotate(0, 1889.29, 1494.48)\" x=\"1889.29\" y=\"1494.48\">0.8</text>\n",
       "</g>\n",
       "<g clip-path=\"url(#clip3901)\">\n",
       "<text style=\"fill:#000000; fill-opacity:1; font-family:Arial,Helvetica Neue,Helvetica,sans-serif; font-size:48px; text-anchor:middle;\" transform=\"rotate(0, 2321.26, 1494.48)\" x=\"2321.26\" y=\"1494.48\">1.0</text>\n",
       "</g>\n",
       "<g clip-path=\"url(#clip3901)\">\n",
       "<text style=\"fill:#000000; fill-opacity:1; font-family:Arial,Helvetica Neue,Helvetica,sans-serif; font-size:48px; text-anchor:end;\" transform=\"rotate(0, 137.394, 1457.98)\" x=\"137.394\" y=\"1457.98\">0.0</text>\n",
       "</g>\n",
       "<g clip-path=\"url(#clip3901)\">\n",
       "<text style=\"fill:#000000; fill-opacity:1; font-family:Arial,Helvetica Neue,Helvetica,sans-serif; font-size:48px; text-anchor:end;\" transform=\"rotate(0, 137.394, 1109.67)\" x=\"137.394\" y=\"1109.67\">0.5</text>\n",
       "</g>\n",
       "<g clip-path=\"url(#clip3901)\">\n",
       "<text style=\"fill:#000000; fill-opacity:1; font-family:Arial,Helvetica Neue,Helvetica,sans-serif; font-size:48px; text-anchor:end;\" transform=\"rotate(0, 137.394, 761.363)\" x=\"137.394\" y=\"761.363\">1.0</text>\n",
       "</g>\n",
       "<g clip-path=\"url(#clip3901)\">\n",
       "<text style=\"fill:#000000; fill-opacity:1; font-family:Arial,Helvetica Neue,Helvetica,sans-serif; font-size:48px; text-anchor:end;\" transform=\"rotate(0, 137.394, 413.054)\" x=\"137.394\" y=\"413.054\">1.5</text>\n",
       "</g>\n",
       "<g clip-path=\"url(#clip3901)\">\n",
       "<text style=\"fill:#000000; fill-opacity:1; font-family:Arial,Helvetica Neue,Helvetica,sans-serif; font-size:48px; text-anchor:end;\" transform=\"rotate(0, 137.394, 64.7441)\" x=\"137.394\" y=\"64.7441\">2.0</text>\n",
       "</g>\n",
       "<g clip-path=\"url(#clip3901)\">\n",
       "<text style=\"fill:#000000; fill-opacity:1; font-family:Arial,Helvetica Neue,Helvetica,sans-serif; font-size:66px; text-anchor:middle;\" transform=\"rotate(0, 1241.33, 1590.4)\" x=\"1241.33\" y=\"1590.4\">x</text>\n",
       "</g>\n",
       "<polyline clip-path=\"url(#clip3903)\" style=\"stroke:#009af9; stroke-width:4; stroke-opacity:1; fill:none\" points=\"\n",
       "  161.394,743.863 182.993,926.517 204.591,1089.46 226.19,1219.37 247.789,1312.22 269.387,1371.96 290.986,1406.72 312.585,1425.11 334.183,1433.99 355.782,1437.93 \n",
       "  377.381,1439.55 398.979,1440.16 420.578,1440.38 442.177,1440.45 463.775,1440.47 485.374,1440.48 506.973,1440.48 528.571,1440.48 550.17,1440.48 571.769,1440.48 \n",
       "  593.367,1440.48 614.966,1440.48 636.565,1440.48 658.163,1440.48 679.762,1440.48 701.36,1440.48 722.959,1440.48 744.558,1440.48 766.156,1440.48 787.755,1440.48 \n",
       "  809.354,1440.48 830.952,1440.48 852.551,1440.48 874.15,1440.48 895.748,1440.48 917.347,1440.48 938.946,1440.48 960.544,1440.48 982.143,1440.48 1003.74,1440.48 \n",
       "  1025.34,1440.48 1046.94,1440.48 1068.54,1440.48 1090.14,1440.48 1111.73,1440.48 1133.33,1440.48 1154.93,1440.48 1176.53,1440.48 1198.13,1440.48 1219.73,1440.48 \n",
       "  1241.33,1440.48 1262.93,1440.48 1284.52,1440.48 1306.12,1440.48 1327.72,1440.48 1349.32,1440.48 1370.92,1440.48 1392.52,1440.48 1414.12,1440.48 1435.71,1440.48 \n",
       "  1457.31,1440.48 1478.91,1440.48 1500.51,1440.48 1522.11,1440.48 1543.71,1440.48 1565.31,1440.48 1586.91,1440.48 1608.5,1440.48 1630.1,1440.48 1651.7,1440.48 \n",
       "  1673.3,1440.48 1694.9,1440.48 1716.5,1440.48 1738.1,1440.48 1759.69,1440.48 1781.29,1440.48 1802.89,1440.48 1824.49,1440.48 1846.09,1440.48 1867.69,1440.48 \n",
       "  1889.29,1440.48 1910.89,1440.48 1932.48,1440.48 1954.08,1440.48 1975.68,1440.48 1997.28,1440.48 2018.88,1440.46 2040.48,1440.42 2062.08,1440.28 2083.67,1439.84 \n",
       "  2105.27,1438.62 2126.87,1435.39 2148.47,1427.5 2170.07,1409.73 2191.67,1372.95 2213.27,1303.43 2234.87,1183.95 2256.46,998.255 2278.06,738.438 2299.66,412.55 \n",
       "  2321.26,47.2441 \n",
       "  \"/>\n",
       "<polyline clip-path=\"url(#clip3903)\" style=\"stroke:#e26f46; stroke-width:4; stroke-opacity:1; fill:none\" points=\"\n",
       "  161.394,743.863 182.993,760.951 204.591,778.017 226.19,795.04 247.789,811.997 269.387,828.867 290.986,845.629 312.585,862.26 334.183,878.741 355.782,895.05 \n",
       "  377.381,911.167 398.979,927.07 420.578,942.74 442.177,958.156 463.775,973.301 485.374,988.153 506.973,1002.69 528.571,1016.91 550.17,1030.77 571.769,1044.27 \n",
       "  593.367,1057.39 614.966,1070.11 636.565,1082.41 658.163,1094.29 679.762,1105.71 701.36,1116.67 722.959,1127.16 744.558,1137.15 766.156,1146.63 787.755,1155.6 \n",
       "  809.354,1164.03 830.952,1171.91 852.551,1179.23 874.15,1185.98 895.748,1192.14 917.347,1197.71 938.946,1202.67 960.544,1207 982.143,1210.71 1003.74,1213.77 \n",
       "  1025.34,1216.18 1046.94,1217.93 1068.54,1219 1090.14,1219.38 1111.73,1219.08 1133.33,1218.07 1154.93,1216.34 1176.53,1213.9 1198.13,1210.72 1219.73,1206.8 \n",
       "  1241.33,1202.14 1262.93,1196.72 1284.52,1190.54 1306.12,1183.59 1327.72,1175.87 1349.32,1167.36 1370.92,1158.07 1392.52,1147.98 1414.12,1137.1 1435.71,1125.42 \n",
       "  1457.31,1112.93 1478.91,1099.64 1500.51,1085.54 1522.11,1070.63 1543.71,1054.92 1565.31,1038.4 1586.91,1021.08 1608.5,1002.95 1630.1,984.032 1651.7,964.32 \n",
       "  1673.3,943.822 1694.9,922.546 1716.5,900.502 1738.1,877.7 1759.69,854.15 1781.29,829.866 1802.89,804.861 1824.49,779.151 1846.09,752.752 1867.69,725.682 \n",
       "  1889.29,697.962 1910.89,669.61 1932.48,640.65 1954.08,611.104 1975.68,580.997 1997.28,550.355 2018.88,519.205 2040.48,487.574 2062.08,455.493 2083.67,422.991 \n",
       "  2105.27,390.1 2126.87,356.852 2148.47,323.28 2170.07,289.418 2191.67,255.301 2213.27,220.964 2234.87,186.442 2256.46,151.773 2278.06,116.992 2299.66,82.1365 \n",
       "  2321.26,47.2441 \n",
       "  \"/>\n",
       "<polyline clip-path=\"url(#clip3903)\" style=\"stroke:#3da44d; stroke-width:4; stroke-opacity:1; fill:none\" points=\"\n",
       "  161.394,743.863 182.993,752.195 204.591,760.513 226.19,768.802 247.789,777.048 269.387,785.236 290.986,793.353 312.585,801.384 334.183,809.316 355.782,817.134 \n",
       "  377.381,824.824 398.979,832.372 420.578,839.765 442.177,846.989 463.775,854.031 485.374,860.876 506.973,867.513 528.571,873.929 550.17,880.109 571.769,886.043 \n",
       "  593.367,891.716 614.966,897.118 636.565,902.236 658.163,907.058 679.762,911.574 701.36,915.771 722.959,919.638 744.558,923.166 766.156,926.344 787.755,929.161 \n",
       "  809.354,931.608 830.952,933.675 852.551,935.354 874.15,936.635 895.748,937.51 917.347,937.97 938.946,938.009 960.544,937.619 982.143,936.792 1003.74,935.523 \n",
       "  1025.34,933.804 1046.94,931.631 1068.54,928.998 1090.14,925.899 1111.73,922.332 1133.33,918.29 1154.93,913.772 1176.53,908.773 1198.13,903.291 1219.73,897.324 \n",
       "  1241.33,890.87 1262.93,883.927 1284.52,876.496 1306.12,868.575 1327.72,860.164 1349.32,851.265 1370.92,841.878 1392.52,832.006 1414.12,821.649 1435.71,810.811 \n",
       "  1457.31,799.495 1478.91,787.705 1500.51,775.444 1522.11,762.717 1543.71,749.53 1565.31,735.887 1586.91,721.795 1608.5,707.261 1630.1,692.291 1651.7,676.893 \n",
       "  1673.3,661.075 1694.9,644.845 1716.5,628.212 1738.1,611.186 1759.69,593.777 1781.29,575.993 1802.89,557.847 1824.49,539.349 1846.09,520.51 1867.69,501.343 \n",
       "  1889.29,481.859 1910.89,462.072 1932.48,441.993 1954.08,421.637 1975.68,401.016 1997.28,380.146 2018.88,359.039 2040.48,337.71 2062.08,316.175 2083.67,294.447 \n",
       "  2105.27,272.543 2126.87,250.478 2148.47,228.266 2170.07,205.925 2191.67,183.469 2213.27,160.915 2234.87,138.28 2256.46,115.578 2278.06,92.8277 2299.66,70.0441 \n",
       "  2321.26,47.2441 \n",
       "  \"/>\n",
       "<polyline clip-path=\"url(#clip3903)\" style=\"stroke:#c271d2; stroke-width:4; stroke-opacity:1; fill:none\" points=\"\n",
       "  161.394,743.863 182.993,746.355 204.591,748.838 226.19,751.302 247.789,753.739 269.387,756.138 290.986,758.492 312.585,760.791 334.183,763.026 355.782,765.187 \n",
       "  377.381,767.267 398.979,769.256 420.578,771.145 442.177,772.926 463.775,774.59 485.374,776.129 506.973,777.535 528.571,778.798 550.17,779.912 571.769,780.868 \n",
       "  593.367,781.659 614.966,782.276 636.565,782.713 658.163,782.962 679.762,783.016 701.36,782.869 722.959,782.512 744.558,781.941 766.156,781.147 787.755,780.127 \n",
       "  809.354,778.873 830.952,777.38 852.551,775.642 874.15,773.654 895.748,771.412 917.347,768.91 938.946,766.144 960.544,763.111 982.143,759.805 1003.74,756.223 \n",
       "  1025.34,752.362 1046.94,748.219 1068.54,743.791 1090.14,739.074 1111.73,734.068 1133.33,728.77 1154.93,723.177 1176.53,717.289 1198.13,711.105 1219.73,704.623 \n",
       "  1241.33,697.843 1262.93,690.765 1284.52,683.388 1306.12,675.714 1327.72,667.742 1349.32,659.473 1370.92,650.91 1392.52,642.052 1414.12,632.902 1435.71,623.462 \n",
       "  1457.31,613.734 1478.91,603.721 1500.51,593.426 1522.11,582.853 1543.71,572.003 1565.31,560.882 1586.91,549.493 1608.5,537.841 1630.1,525.93 1651.7,513.765 \n",
       "  1673.3,501.351 1694.9,488.693 1716.5,475.798 1738.1,462.67 1759.69,449.316 1781.29,435.743 1802.89,421.956 1824.49,407.962 1846.09,393.769 1867.69,379.384 \n",
       "  1889.29,364.813 1910.89,350.065 1932.48,335.147 1954.08,320.067 1975.68,304.833 1997.28,289.453 2018.88,273.936 2040.48,258.291 2062.08,242.525 2083.67,226.647 \n",
       "  2105.27,210.667 2126.87,194.594 2148.47,178.436 2170.07,162.202 2191.67,145.903 2213.27,129.547 2234.87,113.143 2256.46,96.7018 2278.06,80.2317 2299.66,63.7427 \n",
       "  2321.26,47.2441 \n",
       "  \"/>\n",
       "<polyline clip-path=\"url(#clip3903)\" style=\"stroke:#ac8d18; stroke-width:4; stroke-opacity:1; fill:none\" points=\"\n",
       "  161.394,743.863 182.993,742.686 204.591,741.503 226.19,740.309 247.789,739.098 269.387,737.864 290.986,736.601 312.585,735.305 334.183,733.969 355.782,732.587 \n",
       "  377.381,731.156 398.979,729.668 420.578,728.119 442.177,726.502 463.775,724.814 485.374,723.049 506.973,721.201 528.571,719.266 550.17,717.238 571.769,715.113 \n",
       "  593.367,712.887 614.966,710.553 636.565,708.108 658.163,705.548 679.762,702.867 701.36,700.062 722.959,697.129 744.558,694.063 766.156,690.861 787.755,687.519 \n",
       "  809.354,684.034 830.952,680.402 852.551,676.619 874.15,672.683 895.748,668.59 917.347,664.339 938.946,659.925 960.544,655.347 982.143,650.602 1003.74,645.688 \n",
       "  1025.34,640.603 1046.94,635.345 1068.54,629.912 1090.14,624.304 1111.73,618.517 1133.33,612.552 1154.93,606.407 1176.53,600.082 1198.13,593.576 1219.73,586.888 \n",
       "  1241.33,580.018 1262.93,572.966 1284.52,565.732 1306.12,558.316 1327.72,550.719 1349.32,542.941 1370.92,534.983 1392.52,526.847 1414.12,518.532 1435.71,510.042 \n",
       "  1457.31,501.376 1478.91,492.537 1500.51,483.526 1522.11,474.346 1543.71,464.998 1565.31,455.486 1586.91,445.811 1608.5,435.976 1630.1,425.985 1651.7,415.839 \n",
       "  1673.3,405.542 1694.9,395.098 1716.5,384.51 1738.1,373.781 1759.69,362.915 1781.29,351.917 1802.89,340.789 1824.49,329.536 1846.09,318.163 1867.69,306.673 \n",
       "  1889.29,295.071 1910.89,283.362 1932.48,271.551 1954.08,259.641 1975.68,247.639 1997.28,235.548 2018.88,223.375 2040.48,211.124 2062.08,198.8 2083.67,186.409 \n",
       "  2105.27,173.957 2126.87,161.448 2148.47,148.888 2170.07,136.282 2191.67,123.637 2213.27,110.957 2234.87,98.2487 2256.46,85.5176 2278.06,72.7694 2299.66,60.0096 \n",
       "  2321.26,47.2441 \n",
       "  \"/>\n",
       "<polyline clip-path=\"url(#clip3903)\" style=\"stroke:#00a9ad; stroke-width:4; stroke-opacity:1; fill:none\" points=\"\n",
       "  161.394,743.863 182.993,740.432 204.591,736.997 226.19,733.556 247.789,730.104 269.387,726.638 290.986,723.154 312.585,719.65 334.183,716.122 355.782,712.566 \n",
       "  377.381,708.979 398.979,705.358 420.578,701.699 442.177,697.999 463.775,694.255 485.374,690.464 506.973,686.623 528.571,682.728 550.17,678.776 571.769,674.765 \n",
       "  593.367,670.692 614.966,666.553 636.565,662.347 658.163,658.069 679.762,653.719 701.36,649.292 722.959,644.787 744.558,640.2 766.156,635.531 787.755,630.776 \n",
       "  809.354,625.933 830.952,621 852.551,615.976 874.15,610.857 895.748,605.644 917.347,600.333 938.946,594.922 960.544,589.412 982.143,583.799 1003.74,578.084 \n",
       "  1025.34,572.264 1046.94,566.338 1068.54,560.305 1090.14,554.165 1111.73,547.917 1133.33,541.559 1154.93,535.092 1176.53,528.514 1198.13,521.826 1219.73,515.028 \n",
       "  1241.33,508.118 1262.93,501.097 1284.52,493.965 1306.12,486.722 1327.72,479.368 1349.32,471.904 1370.92,464.331 1392.52,456.648 1414.12,448.857 1435.71,440.958 \n",
       "  1457.31,432.953 1478.91,424.842 1500.51,416.626 1522.11,408.308 1543.71,399.887 1565.31,391.365 1586.91,382.745 1608.5,374.027 1630.1,365.213 1651.7,356.306 \n",
       "  1673.3,347.307 1694.9,338.218 1716.5,329.041 1738.1,319.778 1759.69,310.432 1781.29,301.005 1802.89,291.499 1824.49,281.918 1846.09,272.262 1867.69,262.536 \n",
       "  1889.29,252.742 1910.89,242.883 1932.48,232.961 1954.08,222.979 1975.68,212.941 1997.28,202.849 2018.88,192.707 2040.48,182.517 2062.08,172.284 2083.67,162.009 \n",
       "  2105.27,151.697 2126.87,141.35 2148.47,130.973 2170.07,120.567 2191.67,110.138 2213.27,99.6874 2234.87,89.2197 2256.46,78.738 2278.06,68.2459 2299.66,57.7467 \n",
       "  2321.26,47.2441 \n",
       "  \"/>\n",
       "<polyline clip-path=\"url(#clip3903)\" style=\"stroke:#ed5d92; stroke-width:4; stroke-opacity:1; fill:none\" points=\"\n",
       "  161.394,743.863 182.993,739.055 204.591,734.244 226.19,729.429 247.789,724.607 269.387,719.777 290.986,714.937 312.585,710.083 334.183,705.215 355.782,700.33 \n",
       "  377.381,695.427 398.979,690.502 420.578,685.554 442.177,680.581 463.775,675.582 485.374,670.553 506.973,665.494 528.571,660.402 550.17,655.276 571.769,650.113 \n",
       "  593.367,644.912 614.966,639.672 636.565,634.39 658.163,629.064 679.762,623.694 701.36,618.277 722.959,612.813 744.558,607.299 766.156,601.734 787.755,596.117 \n",
       "  809.354,590.447 830.952,584.721 852.551,578.94 874.15,573.101 895.748,567.204 917.347,561.248 938.946,555.231 960.544,549.153 982.143,543.012 1003.74,536.809 \n",
       "  1025.34,530.542 1046.94,524.21 1068.54,517.813 1090.14,511.351 1111.73,504.823 1133.33,498.227 1154.93,491.565 1176.53,484.836 1198.13,478.039 1219.73,471.175 \n",
       "  1241.33,464.243 1262.93,457.243 1284.52,450.175 1306.12,443.04 1327.72,435.837 1349.32,428.566 1370.92,421.229 1392.52,413.826 1414.12,406.356 1435.71,398.82 \n",
       "  1457.31,391.22 1478.91,383.555 1500.51,375.826 1522.11,368.034 1543.71,360.18 1565.31,352.264 1586.91,344.289 1608.5,336.253 1630.1,328.16 1651.7,320.009 \n",
       "  1673.3,311.802 1694.9,303.54 1716.5,295.225 1738.1,286.857 1759.69,278.439 1781.29,269.971 1802.89,261.455 1824.49,252.893 1846.09,244.286 1867.69,235.636 \n",
       "  1889.29,226.944 1910.89,218.212 1932.48,209.442 1954.08,200.636 1975.68,191.796 1997.28,182.922 2018.88,174.018 2040.48,165.085 2062.08,156.126 2083.67,147.141 \n",
       "  2105.27,138.133 2126.87,129.104 2148.47,120.057 2170.07,110.992 2191.67,101.913 2213.27,92.8209 2234.87,83.7183 2256.46,74.6072 2278.06,65.4897 2299.66,56.368 \n",
       "  2321.26,47.2441 \n",
       "  \"/>\n",
       "<polyline clip-path=\"url(#clip3903)\" style=\"stroke:#c68125; stroke-width:4; stroke-opacity:1; fill:none\" points=\"\n",
       "  161.394,743.863 182.993,738.214 204.591,732.563 226.19,726.909 247.789,721.252 269.387,715.589 290.986,709.92 312.585,704.243 334.183,698.558 355.782,692.862 \n",
       "  377.381,687.154 398.979,681.433 420.578,675.699 442.177,669.949 463.775,664.183 485.374,658.4 506.973,652.597 528.571,646.775 550.17,640.931 571.769,635.065 \n",
       "  593.367,629.177 614.966,623.263 636.565,617.325 658.163,611.36 679.762,605.368 701.36,599.347 722.959,593.297 744.558,587.217 766.156,581.106 787.755,574.963 \n",
       "  809.354,568.788 830.952,562.579 852.551,556.335 874.15,550.057 895.748,543.743 917.347,537.393 938.946,531.006 960.544,524.582 982.143,518.12 1003.74,511.619 \n",
       "  1025.34,505.079 1046.94,498.5 1068.54,491.882 1090.14,485.223 1111.73,478.524 1133.33,471.784 1154.93,465.003 1176.53,458.182 1198.13,451.319 1219.73,444.415 \n",
       "  1241.33,437.469 1262.93,430.482 1284.52,423.454 1306.12,416.385 1327.72,409.274 1349.32,402.122 1370.92,394.93 1392.52,387.696 1414.12,380.423 1435.71,373.109 \n",
       "  1457.31,365.756 1478.91,358.363 1500.51,350.932 1522.11,343.461 1543.71,335.953 1565.31,328.408 1586.91,320.826 1608.5,313.207 1630.1,305.553 1651.7,297.864 \n",
       "  1673.3,290.14 1694.9,282.384 1716.5,274.594 1738.1,266.773 1759.69,258.92 1781.29,251.038 1802.89,243.126 1824.49,235.186 1846.09,227.218 1867.69,219.225 \n",
       "  1889.29,211.205 1910.89,203.162 1932.48,195.095 1954.08,187.006 1975.68,178.896 1997.28,170.766 2018.88,162.618 2040.48,154.451 2062.08,146.269 2083.67,138.071 \n",
       "  2105.27,129.859 2126.87,121.634 2148.47,113.398 2170.07,105.151 2191.67,96.8955 2213.27,88.6321 2234.87,80.3623 2256.46,72.0873 2278.06,63.8084 2299.66,55.5269 \n",
       "  2321.26,47.2441 \n",
       "  \"/>\n",
       "<polyline clip-path=\"url(#clip3903)\" style=\"stroke:#00a98d; stroke-width:4; stroke-opacity:1; fill:none\" points=\"\n",
       "  161.394,743.863 182.993,737.701 204.591,731.537 226.19,725.372 247.789,719.204 269.387,713.034 290.986,706.859 312.585,700.68 334.183,694.495 355.782,688.304 \n",
       "  377.381,682.105 398.979,675.899 420.578,669.685 442.177,663.461 463.775,657.227 485.374,650.982 506.973,644.726 528.571,638.458 550.17,632.177 571.769,625.882 \n",
       "  593.367,619.574 614.966,613.25 636.565,606.911 658.163,600.556 679.762,594.184 701.36,587.795 722.959,581.388 744.558,574.962 766.156,568.518 787.755,562.054 \n",
       "  809.354,555.57 830.952,549.066 852.551,542.541 874.15,535.995 895.748,529.427 917.347,522.837 938.946,516.224 960.544,509.588 982.143,502.93 1003.74,496.247 \n",
       "  1025.34,489.541 1046.94,482.812 1068.54,476.057 1090.14,469.279 1111.73,462.476 1133.33,455.647 1154.93,448.795 1176.53,441.916 1198.13,435.013 1219.73,428.085 \n",
       "  1241.33,421.131 1262.93,414.153 1284.52,407.149 1306.12,400.119 1327.72,393.065 1349.32,385.986 1370.92,378.881 1392.52,371.752 1414.12,364.598 1435.71,357.42 \n",
       "  1457.31,350.218 1478.91,342.991 1500.51,335.741 1522.11,328.467 1543.71,321.17 1565.31,313.851 1586.91,306.509 1608.5,299.144 1630.1,291.758 1651.7,284.351 \n",
       "  1673.3,276.923 1694.9,269.474 1716.5,262.005 1738.1,254.517 1759.69,247.01 1781.29,239.485 1802.89,231.942 1824.49,224.381 1846.09,216.804 1867.69,209.211 \n",
       "  1889.29,201.602 1910.89,193.979 1932.48,186.341 1954.08,178.69 1975.68,171.025 1997.28,163.349 2018.88,155.661 2040.48,147.963 2062.08,140.254 2083.67,132.536 \n",
       "  2105.27,124.81 2126.87,117.076 2148.47,109.335 2170.07,101.587 2191.67,93.834 2213.27,86.0763 2234.87,78.3146 2256.46,70.5498 2278.06,62.7825 2299.66,55.0137 \n",
       "  2321.26,47.2441 \n",
       "  \"/>\n",
       "<polyline clip-path=\"url(#clip3903)\" style=\"stroke:#8e971d; stroke-width:4; stroke-opacity:1; fill:none\" points=\"\n",
       "  161.394,743.863 182.993,737.387 204.591,730.911 226.19,724.434 247.789,717.955 269.387,711.474 290.986,704.991 312.585,698.505 334.183,692.015 355.782,685.522 \n",
       "  377.381,679.025 398.979,672.522 420.578,666.015 442.177,659.502 463.775,652.982 485.374,646.456 506.973,639.924 528.571,633.383 550.17,626.835 571.769,620.279 \n",
       "  593.367,613.714 614.966,607.14 636.565,600.556 658.163,593.963 679.762,587.359 701.36,580.745 722.959,574.12 744.558,567.484 766.156,560.836 787.755,554.177 \n",
       "  809.354,547.505 830.952,540.821 852.551,534.124 874.15,527.414 895.748,520.69 917.347,513.954 938.946,507.203 960.544,500.439 982.143,493.66 1003.74,486.867 \n",
       "  1025.34,480.06 1046.94,473.238 1068.54,466.401 1090.14,459.549 1111.73,452.682 1133.33,445.801 1154.93,438.903 1176.53,431.991 1198.13,425.063 1219.73,418.12 \n",
       "  1241.33,411.162 1262.93,404.188 1284.52,397.199 1306.12,390.194 1327.72,383.174 1349.32,376.139 1370.92,369.088 1392.52,362.023 1414.12,354.942 1435.71,347.846 \n",
       "  1457.31,340.736 1478.91,333.611 1500.51,326.471 1522.11,319.318 1543.71,312.15 1565.31,304.968 1586.91,297.772 1608.5,290.563 1630.1,283.341 1651.7,276.105 \n",
       "  1673.3,268.857 1694.9,261.596 1716.5,254.324 1738.1,247.039 1759.69,239.743 1781.29,232.435 1802.89,225.117 1824.49,217.788 1846.09,210.449 1867.69,203.1 \n",
       "  1889.29,195.742 1910.89,188.375 1932.48,180.999 1954.08,173.615 1975.68,166.222 1997.28,158.823 2018.88,151.416 2040.48,144.003 2062.08,136.584 2083.67,129.159 \n",
       "  2105.27,121.729 2126.87,114.294 2148.47,106.855 2170.07,99.4122 2191.67,91.9659 2213.27,84.5167 2234.87,77.0651 2256.46,69.6115 2278.06,62.1565 2299.66,54.7005 \n",
       "  2321.26,47.2441 \n",
       "  \"/>\n",
       "<polyline clip-path=\"url(#clip3903)\" style=\"stroke:#00a8cb; stroke-width:4; stroke-opacity:1; fill:none\" points=\"\n",
       "  161.394,743.863 182.993,736.897 204.591,729.931 226.19,722.965 247.789,715.999 269.387,709.032 290.986,702.066 312.585,695.1 334.183,688.134 355.782,681.168 \n",
       "  377.381,674.201 398.979,667.235 420.578,660.269 442.177,653.303 463.775,646.337 485.374,639.37 506.973,632.404 528.571,625.438 550.17,618.472 571.769,611.506 \n",
       "  593.367,604.539 614.966,597.573 636.565,590.607 658.163,583.641 679.762,576.675 701.36,569.709 722.959,562.742 744.558,555.776 766.156,548.81 787.755,541.844 \n",
       "  809.354,534.878 830.952,527.911 852.551,520.945 874.15,513.979 895.748,507.013 917.347,500.047 938.946,493.08 960.544,486.114 982.143,479.148 1003.74,472.182 \n",
       "  1025.34,465.216 1046.94,458.249 1068.54,451.283 1090.14,444.317 1111.73,437.351 1133.33,430.385 1154.93,423.418 1176.53,416.452 1198.13,409.486 1219.73,402.52 \n",
       "  1241.33,395.554 1262.93,388.588 1284.52,381.621 1306.12,374.655 1327.72,367.689 1349.32,360.723 1370.92,353.757 1392.52,346.79 1414.12,339.824 1435.71,332.858 \n",
       "  1457.31,325.892 1478.91,318.926 1500.51,311.959 1522.11,304.993 1543.71,298.027 1565.31,291.061 1586.91,284.095 1608.5,277.128 1630.1,270.162 1651.7,263.196 \n",
       "  1673.3,256.23 1694.9,249.264 1716.5,242.297 1738.1,235.331 1759.69,228.365 1781.29,221.399 1802.89,214.433 1824.49,207.467 1846.09,200.5 1867.69,193.534 \n",
       "  1889.29,186.568 1910.89,179.602 1932.48,172.636 1954.08,165.669 1975.68,158.703 1997.28,151.737 2018.88,144.771 2040.48,137.805 2062.08,130.838 2083.67,123.872 \n",
       "  2105.27,116.906 2126.87,109.94 2148.47,102.974 2170.07,96.0074 2191.67,89.0412 2213.27,82.0751 2234.87,75.1089 2256.46,68.1427 2278.06,61.1765 2299.66,54.2103 \n",
       "  2321.26,47.2441 \n",
       "  \"/>\n",
       "<polygon clip-path=\"url(#clip3901)\" points=\"\n",
       "1143.62,856.524 2249.26,856.524 2249.26,130.764 1143.62,130.764 \n",
       "  \" fill=\"#ffffff\" fill-rule=\"evenodd\" fill-opacity=\"1\"/>\n",
       "<polyline clip-path=\"url(#clip3901)\" style=\"stroke:#000000; stroke-width:4; stroke-opacity:1; fill:none\" points=\"\n",
       "  1143.62,856.524 2249.26,856.524 2249.26,130.764 1143.62,130.764 1143.62,856.524 \n",
       "  \"/>\n",
       "<polyline clip-path=\"url(#clip3901)\" style=\"stroke:#009af9; stroke-width:4; stroke-opacity:1; fill:none\" points=\"\n",
       "  1167.62,191.244 1311.62,191.244 \n",
       "  \"/>\n",
       "<g clip-path=\"url(#clip3901)\">\n",
       "<text style=\"fill:#000000; fill-opacity:1; font-family:Arial,Helvetica Neue,Helvetica,sans-serif; font-size:48px; text-anchor:start;\" transform=\"rotate(0, 1335.62, 208.744)\" x=\"1335.62\" y=\"208.744\">numerical at t=0.0004500000000000001</text>\n",
       "</g>\n",
       "<polyline clip-path=\"url(#clip3901)\" style=\"stroke:#e26f46; stroke-width:4; stroke-opacity:1; fill:none\" points=\"\n",
       "  1167.62,251.724 1311.62,251.724 \n",
       "  \"/>\n",
       "<g clip-path=\"url(#clip3901)\">\n",
       "<text style=\"fill:#000000; fill-opacity:1; font-family:Arial,Helvetica Neue,Helvetica,sans-serif; font-size:48px; text-anchor:start;\" transform=\"rotate(0, 1335.62, 269.224)\" x=\"1335.62\" y=\"269.224\">numerical at t=0.05005000000000092</text>\n",
       "</g>\n",
       "<polyline clip-path=\"url(#clip3901)\" style=\"stroke:#3da44d; stroke-width:4; stroke-opacity:1; fill:none\" points=\"\n",
       "  1167.62,312.204 1311.62,312.204 \n",
       "  \"/>\n",
       "<g clip-path=\"url(#clip3901)\">\n",
       "<text style=\"fill:#000000; fill-opacity:1; font-family:Arial,Helvetica Neue,Helvetica,sans-serif; font-size:48px; text-anchor:start;\" transform=\"rotate(0, 1335.62, 329.704)\" x=\"1335.62\" y=\"329.704\">numerical at t=0.10009999999999714</text>\n",
       "</g>\n",
       "<polyline clip-path=\"url(#clip3901)\" style=\"stroke:#c271d2; stroke-width:4; stroke-opacity:1; fill:none\" points=\"\n",
       "  1167.62,372.684 1311.62,372.684 \n",
       "  \"/>\n",
       "<g clip-path=\"url(#clip3901)\">\n",
       "<text style=\"fill:#000000; fill-opacity:1; font-family:Arial,Helvetica Neue,Helvetica,sans-serif; font-size:48px; text-anchor:start;\" transform=\"rotate(0, 1335.62, 390.184)\" x=\"1335.62\" y=\"390.184\">numerical at t=0.15014999999999162</text>\n",
       "</g>\n",
       "<polyline clip-path=\"url(#clip3901)\" style=\"stroke:#ac8d18; stroke-width:4; stroke-opacity:1; fill:none\" points=\"\n",
       "  1167.62,433.164 1311.62,433.164 \n",
       "  \"/>\n",
       "<g clip-path=\"url(#clip3901)\">\n",
       "<text style=\"fill:#000000; fill-opacity:1; font-family:Arial,Helvetica Neue,Helvetica,sans-serif; font-size:48px; text-anchor:start;\" transform=\"rotate(0, 1335.62, 450.664)\" x=\"1335.62\" y=\"450.664\">numerical at t=0.2001999999999861</text>\n",
       "</g>\n",
       "<polyline clip-path=\"url(#clip3901)\" style=\"stroke:#00a9ad; stroke-width:4; stroke-opacity:1; fill:none\" points=\"\n",
       "  1167.62,493.644 1311.62,493.644 \n",
       "  \"/>\n",
       "<g clip-path=\"url(#clip3901)\">\n",
       "<text style=\"fill:#000000; fill-opacity:1; font-family:Arial,Helvetica Neue,Helvetica,sans-serif; font-size:48px; text-anchor:start;\" transform=\"rotate(0, 1335.62, 511.144)\" x=\"1335.62\" y=\"511.144\">numerical at t=0.2502499999999806</text>\n",
       "</g>\n",
       "<polyline clip-path=\"url(#clip3901)\" style=\"stroke:#ed5d92; stroke-width:4; stroke-opacity:1; fill:none\" points=\"\n",
       "  1167.62,554.124 1311.62,554.124 \n",
       "  \"/>\n",
       "<g clip-path=\"url(#clip3901)\">\n",
       "<text style=\"fill:#000000; fill-opacity:1; font-family:Arial,Helvetica Neue,Helvetica,sans-serif; font-size:48px; text-anchor:start;\" transform=\"rotate(0, 1335.62, 571.624)\" x=\"1335.62\" y=\"571.624\">numerical at t=0.3002999999999751</text>\n",
       "</g>\n",
       "<polyline clip-path=\"url(#clip3901)\" style=\"stroke:#c68125; stroke-width:4; stroke-opacity:1; fill:none\" points=\"\n",
       "  1167.62,614.604 1311.62,614.604 \n",
       "  \"/>\n",
       "<g clip-path=\"url(#clip3901)\">\n",
       "<text style=\"fill:#000000; fill-opacity:1; font-family:Arial,Helvetica Neue,Helvetica,sans-serif; font-size:48px; text-anchor:start;\" transform=\"rotate(0, 1335.62, 632.104)\" x=\"1335.62\" y=\"632.104\">numerical at t=0.3503499999999696</text>\n",
       "</g>\n",
       "<polyline clip-path=\"url(#clip3901)\" style=\"stroke:#00a98d; stroke-width:4; stroke-opacity:1; fill:none\" points=\"\n",
       "  1167.62,675.084 1311.62,675.084 \n",
       "  \"/>\n",
       "<g clip-path=\"url(#clip3901)\">\n",
       "<text style=\"fill:#000000; fill-opacity:1; font-family:Arial,Helvetica Neue,Helvetica,sans-serif; font-size:48px; text-anchor:start;\" transform=\"rotate(0, 1335.62, 692.584)\" x=\"1335.62\" y=\"692.584\">numerical at t=0.40039999999996406</text>\n",
       "</g>\n",
       "<polyline clip-path=\"url(#clip3901)\" style=\"stroke:#8e971d; stroke-width:4; stroke-opacity:1; fill:none\" points=\"\n",
       "  1167.62,735.564 1311.62,735.564 \n",
       "  \"/>\n",
       "<g clip-path=\"url(#clip3901)\">\n",
       "<text style=\"fill:#000000; fill-opacity:1; font-family:Arial,Helvetica Neue,Helvetica,sans-serif; font-size:48px; text-anchor:start;\" transform=\"rotate(0, 1335.62, 753.064)\" x=\"1335.62\" y=\"753.064\">numerical at t=0.45044999999995855</text>\n",
       "</g>\n",
       "<polyline clip-path=\"url(#clip3901)\" style=\"stroke:#00a8cb; stroke-width:4; stroke-opacity:1; fill:none\" points=\"\n",
       "  1167.62,796.044 1311.62,796.044 \n",
       "  \"/>\n",
       "<g clip-path=\"url(#clip3901)\">\n",
       "<text style=\"fill:#000000; fill-opacity:1; font-family:Arial,Helvetica Neue,Helvetica,sans-serif; font-size:48px; text-anchor:start;\" transform=\"rotate(0, 1335.62, 813.544)\" x=\"1335.62\" y=\"813.544\">steady-state exact</text>\n",
       "</g>\n",
       "</svg>\n"
      ]
     },
     "execution_count": 12,
     "metadata": {},
     "output_type": "execute_result"
    }
   ],
   "source": [
    "nplot = 10\n",
    "plot(xedge.(i_e),uarray[10][i_e],xlim=(0,1),ylim=(0,2),label=string(\"numerical at t=\",tarray[10]),xlabel=\"x\")\n",
    "for j in ceil(Int,length(tarray)/nplot)+1:ceil(Int,length(tarray)/nplot):length(tarray)\n",
    "    plot!(xedge.(i_e),uarray[j][i_e],xlim=(0,1),ylim=(0,2),label=string(\"numerical at t=\",tarray[j]),xlabel=\"x\")\n",
    "end\n",
    "plot!(xedge.(i_e),uss_edge,label=\"steady-state exact\")"
   ]
  },
  {
   "cell_type": "markdown",
   "metadata": {
    "nbpresent": {
     "id": "7048de41-179e-47a0-8212-1e0adab8b382"
    }
   },
   "source": [
    "#### Try it with cell-centered data and Dirichlet conditions"
   ]
  },
  {
   "cell_type": "code",
   "execution_count": 13,
   "metadata": {
    "nbpresent": {
     "id": "ab394909-4d55-43fd-a113-da3004ec85e0"
    }
   },
   "outputs": [],
   "source": [
    "u0 = HW3.CellData1D(N);"
   ]
  },
  {
   "cell_type": "markdown",
   "metadata": {
    "nbpresent": {
     "id": "523c10ff-2eee-4dfa-8105-2ef8dc6226e1"
    }
   },
   "source": [
    "Steady-state exact solution (on interior cells)"
   ]
  },
  {
   "cell_type": "code",
   "execution_count": 14,
   "metadata": {
    "nbpresent": {
     "id": "51bcd536-ddd7-4796-8ac1-57968becd768"
    }
   },
   "outputs": [],
   "source": [
    "uss_cell = HW3.CellData1D(u0)\n",
    "uss_cell[i_c_int] .= (uR-uL)/L*xcell.(i_c_int) .+ uL;"
   ]
  },
  {
   "cell_type": "code",
   "execution_count": 15,
   "metadata": {
    "nbpresent": {
     "id": "ca52385a-98dc-4ca3-a93f-bc73b689a2cf"
    }
   },
   "outputs": [
    {
     "data": {
      "text/plain": [
       "Order-4 RK integator with\n",
       "   State of type HW3.CellData1D{100}\n",
       "   Time step size 5.0e-5\n"
      ]
     },
     "execution_count": 15,
     "metadata": {},
     "output_type": "execute_result"
    }
   ],
   "source": [
    "Δt = 0.5*Δx^2/ν # Fourier number is set to 0.01\n",
    "rk = HW3.RK(u0,Δt,diffuse1d_dirichlet;rk=HW3.RK4)"
   ]
  },
  {
   "cell_type": "markdown",
   "metadata": {
    "nbpresent": {
     "id": "30a509ea-c547-4e1d-be3b-cfca68e73bdf"
    }
   },
   "source": [
    "Integrate this to final time of tf. Again, explore!"
   ]
  },
  {
   "cell_type": "code",
   "execution_count": 16,
   "metadata": {
    "nbpresent": {
     "id": "9537ab92-2565-426c-95e9-247cf72bb12a"
    }
   },
   "outputs": [],
   "source": [
    "tf = 0.5\n",
    "nsteps = ceil(Int,tf/Δt)\n",
    "t = 0.0\n",
    "u = deepcopy(u0)\n",
    "uarray = [deepcopy(u)]\n",
    "tarray = [t]\n",
    "for j = 1:nsteps\n",
    "    t, u = rk(t,u)\n",
    "    \n",
    "    # enforce boundary conditions on result (indirectly, via ghost cells)\n",
    "    u[1] = 2*uL-u[2]\n",
    "    u[N+2] = 2*uR-u[N+1]\n",
    "    \n",
    "    push!(uarray,deepcopy(u))\n",
    "    push!(tarray,t)\n",
    "end"
   ]
  },
  {
   "cell_type": "markdown",
   "metadata": {
    "nbpresent": {
     "id": "c88a73de-9a9e-4898-94a7-6f9fabd15764"
    }
   },
   "source": [
    "Plot the result and compare with steady-state exact solution"
   ]
  },
  {
   "cell_type": "code",
   "execution_count": 17,
   "metadata": {
    "nbpresent": {
     "id": "1eaeb62e-fdbd-498a-8e5d-74b8f2d8fd0d"
    }
   },
   "outputs": [
    {
     "data": {
      "image/svg+xml": [
       "<?xml version=\"1.0\" encoding=\"utf-8\"?>\n",
       "<svg xmlns=\"http://www.w3.org/2000/svg\" xmlns:xlink=\"http://www.w3.org/1999/xlink\" width=\"600\" height=\"400\" viewBox=\"0 0 2400 1600\">\n",
       "<defs>\n",
       "  <clipPath id=\"clip4100\">\n",
       "    <rect x=\"0\" y=\"0\" width=\"2000\" height=\"2000\"/>\n",
       "  </clipPath>\n",
       "</defs>\n",
       "<defs>\n",
       "  <clipPath id=\"clip4101\">\n",
       "    <rect x=\"0\" y=\"0\" width=\"2400\" height=\"1600\"/>\n",
       "  </clipPath>\n",
       "</defs>\n",
       "<polygon clip-path=\"url(#clip4101)\" points=\"\n",
       "0,1600 2400,1600 2400,0 0,0 \n",
       "  \" fill=\"#ffffff\" fill-rule=\"evenodd\" fill-opacity=\"1\"/>\n",
       "<defs>\n",
       "  <clipPath id=\"clip4102\">\n",
       "    <rect x=\"480\" y=\"0\" width=\"1681\" height=\"1600\"/>\n",
       "  </clipPath>\n",
       "</defs>\n",
       "<polygon clip-path=\"url(#clip4101)\" points=\"\n",
       "161.394,1440.48 2321.26,1440.48 2321.26,47.2441 161.394,47.2441 \n",
       "  \" fill=\"#ffffff\" fill-rule=\"evenodd\" fill-opacity=\"1\"/>\n",
       "<defs>\n",
       "  <clipPath id=\"clip4103\">\n",
       "    <rect x=\"161\" y=\"47\" width=\"2161\" height=\"1394\"/>\n",
       "  </clipPath>\n",
       "</defs>\n",
       "<polyline clip-path=\"url(#clip4103)\" style=\"stroke:#000000; stroke-width:2; stroke-opacity:0.1; fill:none\" points=\"\n",
       "  161.394,1440.48 161.394,47.2441 \n",
       "  \"/>\n",
       "<polyline clip-path=\"url(#clip4103)\" style=\"stroke:#000000; stroke-width:2; stroke-opacity:0.1; fill:none\" points=\"\n",
       "  593.367,1440.48 593.367,47.2441 \n",
       "  \"/>\n",
       "<polyline clip-path=\"url(#clip4103)\" style=\"stroke:#000000; stroke-width:2; stroke-opacity:0.1; fill:none\" points=\"\n",
       "  1025.34,1440.48 1025.34,47.2441 \n",
       "  \"/>\n",
       "<polyline clip-path=\"url(#clip4103)\" style=\"stroke:#000000; stroke-width:2; stroke-opacity:0.1; fill:none\" points=\"\n",
       "  1457.31,1440.48 1457.31,47.2441 \n",
       "  \"/>\n",
       "<polyline clip-path=\"url(#clip4103)\" style=\"stroke:#000000; stroke-width:2; stroke-opacity:0.1; fill:none\" points=\"\n",
       "  1889.29,1440.48 1889.29,47.2441 \n",
       "  \"/>\n",
       "<polyline clip-path=\"url(#clip4103)\" style=\"stroke:#000000; stroke-width:2; stroke-opacity:0.1; fill:none\" points=\"\n",
       "  2321.26,1440.48 2321.26,47.2441 \n",
       "  \"/>\n",
       "<polyline clip-path=\"url(#clip4103)\" style=\"stroke:#000000; stroke-width:2; stroke-opacity:0.1; fill:none\" points=\"\n",
       "  161.394,1440.48 2321.26,1440.48 \n",
       "  \"/>\n",
       "<polyline clip-path=\"url(#clip4103)\" style=\"stroke:#000000; stroke-width:2; stroke-opacity:0.1; fill:none\" points=\"\n",
       "  161.394,1092.17 2321.26,1092.17 \n",
       "  \"/>\n",
       "<polyline clip-path=\"url(#clip4103)\" style=\"stroke:#000000; stroke-width:2; stroke-opacity:0.1; fill:none\" points=\"\n",
       "  161.394,743.863 2321.26,743.863 \n",
       "  \"/>\n",
       "<polyline clip-path=\"url(#clip4103)\" style=\"stroke:#000000; stroke-width:2; stroke-opacity:0.1; fill:none\" points=\"\n",
       "  161.394,395.554 2321.26,395.554 \n",
       "  \"/>\n",
       "<polyline clip-path=\"url(#clip4103)\" style=\"stroke:#000000; stroke-width:2; stroke-opacity:0.1; fill:none\" points=\"\n",
       "  161.394,47.2441 2321.26,47.2441 \n",
       "  \"/>\n",
       "<polyline clip-path=\"url(#clip4101)\" style=\"stroke:#000000; stroke-width:4; stroke-opacity:1; fill:none\" points=\"\n",
       "  161.394,1440.48 2321.26,1440.48 \n",
       "  \"/>\n",
       "<polyline clip-path=\"url(#clip4101)\" style=\"stroke:#000000; stroke-width:4; stroke-opacity:1; fill:none\" points=\"\n",
       "  161.394,1440.48 161.394,47.2441 \n",
       "  \"/>\n",
       "<polyline clip-path=\"url(#clip4101)\" style=\"stroke:#000000; stroke-width:4; stroke-opacity:1; fill:none\" points=\"\n",
       "  161.394,1440.48 161.394,1419.58 \n",
       "  \"/>\n",
       "<polyline clip-path=\"url(#clip4101)\" style=\"stroke:#000000; stroke-width:4; stroke-opacity:1; fill:none\" points=\"\n",
       "  593.367,1440.48 593.367,1419.58 \n",
       "  \"/>\n",
       "<polyline clip-path=\"url(#clip4101)\" style=\"stroke:#000000; stroke-width:4; stroke-opacity:1; fill:none\" points=\"\n",
       "  1025.34,1440.48 1025.34,1419.58 \n",
       "  \"/>\n",
       "<polyline clip-path=\"url(#clip4101)\" style=\"stroke:#000000; stroke-width:4; stroke-opacity:1; fill:none\" points=\"\n",
       "  1457.31,1440.48 1457.31,1419.58 \n",
       "  \"/>\n",
       "<polyline clip-path=\"url(#clip4101)\" style=\"stroke:#000000; stroke-width:4; stroke-opacity:1; fill:none\" points=\"\n",
       "  1889.29,1440.48 1889.29,1419.58 \n",
       "  \"/>\n",
       "<polyline clip-path=\"url(#clip4101)\" style=\"stroke:#000000; stroke-width:4; stroke-opacity:1; fill:none\" points=\"\n",
       "  2321.26,1440.48 2321.26,1419.58 \n",
       "  \"/>\n",
       "<polyline clip-path=\"url(#clip4101)\" style=\"stroke:#000000; stroke-width:4; stroke-opacity:1; fill:none\" points=\"\n",
       "  161.394,1440.48 193.792,1440.48 \n",
       "  \"/>\n",
       "<polyline clip-path=\"url(#clip4101)\" style=\"stroke:#000000; stroke-width:4; stroke-opacity:1; fill:none\" points=\"\n",
       "  161.394,1092.17 193.792,1092.17 \n",
       "  \"/>\n",
       "<polyline clip-path=\"url(#clip4101)\" style=\"stroke:#000000; stroke-width:4; stroke-opacity:1; fill:none\" points=\"\n",
       "  161.394,743.863 193.792,743.863 \n",
       "  \"/>\n",
       "<polyline clip-path=\"url(#clip4101)\" style=\"stroke:#000000; stroke-width:4; stroke-opacity:1; fill:none\" points=\"\n",
       "  161.394,395.554 193.792,395.554 \n",
       "  \"/>\n",
       "<polyline clip-path=\"url(#clip4101)\" style=\"stroke:#000000; stroke-width:4; stroke-opacity:1; fill:none\" points=\"\n",
       "  161.394,47.2441 193.792,47.2441 \n",
       "  \"/>\n",
       "<g clip-path=\"url(#clip4101)\">\n",
       "<text style=\"fill:#000000; fill-opacity:1; font-family:Arial,Helvetica Neue,Helvetica,sans-serif; font-size:48px; text-anchor:middle;\" transform=\"rotate(0, 161.394, 1494.48)\" x=\"161.394\" y=\"1494.48\">0.0</text>\n",
       "</g>\n",
       "<g clip-path=\"url(#clip4101)\">\n",
       "<text style=\"fill:#000000; fill-opacity:1; font-family:Arial,Helvetica Neue,Helvetica,sans-serif; font-size:48px; text-anchor:middle;\" transform=\"rotate(0, 593.367, 1494.48)\" x=\"593.367\" y=\"1494.48\">0.2</text>\n",
       "</g>\n",
       "<g clip-path=\"url(#clip4101)\">\n",
       "<text style=\"fill:#000000; fill-opacity:1; font-family:Arial,Helvetica Neue,Helvetica,sans-serif; font-size:48px; text-anchor:middle;\" transform=\"rotate(0, 1025.34, 1494.48)\" x=\"1025.34\" y=\"1494.48\">0.4</text>\n",
       "</g>\n",
       "<g clip-path=\"url(#clip4101)\">\n",
       "<text style=\"fill:#000000; fill-opacity:1; font-family:Arial,Helvetica Neue,Helvetica,sans-serif; font-size:48px; text-anchor:middle;\" transform=\"rotate(0, 1457.31, 1494.48)\" x=\"1457.31\" y=\"1494.48\">0.6</text>\n",
       "</g>\n",
       "<g clip-path=\"url(#clip4101)\">\n",
       "<text style=\"fill:#000000; fill-opacity:1; font-family:Arial,Helvetica Neue,Helvetica,sans-serif; font-size:48px; text-anchor:middle;\" transform=\"rotate(0, 1889.29, 1494.48)\" x=\"1889.29\" y=\"1494.48\">0.8</text>\n",
       "</g>\n",
       "<g clip-path=\"url(#clip4101)\">\n",
       "<text style=\"fill:#000000; fill-opacity:1; font-family:Arial,Helvetica Neue,Helvetica,sans-serif; font-size:48px; text-anchor:middle;\" transform=\"rotate(0, 2321.26, 1494.48)\" x=\"2321.26\" y=\"1494.48\">1.0</text>\n",
       "</g>\n",
       "<g clip-path=\"url(#clip4101)\">\n",
       "<text style=\"fill:#000000; fill-opacity:1; font-family:Arial,Helvetica Neue,Helvetica,sans-serif; font-size:48px; text-anchor:end;\" transform=\"rotate(0, 137.394, 1457.98)\" x=\"137.394\" y=\"1457.98\">0.0</text>\n",
       "</g>\n",
       "<g clip-path=\"url(#clip4101)\">\n",
       "<text style=\"fill:#000000; fill-opacity:1; font-family:Arial,Helvetica Neue,Helvetica,sans-serif; font-size:48px; text-anchor:end;\" transform=\"rotate(0, 137.394, 1109.67)\" x=\"137.394\" y=\"1109.67\">0.5</text>\n",
       "</g>\n",
       "<g clip-path=\"url(#clip4101)\">\n",
       "<text style=\"fill:#000000; fill-opacity:1; font-family:Arial,Helvetica Neue,Helvetica,sans-serif; font-size:48px; text-anchor:end;\" transform=\"rotate(0, 137.394, 761.363)\" x=\"137.394\" y=\"761.363\">1.0</text>\n",
       "</g>\n",
       "<g clip-path=\"url(#clip4101)\">\n",
       "<text style=\"fill:#000000; fill-opacity:1; font-family:Arial,Helvetica Neue,Helvetica,sans-serif; font-size:48px; text-anchor:end;\" transform=\"rotate(0, 137.394, 413.054)\" x=\"137.394\" y=\"413.054\">1.5</text>\n",
       "</g>\n",
       "<g clip-path=\"url(#clip4101)\">\n",
       "<text style=\"fill:#000000; fill-opacity:1; font-family:Arial,Helvetica Neue,Helvetica,sans-serif; font-size:48px; text-anchor:end;\" transform=\"rotate(0, 137.394, 64.7441)\" x=\"137.394\" y=\"64.7441\">2.0</text>\n",
       "</g>\n",
       "<g clip-path=\"url(#clip4101)\">\n",
       "<text style=\"fill:#000000; fill-opacity:1; font-family:Arial,Helvetica Neue,Helvetica,sans-serif; font-size:66px; text-anchor:middle;\" transform=\"rotate(0, 1241.33, 1590.4)\" x=\"1241.33\" y=\"1590.4\">x</text>\n",
       "</g>\n",
       "<polyline clip-path=\"url(#clip4103)\" style=\"stroke:#009af9; stroke-width:4; stroke-opacity:1; fill:none\" points=\"\n",
       "  172.193,837.892 193.792,1015.14 215.391,1163.78 236.989,1274.96 258.588,1349.48 280.187,1394.44 301.785,1419 323.384,1431.21 344.983,1436.77 366.581,1439.1 \n",
       "  388.18,1440 409.779,1440.33 431.377,1440.43 452.976,1440.47 474.575,1440.48 496.173,1440.48 517.772,1440.48 539.371,1440.48 560.969,1440.48 582.568,1440.48 \n",
       "  604.167,1440.48 625.765,1440.48 647.364,1440.48 668.963,1440.48 690.561,1440.48 712.16,1440.48 733.758,1440.48 755.357,1440.48 776.956,1440.48 798.554,1440.48 \n",
       "  820.153,1440.48 841.752,1440.48 863.35,1440.48 884.949,1440.48 906.548,1440.48 928.146,1440.48 949.745,1440.48 971.344,1440.48 992.942,1440.48 1014.54,1440.48 \n",
       "  1036.14,1440.48 1057.74,1440.48 1079.34,1440.48 1100.94,1440.48 1122.53,1440.48 1144.13,1440.48 1165.73,1440.48 1187.33,1440.48 1208.93,1440.48 1230.53,1440.48 \n",
       "  1252.13,1440.48 1273.72,1440.48 1295.32,1440.48 1316.92,1440.48 1338.52,1440.48 1360.12,1440.48 1381.72,1440.48 1403.32,1440.48 1424.92,1440.48 1446.51,1440.48 \n",
       "  1468.11,1440.48 1489.71,1440.48 1511.31,1440.48 1532.91,1440.48 1554.51,1440.48 1576.11,1440.48 1597.7,1440.48 1619.3,1440.48 1640.9,1440.48 1662.5,1440.48 \n",
       "  1684.1,1440.48 1705.7,1440.48 1727.3,1440.48 1748.9,1440.48 1770.49,1440.48 1792.09,1440.48 1813.69,1440.48 1835.29,1440.48 1856.89,1440.48 1878.49,1440.48 \n",
       "  1900.09,1440.48 1921.68,1440.48 1943.28,1440.48 1964.88,1440.48 1986.48,1440.48 2008.08,1440.48 2029.68,1440.45 2051.28,1440.39 2072.88,1440.17 2094.47,1439.52 \n",
       "  2116.07,1437.72 2137.67,1433.06 2159.27,1421.94 2180.87,1397.51 2202.47,1348.39 2224.07,1258.47 2245.66,1109.43 2267.26,887.076 2288.86,589.8 2310.46,235.301 \n",
       "  \n",
       "  \"/>\n",
       "<polyline clip-path=\"url(#clip4103)\" style=\"stroke:#e26f46; stroke-width:4; stroke-opacity:1; fill:none\" points=\"\n",
       "  172.193,752.41 193.792,769.492 215.391,786.542 236.989,803.537 258.588,820.456 280.187,837.278 301.785,853.98 323.384,870.541 344.983,886.941 366.581,903.159 \n",
       "  388.18,919.174 409.779,934.965 431.377,950.514 452.976,965.799 474.575,980.802 496.173,995.504 517.772,1009.89 539.371,1023.93 560.969,1037.62 582.568,1050.93 \n",
       "  604.167,1063.85 625.765,1076.37 647.364,1088.46 668.963,1100.11 690.561,1111.31 712.16,1122.04 733.758,1132.28 755.357,1142.02 776.956,1151.25 798.554,1159.95 \n",
       "  820.153,1168.1 841.752,1175.71 863.35,1182.75 884.949,1189.21 906.548,1195.08 928.146,1200.34 949.745,1204.99 971.344,1209.02 992.942,1212.4 1014.54,1215.14 \n",
       "  1036.14,1217.22 1057.74,1218.63 1079.34,1219.36 1100.94,1219.41 1122.53,1218.75 1144.13,1217.38 1165.73,1215.3 1187.33,1212.49 1208.93,1208.95 1230.53,1204.66 \n",
       "  1252.13,1199.62 1273.72,1193.82 1295.32,1187.26 1316.92,1179.92 1338.52,1171.81 1360.12,1162.91 1381.72,1153.22 1403.32,1142.74 1424.92,1131.46 1446.51,1119.37 \n",
       "  1468.11,1106.49 1489.71,1092.79 1511.31,1078.29 1532.91,1062.98 1554.51,1046.86 1576.11,1029.94 1597.7,1012.22 1619.3,993.692 1640.9,974.373 1662.5,954.266 \n",
       "  1684.1,933.377 1705.7,911.715 1727.3,889.289 1748.9,866.11 1770.49,842.19 1792.09,817.541 1813.69,792.18 1835.29,766.121 1856.89,739.382 1878.49,711.982 \n",
       "  1900.09,683.941 1921.68,655.279 1943.28,626.02 1964.88,596.188 1986.48,565.807 2008.08,534.904 2029.68,503.506 2051.28,471.643 2072.88,439.343 2094.47,406.639 \n",
       "  2116.07,373.561 2137.67,340.143 2159.27,306.417 2180.87,272.419 2202.47,238.183 2224.07,203.744 2245.66,169.14 2267.26,134.405 2288.86,99.5781 2310.46,64.695 \n",
       "  \n",
       "  \"/>\n",
       "<polyline clip-path=\"url(#clip4103)\" style=\"stroke:#3da44d; stroke-width:4; stroke-opacity:1; fill:none\" points=\"\n",
       "  172.193,748.031 193.792,756.359 215.391,764.666 236.989,772.937 258.588,781.158 280.187,789.314 301.785,797.392 323.384,805.377 344.983,813.255 366.581,821.012 \n",
       "  388.18,828.635 409.779,836.109 431.377,843.421 452.976,850.557 474.575,857.504 496.173,864.249 517.772,870.778 539.371,877.079 560.969,883.139 582.568,888.946 \n",
       "  604.167,894.487 625.765,899.749 647.364,904.722 668.963,909.394 690.561,913.753 712.16,917.788 733.758,921.489 755.357,924.844 776.956,927.844 798.554,930.478 \n",
       "  820.153,932.738 841.752,934.613 863.35,936.095 884.949,937.175 906.548,937.845 928.146,938.096 949.745,937.922 971.344,937.315 992.942,936.269 1014.54,934.776 \n",
       "  1036.14,932.832 1057.74,930.43 1079.34,927.565 1100.94,924.233 1122.53,920.43 1144.13,916.151 1165.73,911.393 1187.33,906.153 1208.93,900.429 1230.53,894.219 \n",
       "  1252.13,887.521 1273.72,880.334 1295.32,872.658 1316.92,864.492 1338.52,855.837 1360.12,846.693 1381.72,837.063 1403.32,826.948 1424.92,816.35 1446.51,805.272 \n",
       "  1468.11,793.718 1489.71,781.691 1511.31,769.196 1532.91,756.238 1554.51,742.822 1576.11,728.953 1597.7,714.638 1619.3,699.884 1640.9,684.698 1662.5,669.088 \n",
       "  1684.1,653.062 1705.7,636.628 1727.3,619.797 1748.9,602.576 1770.49,584.977 1792.09,567.009 1813.69,548.684 1835.29,530.013 1856.89,511.007 1878.49,491.679 \n",
       "  1900.09,472.04 1921.68,452.103 1943.28,431.883 1964.88,411.391 1986.48,390.642 2008.08,369.649 2029.68,348.428 2051.28,326.992 2072.88,305.357 2094.47,283.538 \n",
       "  2116.07,261.549 2137.67,239.406 2159.27,217.126 2180.87,194.723 2202.47,172.215 2224.07,149.616 2245.66,126.943 2267.26,104.213 2288.86,81.4421 2310.46,58.6462 \n",
       "  \n",
       "  \"/>\n",
       "<polyline clip-path=\"url(#clip4103)\" style=\"stroke:#c271d2; stroke-width:4; stroke-opacity:1; fill:none\" points=\"\n",
       "  172.193,745.11 193.792,747.6 215.391,750.076 236.989,752.528 258.588,754.949 280.187,757.328 301.785,759.657 323.384,761.925 344.983,764.126 366.581,766.249 \n",
       "  388.18,768.285 409.779,770.226 431.377,772.064 452.976,773.788 474.575,775.392 496.173,776.866 517.772,778.203 539.371,779.394 560.969,780.431 582.568,781.306 \n",
       "  604.167,782.012 625.765,782.541 647.364,782.886 668.963,783.039 690.561,782.994 712.16,782.743 733.758,782.281 755.357,781.6 776.956,780.695 798.554,779.559 \n",
       "  820.153,778.187 841.752,776.572 863.35,774.711 884.949,772.597 906.548,770.226 928.146,767.594 949.745,764.695 971.344,761.526 992.942,758.083 1014.54,754.363 \n",
       "  1036.14,750.362 1057.74,746.077 1079.34,741.505 1100.94,736.644 1122.53,731.492 1144.13,726.047 1165.73,720.307 1187.33,714.271 1208.93,707.938 1230.53,701.308 \n",
       "  1252.13,694.379 1273.72,687.151 1295.32,679.626 1316.92,671.802 1338.52,663.682 1360.12,655.265 1381.72,646.554 1403.32,637.55 1424.92,628.254 1446.51,618.67 \n",
       "  1468.11,608.799 1489.71,598.644 1511.31,588.209 1532.91,577.496 1554.51,566.51 1576.11,555.254 1597.7,543.732 1619.3,531.949 1640.9,519.91 1662.5,507.619 \n",
       "  1684.1,495.082 1705.7,482.304 1727.3,469.291 1748.9,456.049 1770.49,442.584 1792.09,428.902 1813.69,415.01 1835.29,400.915 1856.89,386.624 1878.49,372.144 \n",
       "  1900.09,357.482 1921.68,342.647 1943.28,327.646 1964.88,312.487 1986.48,297.179 2008.08,281.728 2029.68,266.145 2051.28,250.437 2072.88,234.613 2094.47,218.682 \n",
       "  2116.07,202.653 2137.67,186.535 2159.27,170.337 2180.87,154.068 2202.47,137.738 2224.07,121.356 2245.66,104.931 2267.26,88.4727 2288.86,71.9908 2310.46,55.4946 \n",
       "  \n",
       "  \"/>\n",
       "<polyline clip-path=\"url(#clip4103)\" style=\"stroke:#ac8d18; stroke-width:4; stroke-opacity:1; fill:none\" points=\"\n",
       "  172.193,743.275 193.792,742.097 215.391,740.91 236.989,739.708 258.588,738.487 280.187,737.24 301.785,735.962 323.384,734.647 344.983,733.29 366.581,731.885 \n",
       "  388.18,730.426 409.779,728.909 431.377,727.328 452.976,725.677 474.575,723.952 496.173,722.146 517.772,720.256 539.371,718.276 560.969,716.201 582.568,714.026 \n",
       "  604.167,711.747 625.765,709.359 647.364,706.857 668.963,704.238 690.561,701.496 712.16,698.628 733.758,695.63 755.357,692.497 776.956,689.226 798.554,685.813 \n",
       "  820.153,682.255 841.752,678.548 863.35,674.69 884.949,670.676 906.548,666.505 928.146,662.173 949.745,657.677 971.344,653.017 992.942,648.188 1014.54,643.189 \n",
       "  1036.14,638.017 1057.74,632.673 1079.34,627.152 1100.94,621.455 1122.53,615.58 1144.13,609.525 1165.73,603.29 1187.33,596.874 1208.93,590.277 1230.53,583.498 \n",
       "  1252.13,576.537 1273.72,569.394 1295.32,562.069 1316.92,554.563 1338.52,546.875 1360.12,539.007 1381.72,530.96 1403.32,522.734 1424.92,514.331 1446.51,505.752 \n",
       "  1468.11,496.999 1489.71,488.074 1511.31,478.978 1532.91,469.714 1554.51,460.283 1576.11,450.689 1597.7,440.933 1619.3,431.019 1640.9,420.95 1662.5,410.728 \n",
       "  1684.1,400.357 1705.7,389.84 1727.3,379.18 1748.9,368.382 1770.49,357.449 1792.09,346.385 1813.69,335.193 1835.29,323.879 1856.89,312.446 1878.49,300.899 \n",
       "  1900.09,289.243 1921.68,277.481 1943.28,265.62 1964.88,253.663 1986.48,241.615 2008.08,229.482 2029.68,217.268 2051.28,204.98 2072.88,192.621 2094.47,180.198 \n",
       "  2116.07,167.716 2137.67,155.18 2159.27,142.595 2180.87,129.969 2202.47,117.305 2224.07,104.609 2245.66,91.8882 2267.26,79.1471 2288.86,66.3916 2310.46,53.6276 \n",
       "  \n",
       "  \"/>\n",
       "<polyline clip-path=\"url(#clip4103)\" style=\"stroke:#00a9ad; stroke-width:4; stroke-opacity:1; fill:none\" points=\"\n",
       "  172.193,742.148 193.792,738.716 215.391,735.279 236.989,731.833 258.588,728.375 280.187,724.901 301.785,721.408 323.384,717.892 344.983,714.351 366.581,710.781 \n",
       "  388.18,707.177 409.779,703.538 431.377,699.86 452.976,696.139 474.575,692.372 496.173,688.556 517.772,684.689 539.371,680.767 560.969,676.786 582.568,672.745 \n",
       "  604.167,668.639 625.765,664.468 647.364,660.226 668.963,655.913 690.561,651.525 712.16,647.059 733.758,642.514 755.357,637.887 776.956,633.175 798.554,628.376 \n",
       "  820.153,623.489 841.752,618.511 863.35,613.44 884.949,608.275 906.548,603.013 928.146,597.652 949.745,592.193 971.344,586.631 992.942,580.968 1014.54,575.2 \n",
       "  1036.14,569.327 1057.74,563.348 1079.34,557.262 1100.94,551.068 1122.53,544.765 1144.13,538.353 1165.73,531.831 1187.33,525.198 1208.93,518.455 1230.53,511.6 \n",
       "  1252.13,504.635 1273.72,497.558 1295.32,490.371 1316.92,483.072 1338.52,475.664 1360.12,468.145 1381.72,460.517 1403.32,452.78 1424.92,444.935 1446.51,436.982 \n",
       "  1468.11,428.924 1489.71,420.76 1511.31,412.493 1532.91,404.122 1554.51,395.651 1576.11,387.08 1597.7,378.41 1619.3,369.644 1640.9,360.783 1662.5,351.829 \n",
       "  1684.1,342.784 1705.7,333.651 1727.3,324.43 1748.9,315.126 1770.49,305.738 1792.09,296.272 1813.69,286.727 1835.29,277.108 1856.89,267.417 1878.49,257.656 \n",
       "  1900.09,247.828 1921.68,237.937 1943.28,227.984 1964.88,217.974 1986.48,207.908 2008.08,197.79 2029.68,187.624 2051.28,177.411 2072.88,167.156 2094.47,156.862 \n",
       "  2116.07,146.532 2137.67,136.169 2159.27,125.776 2180.87,115.358 2202.47,104.917 2224.07,94.4575 2245.66,83.9819 2267.26,73.4941 2288.86,62.9976 2310.46,52.4958 \n",
       "  \n",
       "  \"/>\n",
       "<polyline clip-path=\"url(#clip4103)\" style=\"stroke:#ed5d92; stroke-width:4; stroke-opacity:1; fill:none\" points=\"\n",
       "  172.193,741.459 193.792,736.65 215.391,731.838 236.989,727.02 258.588,722.195 280.187,717.36 301.785,712.513 323.384,707.653 344.983,702.777 366.581,697.883 \n",
       "  388.18,692.97 409.779,688.034 431.377,683.074 452.976,678.089 474.575,673.075 496.173,668.032 517.772,662.957 539.371,657.848 560.969,652.704 582.568,647.522 \n",
       "  604.167,642.302 625.765,637.041 647.364,631.738 668.963,626.39 690.561,620.997 712.16,615.557 733.758,610.068 755.357,604.529 776.956,598.939 798.554,593.295 \n",
       "  820.153,587.598 841.752,581.845 863.35,576.035 884.949,570.167 906.548,564.241 928.146,558.254 949.745,552.207 971.344,546.098 992.942,539.926 1014.54,533.691 \n",
       "  1036.14,527.392 1057.74,521.028 1079.34,514.599 1100.94,508.103 1122.53,501.542 1144.13,494.913 1165.73,488.218 1187.33,481.455 1208.93,474.624 1230.53,467.726 \n",
       "  1252.13,460.76 1273.72,453.726 1295.32,446.624 1316.92,439.455 1338.52,432.218 1360.12,424.915 1381.72,417.544 1403.32,410.107 1424.92,402.604 1446.51,395.036 \n",
       "  1468.11,387.403 1489.71,379.706 1511.31,371.946 1532.91,364.122 1554.51,356.237 1576.11,348.291 1597.7,340.286 1619.3,332.221 1640.9,324.098 1662.5,315.919 \n",
       "  1684.1,307.685 1705.7,299.396 1727.3,291.054 1748.9,282.66 1770.49,274.217 1792.09,265.725 1813.69,257.185 1835.29,248.6 1856.89,239.971 1878.49,231.3 \n",
       "  1900.09,222.588 1921.68,213.837 1943.28,205.048 1964.88,196.224 1986.48,187.367 2008.08,178.478 2029.68,169.559 2051.28,160.612 2072.88,151.639 2094.47,142.642 \n",
       "  2116.07,133.624 2137.67,124.585 2159.27,115.528 2180.87,106.456 2202.47,97.3698 2224.07,88.2719 2245.66,79.1646 2267.26,70.0498 2288.86,60.9296 2310.46,51.8063 \n",
       "  \n",
       "  \"/>\n",
       "<polyline clip-path=\"url(#clip4103)\" style=\"stroke:#c68125; stroke-width:4; stroke-opacity:1; fill:none\" points=\"\n",
       "  172.193,741.039 193.792,735.389 215.391,729.737 236.989,724.082 258.588,718.422 280.187,712.757 301.785,707.084 323.384,701.403 344.983,695.712 366.581,690.011 \n",
       "  388.18,684.297 409.779,678.57 431.377,672.828 452.976,667.071 474.575,661.296 496.173,655.503 517.772,649.691 539.371,643.858 560.969,638.004 582.568,632.127 \n",
       "  604.167,626.226 625.765,620.301 647.364,614.349 668.963,608.371 690.561,602.365 712.16,596.33 733.758,590.265 755.357,584.17 776.956,578.043 798.554,571.884 \n",
       "  820.153,565.692 841.752,559.466 863.35,553.205 884.949,546.909 906.548,540.578 928.146,534.209 949.745,527.804 971.344,521.361 992.942,514.879 1014.54,508.359 \n",
       "  1036.14,501.8 1057.74,495.201 1079.34,488.562 1100.94,481.884 1122.53,475.164 1144.13,468.404 1165.73,461.603 1187.33,454.761 1208.93,447.877 1230.53,440.952 \n",
       "  1252.13,433.986 1273.72,426.979 1295.32,419.93 1316.92,412.84 1338.52,405.708 1360.12,398.536 1381.72,391.323 1403.32,384.07 1424.92,376.776 1446.51,369.442 \n",
       "  1468.11,362.069 1489.71,354.657 1511.31,347.206 1532.91,339.717 1554.51,332.19 1576.11,324.626 1597.7,317.025 1619.3,309.389 1640.9,301.717 1662.5,294.011 \n",
       "  1684.1,286.27 1705.7,278.497 1727.3,270.691 1748.9,262.854 1770.49,254.987 1792.09,247.089 1813.69,239.163 1835.29,231.209 1856.89,223.228 1878.49,215.221 \n",
       "  1900.09,207.19 1921.68,199.134 1943.28,191.056 1964.88,182.956 1986.48,174.836 2008.08,166.697 2029.68,158.539 2051.28,150.364 2072.88,142.173 2094.47,133.968 \n",
       "  2116.07,125.749 2137.67,117.519 2159.27,109.277 2180.87,101.025 2202.47,92.7656 2224.07,84.4987 2245.66,76.2259 2267.26,67.9487 2288.86,59.6681 2310.46,51.3857 \n",
       "  \n",
       "  \"/>\n",
       "<polyline clip-path=\"url(#clip4103)\" style=\"stroke:#00a98d; stroke-width:4; stroke-opacity:1; fill:none\" points=\"\n",
       "  172.193,740.782 193.792,734.619 215.391,728.455 236.989,722.289 258.588,716.12 280.187,709.947 301.785,703.771 323.384,697.589 344.983,691.401 366.581,685.206 \n",
       "  388.18,679.004 409.779,672.794 431.377,666.575 452.976,660.347 474.575,654.108 496.173,647.857 517.772,641.595 539.371,635.321 560.969,629.033 582.568,622.732 \n",
       "  604.167,616.416 625.765,610.084 647.364,603.737 668.963,597.374 690.561,590.994 712.16,584.596 733.758,578.18 755.357,571.745 776.956,565.291 798.554,558.817 \n",
       "  820.153,552.323 841.752,545.809 863.35,539.273 884.949,532.716 906.548,526.137 928.146,519.536 949.745,512.912 971.344,506.265 992.942,499.594 1014.54,492.9 \n",
       "  1036.14,486.183 1057.74,479.441 1079.34,472.674 1100.94,465.883 1122.53,459.068 1144.13,452.227 1165.73,445.362 1187.33,438.471 1208.93,431.555 1230.53,424.615 \n",
       "  1252.13,417.648 1273.72,410.657 1295.32,403.64 1316.92,396.598 1338.52,389.532 1360.12,382.44 1381.72,375.323 1403.32,368.181 1424.92,361.015 1446.51,353.825 \n",
       "  1468.11,346.61 1489.71,339.372 1511.31,332.11 1532.91,324.825 1554.51,317.516 1576.11,310.185 1597.7,302.832 1619.3,295.457 1640.9,288.06 1662.5,280.642 \n",
       "  1684.1,273.203 1705.7,265.745 1727.3,258.266 1748.9,250.769 1770.49,243.252 1792.09,235.718 1813.69,228.166 1835.29,220.597 1856.89,213.012 1878.49,205.41 \n",
       "  1900.09,197.794 1921.68,190.163 1943.28,182.518 1964.88,174.861 1986.48,167.19 2008.08,159.508 2029.68,151.815 2051.28,144.111 2072.88,136.398 2094.47,128.675 \n",
       "  2116.07,120.945 2137.67,113.207 2159.27,105.462 2180.87,97.7118 2202.47,89.9563 2224.07,82.1963 2245.66,74.4329 2267.26,66.6666 2288.86,58.8984 2310.46,51.129 \n",
       "  \n",
       "  \"/>\n",
       "<polyline clip-path=\"url(#clip4103)\" style=\"stroke:#8e971d; stroke-width:4; stroke-opacity:1; fill:none\" points=\"\n",
       "  172.193,740.625 193.792,734.149 215.391,727.673 236.989,721.195 258.588,714.715 280.187,708.233 301.785,701.749 323.384,695.261 344.983,688.77 366.581,682.274 \n",
       "  388.18,675.775 409.779,669.27 431.377,662.76 452.976,656.243 474.575,649.721 496.173,643.192 517.772,636.655 539.371,630.111 560.969,623.559 582.568,616.998 \n",
       "  604.167,610.429 625.765,603.85 647.364,597.262 668.963,590.664 690.561,584.055 712.16,577.435 733.758,570.805 755.357,564.163 776.956,557.509 798.554,550.844 \n",
       "  820.153,544.166 841.752,537.475 863.35,530.772 884.949,524.055 906.548,517.325 928.146,510.582 949.745,503.824 971.344,497.053 992.942,490.267 1014.54,483.467 \n",
       "  1036.14,476.652 1057.74,469.823 1079.34,462.979 1100.94,456.12 1122.53,449.245 1144.13,442.356 1165.73,435.451 1187.33,428.531 1208.93,421.596 1230.53,414.645 \n",
       "  1252.13,407.679 1273.72,400.697 1295.32,393.7 1316.92,386.688 1338.52,379.66 1360.12,372.617 1381.72,365.559 1403.32,358.486 1424.92,351.398 1446.51,344.295 \n",
       "  1468.11,337.177 1489.71,330.045 1511.31,322.898 1532.91,315.737 1554.51,308.562 1576.11,301.373 1597.7,294.171 1619.3,286.955 1640.9,279.726 1662.5,272.484 \n",
       "  1684.1,265.23 1705.7,257.963 1727.3,250.684 1748.9,243.394 1770.49,236.092 1792.09,228.779 1813.69,221.455 1835.29,214.121 1856.89,206.777 1878.49,199.424 \n",
       "  1900.09,192.061 1921.68,184.689 1943.28,177.309 1964.88,169.92 1986.48,162.524 2008.08,155.121 2029.68,147.711 2051.28,140.295 2072.88,132.873 2094.47,125.445 \n",
       "  2116.07,118.013 2137.67,110.576 2159.27,103.135 2180.87,95.6899 2202.47,88.242 2224.07,80.7914 2245.66,73.3387 2267.26,65.8843 2288.86,58.4287 2310.46,50.9724 \n",
       "  \n",
       "  \"/>\n",
       "<polyline clip-path=\"url(#clip4103)\" style=\"stroke:#00a8cb; stroke-width:4; stroke-opacity:1; fill:none\" points=\"\n",
       "  172.193,740.38 193.792,733.414 215.391,726.448 236.989,719.482 258.588,712.515 280.187,705.549 301.785,698.583 323.384,691.617 344.983,684.651 366.581,677.685 \n",
       "  388.18,670.718 409.779,663.752 431.377,656.786 452.976,649.82 474.575,642.854 496.173,635.887 517.772,628.921 539.371,621.955 560.969,614.989 582.568,608.023 \n",
       "  604.167,601.056 625.765,594.09 647.364,587.124 668.963,580.158 690.561,573.192 712.16,566.225 733.758,559.259 755.357,552.293 776.956,545.327 798.554,538.361 \n",
       "  820.153,531.394 841.752,524.428 863.35,517.462 884.949,510.496 906.548,503.53 928.146,496.564 949.745,489.597 971.344,482.631 992.942,475.665 1014.54,468.699 \n",
       "  1036.14,461.733 1057.74,454.766 1079.34,447.8 1100.94,440.834 1122.53,433.868 1144.13,426.902 1165.73,419.935 1187.33,412.969 1208.93,406.003 1230.53,399.037 \n",
       "  1252.13,392.071 1273.72,385.104 1295.32,378.138 1316.92,371.172 1338.52,364.206 1360.12,357.24 1381.72,350.273 1403.32,343.307 1424.92,336.341 1446.51,329.375 \n",
       "  1468.11,322.409 1489.71,315.443 1511.31,308.476 1532.91,301.51 1554.51,294.544 1576.11,287.578 1597.7,280.612 1619.3,273.645 1640.9,266.679 1662.5,259.713 \n",
       "  1684.1,252.747 1705.7,245.781 1727.3,238.814 1748.9,231.848 1770.49,224.882 1792.09,217.916 1813.69,210.95 1835.29,203.983 1856.89,197.017 1878.49,190.051 \n",
       "  1900.09,183.085 1921.68,176.119 1943.28,169.152 1964.88,162.186 1986.48,155.22 2008.08,148.254 2029.68,141.288 2051.28,134.322 2072.88,127.355 2094.47,120.389 \n",
       "  2116.07,113.423 2137.67,106.457 2159.27,99.4905 2180.87,92.5243 2202.47,85.5582 2224.07,78.592 2245.66,71.6258 2267.26,64.6596 2288.86,57.6934 2310.46,50.7272 \n",
       "  \n",
       "  \"/>\n",
       "<polygon clip-path=\"url(#clip4101)\" points=\"\n",
       "1143.62,856.524 2249.26,856.524 2249.26,130.764 1143.62,130.764 \n",
       "  \" fill=\"#ffffff\" fill-rule=\"evenodd\" fill-opacity=\"1\"/>\n",
       "<polyline clip-path=\"url(#clip4101)\" style=\"stroke:#000000; stroke-width:4; stroke-opacity:1; fill:none\" points=\"\n",
       "  1143.62,856.524 2249.26,856.524 2249.26,130.764 1143.62,130.764 1143.62,856.524 \n",
       "  \"/>\n",
       "<polyline clip-path=\"url(#clip4101)\" style=\"stroke:#009af9; stroke-width:4; stroke-opacity:1; fill:none\" points=\"\n",
       "  1167.62,191.244 1311.62,191.244 \n",
       "  \"/>\n",
       "<g clip-path=\"url(#clip4101)\">\n",
       "<text style=\"fill:#000000; fill-opacity:1; font-family:Arial,Helvetica Neue,Helvetica,sans-serif; font-size:48px; text-anchor:start;\" transform=\"rotate(0, 1335.62, 208.744)\" x=\"1335.62\" y=\"208.744\">numerical at t=0.0004500000000000001</text>\n",
       "</g>\n",
       "<polyline clip-path=\"url(#clip4101)\" style=\"stroke:#e26f46; stroke-width:4; stroke-opacity:1; fill:none\" points=\"\n",
       "  1167.62,251.724 1311.62,251.724 \n",
       "  \"/>\n",
       "<g clip-path=\"url(#clip4101)\">\n",
       "<text style=\"fill:#000000; fill-opacity:1; font-family:Arial,Helvetica Neue,Helvetica,sans-serif; font-size:48px; text-anchor:start;\" transform=\"rotate(0, 1335.62, 269.224)\" x=\"1335.62\" y=\"269.224\">numerical at t=0.05005000000000092</text>\n",
       "</g>\n",
       "<polyline clip-path=\"url(#clip4101)\" style=\"stroke:#3da44d; stroke-width:4; stroke-opacity:1; fill:none\" points=\"\n",
       "  1167.62,312.204 1311.62,312.204 \n",
       "  \"/>\n",
       "<g clip-path=\"url(#clip4101)\">\n",
       "<text style=\"fill:#000000; fill-opacity:1; font-family:Arial,Helvetica Neue,Helvetica,sans-serif; font-size:48px; text-anchor:start;\" transform=\"rotate(0, 1335.62, 329.704)\" x=\"1335.62\" y=\"329.704\">numerical at t=0.10009999999999714</text>\n",
       "</g>\n",
       "<polyline clip-path=\"url(#clip4101)\" style=\"stroke:#c271d2; stroke-width:4; stroke-opacity:1; fill:none\" points=\"\n",
       "  1167.62,372.684 1311.62,372.684 \n",
       "  \"/>\n",
       "<g clip-path=\"url(#clip4101)\">\n",
       "<text style=\"fill:#000000; fill-opacity:1; font-family:Arial,Helvetica Neue,Helvetica,sans-serif; font-size:48px; text-anchor:start;\" transform=\"rotate(0, 1335.62, 390.184)\" x=\"1335.62\" y=\"390.184\">numerical at t=0.15014999999999162</text>\n",
       "</g>\n",
       "<polyline clip-path=\"url(#clip4101)\" style=\"stroke:#ac8d18; stroke-width:4; stroke-opacity:1; fill:none\" points=\"\n",
       "  1167.62,433.164 1311.62,433.164 \n",
       "  \"/>\n",
       "<g clip-path=\"url(#clip4101)\">\n",
       "<text style=\"fill:#000000; fill-opacity:1; font-family:Arial,Helvetica Neue,Helvetica,sans-serif; font-size:48px; text-anchor:start;\" transform=\"rotate(0, 1335.62, 450.664)\" x=\"1335.62\" y=\"450.664\">numerical at t=0.2001999999999861</text>\n",
       "</g>\n",
       "<polyline clip-path=\"url(#clip4101)\" style=\"stroke:#00a9ad; stroke-width:4; stroke-opacity:1; fill:none\" points=\"\n",
       "  1167.62,493.644 1311.62,493.644 \n",
       "  \"/>\n",
       "<g clip-path=\"url(#clip4101)\">\n",
       "<text style=\"fill:#000000; fill-opacity:1; font-family:Arial,Helvetica Neue,Helvetica,sans-serif; font-size:48px; text-anchor:start;\" transform=\"rotate(0, 1335.62, 511.144)\" x=\"1335.62\" y=\"511.144\">numerical at t=0.2502499999999806</text>\n",
       "</g>\n",
       "<polyline clip-path=\"url(#clip4101)\" style=\"stroke:#ed5d92; stroke-width:4; stroke-opacity:1; fill:none\" points=\"\n",
       "  1167.62,554.124 1311.62,554.124 \n",
       "  \"/>\n",
       "<g clip-path=\"url(#clip4101)\">\n",
       "<text style=\"fill:#000000; fill-opacity:1; font-family:Arial,Helvetica Neue,Helvetica,sans-serif; font-size:48px; text-anchor:start;\" transform=\"rotate(0, 1335.62, 571.624)\" x=\"1335.62\" y=\"571.624\">numerical at t=0.3002999999999751</text>\n",
       "</g>\n",
       "<polyline clip-path=\"url(#clip4101)\" style=\"stroke:#c68125; stroke-width:4; stroke-opacity:1; fill:none\" points=\"\n",
       "  1167.62,614.604 1311.62,614.604 \n",
       "  \"/>\n",
       "<g clip-path=\"url(#clip4101)\">\n",
       "<text style=\"fill:#000000; fill-opacity:1; font-family:Arial,Helvetica Neue,Helvetica,sans-serif; font-size:48px; text-anchor:start;\" transform=\"rotate(0, 1335.62, 632.104)\" x=\"1335.62\" y=\"632.104\">numerical at t=0.3503499999999696</text>\n",
       "</g>\n",
       "<polyline clip-path=\"url(#clip4101)\" style=\"stroke:#00a98d; stroke-width:4; stroke-opacity:1; fill:none\" points=\"\n",
       "  1167.62,675.084 1311.62,675.084 \n",
       "  \"/>\n",
       "<g clip-path=\"url(#clip4101)\">\n",
       "<text style=\"fill:#000000; fill-opacity:1; font-family:Arial,Helvetica Neue,Helvetica,sans-serif; font-size:48px; text-anchor:start;\" transform=\"rotate(0, 1335.62, 692.584)\" x=\"1335.62\" y=\"692.584\">numerical at t=0.40039999999996406</text>\n",
       "</g>\n",
       "<polyline clip-path=\"url(#clip4101)\" style=\"stroke:#8e971d; stroke-width:4; stroke-opacity:1; fill:none\" points=\"\n",
       "  1167.62,735.564 1311.62,735.564 \n",
       "  \"/>\n",
       "<g clip-path=\"url(#clip4101)\">\n",
       "<text style=\"fill:#000000; fill-opacity:1; font-family:Arial,Helvetica Neue,Helvetica,sans-serif; font-size:48px; text-anchor:start;\" transform=\"rotate(0, 1335.62, 753.064)\" x=\"1335.62\" y=\"753.064\">numerical at t=0.45044999999995855</text>\n",
       "</g>\n",
       "<polyline clip-path=\"url(#clip4101)\" style=\"stroke:#00a8cb; stroke-width:4; stroke-opacity:1; fill:none\" points=\"\n",
       "  1167.62,796.044 1311.62,796.044 \n",
       "  \"/>\n",
       "<g clip-path=\"url(#clip4101)\">\n",
       "<text style=\"fill:#000000; fill-opacity:1; font-family:Arial,Helvetica Neue,Helvetica,sans-serif; font-size:48px; text-anchor:start;\" transform=\"rotate(0, 1335.62, 813.544)\" x=\"1335.62\" y=\"813.544\">steady-state exact</text>\n",
       "</g>\n",
       "</svg>\n"
      ]
     },
     "execution_count": 17,
     "metadata": {},
     "output_type": "execute_result"
    }
   ],
   "source": [
    "nplot = 10\n",
    "plot(xcell.(i_c_int),uarray[10][i_c_int],xlim=(0,1),ylim=(0,2),label=string(\"numerical at t=\",tarray[10]),xlabel=\"x\")\n",
    "for j in ceil(Int,length(tarray)/nplot)+1:ceil(Int,length(tarray)/nplot):length(tarray)\n",
    "    plot!(xcell.(i_c_int),uarray[j][i_c_int],xlim=(0,1),ylim=(0,2),label=string(\"numerical at t=\",tarray[j]),xlabel=\"x\")\n",
    "end\n",
    "plot!(xcell.(i_c_int),uss_cell[i_c_int],label=\"steady-state exact\")"
   ]
  },
  {
   "cell_type": "markdown",
   "metadata": {
    "nbpresent": {
     "id": "417b3ea1-c3f4-4dcb-bb6f-aad7a589cac5"
    }
   },
   "source": [
    "#### Use a semi-implicit time marching method to solve on edges"
   ]
  },
  {
   "cell_type": "code",
   "execution_count": 18,
   "metadata": {
    "nbpresent": {
     "id": "e79b60dd-bf06-4468-9ada-d1d09c3fe022"
    }
   },
   "outputs": [],
   "source": [
    "u0 = HW3.EdgeData1D(N);\n",
    "#u0 = HW3.CellData1D(N);"
   ]
  },
  {
   "cell_type": "markdown",
   "metadata": {
    "nbpresent": {
     "id": "22cfe007-2ce6-480e-a609-e27d9b400010"
    }
   },
   "source": [
    "Set up time step and integrator"
   ]
  },
  {
   "cell_type": "code",
   "execution_count": 19,
   "metadata": {
    "nbpresent": {
     "id": "fbf752ff-a8db-4ec3-b2c8-364cc8328e70"
    }
   },
   "outputs": [
    {
     "data": {
      "text/plain": [
       "0.0001"
      ]
     },
     "execution_count": 19,
     "metadata": {},
     "output_type": "execute_result"
    }
   ],
   "source": [
    "Fo = 1 # Fourier number\n",
    "Δt = Fo*Δx^2/ν"
   ]
  },
  {
   "cell_type": "code",
   "execution_count": 20,
   "metadata": {
    "nbpresent": {
     "id": "cbeb072a-2b5e-4018-a741-6fbfcc0c7b4c"
    }
   },
   "outputs": [],
   "source": [
    "tf = 0.005\n",
    "nsteps = ceil(Int,tf/Δt)\n",
    "t = 0.0\n",
    "u = deepcopy(u0)\n",
    "uarray = [deepcopy(u)]\n",
    "tarray = [t]\n",
    "for j = 1:nsteps\n",
    "    t, u = diffuse1d_dirichlet_cn(t,u)\n",
    "    \n",
    "    push!(uarray,deepcopy(u))\n",
    "    push!(tarray,t)\n",
    "end"
   ]
  },
  {
   "cell_type": "code",
   "execution_count": 21,
   "metadata": {
    "nbpresent": {
     "id": "5f46ff29-9c76-4f61-9f32-2f91e247a84e"
    }
   },
   "outputs": [
    {
     "data": {
      "image/svg+xml": [
       "<?xml version=\"1.0\" encoding=\"utf-8\"?>\n",
       "<svg xmlns=\"http://www.w3.org/2000/svg\" xmlns:xlink=\"http://www.w3.org/1999/xlink\" width=\"600\" height=\"400\" viewBox=\"0 0 2400 1600\">\n",
       "<defs>\n",
       "  <clipPath id=\"clip4300\">\n",
       "    <rect x=\"0\" y=\"0\" width=\"2000\" height=\"2000\"/>\n",
       "  </clipPath>\n",
       "</defs>\n",
       "<defs>\n",
       "  <clipPath id=\"clip4301\">\n",
       "    <rect x=\"0\" y=\"0\" width=\"2400\" height=\"1600\"/>\n",
       "  </clipPath>\n",
       "</defs>\n",
       "<polygon clip-path=\"url(#clip4301)\" points=\"\n",
       "0,1600 2400,1600 2400,0 0,0 \n",
       "  \" fill=\"#ffffff\" fill-rule=\"evenodd\" fill-opacity=\"1\"/>\n",
       "<defs>\n",
       "  <clipPath id=\"clip4302\">\n",
       "    <rect x=\"480\" y=\"0\" width=\"1681\" height=\"1600\"/>\n",
       "  </clipPath>\n",
       "</defs>\n",
       "<polygon clip-path=\"url(#clip4301)\" points=\"\n",
       "161.394,1440.48 2321.26,1440.48 2321.26,47.2441 161.394,47.2441 \n",
       "  \" fill=\"#ffffff\" fill-rule=\"evenodd\" fill-opacity=\"1\"/>\n",
       "<defs>\n",
       "  <clipPath id=\"clip4303\">\n",
       "    <rect x=\"161\" y=\"47\" width=\"2161\" height=\"1394\"/>\n",
       "  </clipPath>\n",
       "</defs>\n",
       "<polyline clip-path=\"url(#clip4303)\" style=\"stroke:#000000; stroke-width:2; stroke-opacity:0.1; fill:none\" points=\"\n",
       "  161.394,1440.48 161.394,47.2441 \n",
       "  \"/>\n",
       "<polyline clip-path=\"url(#clip4303)\" style=\"stroke:#000000; stroke-width:2; stroke-opacity:0.1; fill:none\" points=\"\n",
       "  593.367,1440.48 593.367,47.2441 \n",
       "  \"/>\n",
       "<polyline clip-path=\"url(#clip4303)\" style=\"stroke:#000000; stroke-width:2; stroke-opacity:0.1; fill:none\" points=\"\n",
       "  1025.34,1440.48 1025.34,47.2441 \n",
       "  \"/>\n",
       "<polyline clip-path=\"url(#clip4303)\" style=\"stroke:#000000; stroke-width:2; stroke-opacity:0.1; fill:none\" points=\"\n",
       "  1457.31,1440.48 1457.31,47.2441 \n",
       "  \"/>\n",
       "<polyline clip-path=\"url(#clip4303)\" style=\"stroke:#000000; stroke-width:2; stroke-opacity:0.1; fill:none\" points=\"\n",
       "  1889.29,1440.48 1889.29,47.2441 \n",
       "  \"/>\n",
       "<polyline clip-path=\"url(#clip4303)\" style=\"stroke:#000000; stroke-width:2; stroke-opacity:0.1; fill:none\" points=\"\n",
       "  2321.26,1440.48 2321.26,47.2441 \n",
       "  \"/>\n",
       "<polyline clip-path=\"url(#clip4303)\" style=\"stroke:#000000; stroke-width:2; stroke-opacity:0.1; fill:none\" points=\"\n",
       "  161.394,1440.48 2321.26,1440.48 \n",
       "  \"/>\n",
       "<polyline clip-path=\"url(#clip4303)\" style=\"stroke:#000000; stroke-width:2; stroke-opacity:0.1; fill:none\" points=\"\n",
       "  161.394,1092.17 2321.26,1092.17 \n",
       "  \"/>\n",
       "<polyline clip-path=\"url(#clip4303)\" style=\"stroke:#000000; stroke-width:2; stroke-opacity:0.1; fill:none\" points=\"\n",
       "  161.394,743.863 2321.26,743.863 \n",
       "  \"/>\n",
       "<polyline clip-path=\"url(#clip4303)\" style=\"stroke:#000000; stroke-width:2; stroke-opacity:0.1; fill:none\" points=\"\n",
       "  161.394,395.554 2321.26,395.554 \n",
       "  \"/>\n",
       "<polyline clip-path=\"url(#clip4303)\" style=\"stroke:#000000; stroke-width:2; stroke-opacity:0.1; fill:none\" points=\"\n",
       "  161.394,47.2441 2321.26,47.2441 \n",
       "  \"/>\n",
       "<polyline clip-path=\"url(#clip4301)\" style=\"stroke:#000000; stroke-width:4; stroke-opacity:1; fill:none\" points=\"\n",
       "  161.394,1440.48 2321.26,1440.48 \n",
       "  \"/>\n",
       "<polyline clip-path=\"url(#clip4301)\" style=\"stroke:#000000; stroke-width:4; stroke-opacity:1; fill:none\" points=\"\n",
       "  161.394,1440.48 161.394,47.2441 \n",
       "  \"/>\n",
       "<polyline clip-path=\"url(#clip4301)\" style=\"stroke:#000000; stroke-width:4; stroke-opacity:1; fill:none\" points=\"\n",
       "  161.394,1440.48 161.394,1419.58 \n",
       "  \"/>\n",
       "<polyline clip-path=\"url(#clip4301)\" style=\"stroke:#000000; stroke-width:4; stroke-opacity:1; fill:none\" points=\"\n",
       "  593.367,1440.48 593.367,1419.58 \n",
       "  \"/>\n",
       "<polyline clip-path=\"url(#clip4301)\" style=\"stroke:#000000; stroke-width:4; stroke-opacity:1; fill:none\" points=\"\n",
       "  1025.34,1440.48 1025.34,1419.58 \n",
       "  \"/>\n",
       "<polyline clip-path=\"url(#clip4301)\" style=\"stroke:#000000; stroke-width:4; stroke-opacity:1; fill:none\" points=\"\n",
       "  1457.31,1440.48 1457.31,1419.58 \n",
       "  \"/>\n",
       "<polyline clip-path=\"url(#clip4301)\" style=\"stroke:#000000; stroke-width:4; stroke-opacity:1; fill:none\" points=\"\n",
       "  1889.29,1440.48 1889.29,1419.58 \n",
       "  \"/>\n",
       "<polyline clip-path=\"url(#clip4301)\" style=\"stroke:#000000; stroke-width:4; stroke-opacity:1; fill:none\" points=\"\n",
       "  2321.26,1440.48 2321.26,1419.58 \n",
       "  \"/>\n",
       "<polyline clip-path=\"url(#clip4301)\" style=\"stroke:#000000; stroke-width:4; stroke-opacity:1; fill:none\" points=\"\n",
       "  161.394,1440.48 193.792,1440.48 \n",
       "  \"/>\n",
       "<polyline clip-path=\"url(#clip4301)\" style=\"stroke:#000000; stroke-width:4; stroke-opacity:1; fill:none\" points=\"\n",
       "  161.394,1092.17 193.792,1092.17 \n",
       "  \"/>\n",
       "<polyline clip-path=\"url(#clip4301)\" style=\"stroke:#000000; stroke-width:4; stroke-opacity:1; fill:none\" points=\"\n",
       "  161.394,743.863 193.792,743.863 \n",
       "  \"/>\n",
       "<polyline clip-path=\"url(#clip4301)\" style=\"stroke:#000000; stroke-width:4; stroke-opacity:1; fill:none\" points=\"\n",
       "  161.394,395.554 193.792,395.554 \n",
       "  \"/>\n",
       "<polyline clip-path=\"url(#clip4301)\" style=\"stroke:#000000; stroke-width:4; stroke-opacity:1; fill:none\" points=\"\n",
       "  161.394,47.2441 193.792,47.2441 \n",
       "  \"/>\n",
       "<g clip-path=\"url(#clip4301)\">\n",
       "<text style=\"fill:#000000; fill-opacity:1; font-family:Arial,Helvetica Neue,Helvetica,sans-serif; font-size:48px; text-anchor:middle;\" transform=\"rotate(0, 161.394, 1494.48)\" x=\"161.394\" y=\"1494.48\">0.0</text>\n",
       "</g>\n",
       "<g clip-path=\"url(#clip4301)\">\n",
       "<text style=\"fill:#000000; fill-opacity:1; font-family:Arial,Helvetica Neue,Helvetica,sans-serif; font-size:48px; text-anchor:middle;\" transform=\"rotate(0, 593.367, 1494.48)\" x=\"593.367\" y=\"1494.48\">0.2</text>\n",
       "</g>\n",
       "<g clip-path=\"url(#clip4301)\">\n",
       "<text style=\"fill:#000000; fill-opacity:1; font-family:Arial,Helvetica Neue,Helvetica,sans-serif; font-size:48px; text-anchor:middle;\" transform=\"rotate(0, 1025.34, 1494.48)\" x=\"1025.34\" y=\"1494.48\">0.4</text>\n",
       "</g>\n",
       "<g clip-path=\"url(#clip4301)\">\n",
       "<text style=\"fill:#000000; fill-opacity:1; font-family:Arial,Helvetica Neue,Helvetica,sans-serif; font-size:48px; text-anchor:middle;\" transform=\"rotate(0, 1457.31, 1494.48)\" x=\"1457.31\" y=\"1494.48\">0.6</text>\n",
       "</g>\n",
       "<g clip-path=\"url(#clip4301)\">\n",
       "<text style=\"fill:#000000; fill-opacity:1; font-family:Arial,Helvetica Neue,Helvetica,sans-serif; font-size:48px; text-anchor:middle;\" transform=\"rotate(0, 1889.29, 1494.48)\" x=\"1889.29\" y=\"1494.48\">0.8</text>\n",
       "</g>\n",
       "<g clip-path=\"url(#clip4301)\">\n",
       "<text style=\"fill:#000000; fill-opacity:1; font-family:Arial,Helvetica Neue,Helvetica,sans-serif; font-size:48px; text-anchor:middle;\" transform=\"rotate(0, 2321.26, 1494.48)\" x=\"2321.26\" y=\"1494.48\">1.0</text>\n",
       "</g>\n",
       "<g clip-path=\"url(#clip4301)\">\n",
       "<text style=\"fill:#000000; fill-opacity:1; font-family:Arial,Helvetica Neue,Helvetica,sans-serif; font-size:48px; text-anchor:end;\" transform=\"rotate(0, 137.394, 1457.98)\" x=\"137.394\" y=\"1457.98\">0.0</text>\n",
       "</g>\n",
       "<g clip-path=\"url(#clip4301)\">\n",
       "<text style=\"fill:#000000; fill-opacity:1; font-family:Arial,Helvetica Neue,Helvetica,sans-serif; font-size:48px; text-anchor:end;\" transform=\"rotate(0, 137.394, 1109.67)\" x=\"137.394\" y=\"1109.67\">0.5</text>\n",
       "</g>\n",
       "<g clip-path=\"url(#clip4301)\">\n",
       "<text style=\"fill:#000000; fill-opacity:1; font-family:Arial,Helvetica Neue,Helvetica,sans-serif; font-size:48px; text-anchor:end;\" transform=\"rotate(0, 137.394, 761.363)\" x=\"137.394\" y=\"761.363\">1.0</text>\n",
       "</g>\n",
       "<g clip-path=\"url(#clip4301)\">\n",
       "<text style=\"fill:#000000; fill-opacity:1; font-family:Arial,Helvetica Neue,Helvetica,sans-serif; font-size:48px; text-anchor:end;\" transform=\"rotate(0, 137.394, 413.054)\" x=\"137.394\" y=\"413.054\">1.5</text>\n",
       "</g>\n",
       "<g clip-path=\"url(#clip4301)\">\n",
       "<text style=\"fill:#000000; fill-opacity:1; font-family:Arial,Helvetica Neue,Helvetica,sans-serif; font-size:48px; text-anchor:end;\" transform=\"rotate(0, 137.394, 64.7441)\" x=\"137.394\" y=\"64.7441\">2.0</text>\n",
       "</g>\n",
       "<g clip-path=\"url(#clip4301)\">\n",
       "<text style=\"fill:#000000; fill-opacity:1; font-family:Arial,Helvetica Neue,Helvetica,sans-serif; font-size:66px; text-anchor:middle;\" transform=\"rotate(0, 1241.33, 1590.4)\" x=\"1241.33\" y=\"1590.4\">x</text>\n",
       "</g>\n",
       "<polyline clip-path=\"url(#clip4303)\" style=\"stroke:#009af9; stroke-width:4; stroke-opacity:1; fill:none\" points=\"\n",
       "  161.394,743.863 182.993,799.372 204.591,854.328 226.19,908.193 247.789,960.463 269.387,1010.68 290.986,1058.44 312.585,1103.42 334.183,1145.35 355.782,1184.06 \n",
       "  377.381,1219.43 398.979,1251.43 420.578,1280.1 442.177,1305.53 463.775,1327.85 485.374,1347.27 506.973,1363.98 528.571,1378.22 550.17,1390.24 571.769,1400.29 \n",
       "  593.367,1408.6 614.966,1415.42 636.565,1420.94 658.163,1425.38 679.762,1428.92 701.36,1431.7 722.959,1433.87 744.558,1435.55 766.156,1436.84 787.755,1437.81 \n",
       "  809.354,1438.54 830.952,1439.08 852.551,1439.48 874.15,1439.78 895.748,1439.99 917.347,1440.14 938.946,1440.24 960.544,1440.32 982.143,1440.37 1003.74,1440.41 \n",
       "  1025.34,1440.43 1046.94,1440.45 1068.54,1440.46 1090.14,1440.47 1111.73,1440.47 1133.33,1440.48 1154.93,1440.48 1176.53,1440.48 1198.13,1440.48 1219.73,1440.48 \n",
       "  1241.33,1440.48 1262.93,1440.48 1284.52,1440.48 1306.12,1440.48 1327.72,1440.48 1349.32,1440.47 1370.92,1440.46 1392.52,1440.46 1414.12,1440.44 1435.71,1440.42 \n",
       "  1457.31,1440.38 1478.91,1440.33 1500.51,1440.26 1522.11,1440.16 1543.71,1440.01 1565.31,1439.79 1586.91,1439.49 1608.5,1439.07 1630.1,1438.48 1651.7,1437.68 \n",
       "  1673.3,1436.6 1694.9,1435.14 1716.5,1433.19 1738.1,1430.62 1759.69,1427.26 1781.29,1422.92 1802.89,1417.35 1824.49,1410.28 1846.09,1401.4 1867.69,1390.35 \n",
       "  1889.29,1376.73 1910.89,1360.1 1932.48,1340 1954.08,1315.96 1975.68,1287.47 1997.28,1254.05 2018.88,1215.22 2040.48,1170.57 2062.08,1119.72 2083.67,1062.38 \n",
       "  2105.27,998.376 2126.87,927.634 2148.47,850.225 2170.07,766.36 2191.67,676.404 2213.27,580.878 2234.87,480.444 2256.46,375.904 2278.06,268.174 2299.66,158.262 \n",
       "  2321.26,47.2441 \n",
       "  \"/>\n",
       "<polyline clip-path=\"url(#clip4303)\" style=\"stroke:#e26f46; stroke-width:4; stroke-opacity:1; fill:none\" points=\"\n",
       "  161.394,743.863 182.993,736.897 204.591,729.931 226.19,722.965 247.789,715.999 269.387,709.032 290.986,702.066 312.585,695.1 334.183,688.134 355.782,681.168 \n",
       "  377.381,674.201 398.979,667.235 420.578,660.269 442.177,653.303 463.775,646.337 485.374,639.37 506.973,632.404 528.571,625.438 550.17,618.472 571.769,611.506 \n",
       "  593.367,604.539 614.966,597.573 636.565,590.607 658.163,583.641 679.762,576.675 701.36,569.709 722.959,562.742 744.558,555.776 766.156,548.81 787.755,541.844 \n",
       "  809.354,534.878 830.952,527.911 852.551,520.945 874.15,513.979 895.748,507.013 917.347,500.047 938.946,493.08 960.544,486.114 982.143,479.148 1003.74,472.182 \n",
       "  1025.34,465.216 1046.94,458.249 1068.54,451.283 1090.14,444.317 1111.73,437.351 1133.33,430.385 1154.93,423.418 1176.53,416.452 1198.13,409.486 1219.73,402.52 \n",
       "  1241.33,395.554 1262.93,388.588 1284.52,381.621 1306.12,374.655 1327.72,367.689 1349.32,360.723 1370.92,353.757 1392.52,346.79 1414.12,339.824 1435.71,332.858 \n",
       "  1457.31,325.892 1478.91,318.926 1500.51,311.959 1522.11,304.993 1543.71,298.027 1565.31,291.061 1586.91,284.095 1608.5,277.128 1630.1,270.162 1651.7,263.196 \n",
       "  1673.3,256.23 1694.9,249.264 1716.5,242.297 1738.1,235.331 1759.69,228.365 1781.29,221.399 1802.89,214.433 1824.49,207.467 1846.09,200.5 1867.69,193.534 \n",
       "  1889.29,186.568 1910.89,179.602 1932.48,172.636 1954.08,165.669 1975.68,158.703 1997.28,151.737 2018.88,144.771 2040.48,137.805 2062.08,130.838 2083.67,123.872 \n",
       "  2105.27,116.906 2126.87,109.94 2148.47,102.974 2170.07,96.0074 2191.67,89.0412 2213.27,82.0751 2234.87,75.1089 2256.46,68.1427 2278.06,61.1765 2299.66,54.2103 \n",
       "  2321.26,47.2441 \n",
       "  \"/>\n",
       "<polygon clip-path=\"url(#clip4301)\" points=\"\n",
       "1571.82,312.204 2249.26,312.204 2249.26,130.764 1571.82,130.764 \n",
       "  \" fill=\"#ffffff\" fill-rule=\"evenodd\" fill-opacity=\"1\"/>\n",
       "<polyline clip-path=\"url(#clip4301)\" style=\"stroke:#000000; stroke-width:4; stroke-opacity:1; fill:none\" points=\"\n",
       "  1571.82,312.204 2249.26,312.204 2249.26,130.764 1571.82,130.764 1571.82,312.204 \n",
       "  \"/>\n",
       "<polyline clip-path=\"url(#clip4301)\" style=\"stroke:#009af9; stroke-width:4; stroke-opacity:1; fill:none\" points=\"\n",
       "  1595.82,191.244 1739.82,191.244 \n",
       "  \"/>\n",
       "<g clip-path=\"url(#clip4301)\">\n",
       "<text style=\"fill:#000000; fill-opacity:1; font-family:Arial,Helvetica Neue,Helvetica,sans-serif; font-size:48px; text-anchor:start;\" transform=\"rotate(0, 1763.82, 208.744)\" x=\"1763.82\" y=\"208.744\">numerical at t=0.005</text>\n",
       "</g>\n",
       "<polyline clip-path=\"url(#clip4301)\" style=\"stroke:#e26f46; stroke-width:4; stroke-opacity:1; fill:none\" points=\"\n",
       "  1595.82,251.724 1739.82,251.724 \n",
       "  \"/>\n",
       "<g clip-path=\"url(#clip4301)\">\n",
       "<text style=\"fill:#000000; fill-opacity:1; font-family:Arial,Helvetica Neue,Helvetica,sans-serif; font-size:48px; text-anchor:start;\" transform=\"rotate(0, 1763.82, 269.224)\" x=\"1763.82\" y=\"269.224\">steady-state exact</text>\n",
       "</g>\n",
       "</svg>\n"
      ]
     },
     "execution_count": 21,
     "metadata": {},
     "output_type": "execute_result"
    }
   ],
   "source": [
    "plot(xedge.(i_e),uarray[end][i_e],xlim=(0,1),ylim=(0,2),label=string(\"numerical at t=\",tarray[end]),xlabel=\"x\")\n",
    "plot!(xedge.(i_e),uss_edge,label=\"steady-state exact\")\n",
    "#plot(xcell.(i_c_int),uarray[end][i_c_int],xlim=(0,1),ylim=(0,2),label=\"numerical\",xlabel=\"x\")\n",
    "#plot!(xcell.(i_c_int),uss_cell[i_c_int],label=\"steady-state exact\")"
   ]
  },
  {
   "cell_type": "code",
   "execution_count": null,
   "metadata": {},
   "outputs": [],
   "source": []
  }
 ],
 "metadata": {
  "kernelspec": {
   "display_name": "Julia 1.1.0",
   "language": "julia",
   "name": "julia-1.1"
  },
  "language_info": {
   "file_extension": ".jl",
   "mimetype": "application/julia",
   "name": "julia",
   "version": "1.1.0"
  }
 },
 "nbformat": 4,
 "nbformat_minor": 2
}
